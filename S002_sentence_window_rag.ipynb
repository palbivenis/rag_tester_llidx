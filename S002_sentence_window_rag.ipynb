{
 "cells": [
  {
   "cell_type": "markdown",
   "metadata": {},
   "source": [
    "### Sentence Window Retriever ###\n",
    "- Embed each sentence for retrieval\n",
    "- Send a \"window\" of surrounding sentences for generation\n",
    "- Supported Strategies\n",
    "    - S002_00 -> Sentence Window\n",
    "    - S001_01 -> Sentence Window  + Rereank"
   ]
  },
  {
   "cell_type": "code",
   "execution_count": 1,
   "metadata": {},
   "outputs": [],
   "source": [
    "# Fetch API keys from config.py\n",
    "import os\n",
    "from config import set_environment \n",
    "set_environment()\n",
    "\n",
    "import logging\n",
    "import sys\n",
    "\n",
    "#logging.basicConfig(stream=sys.stdout, level=logging.INFO)\n",
    "#logging.getLogger().addHandler(logging.StreamHandler(stream=sys.stdout))\n",
    "\n",
    "# Only for notebook\n",
    "import nest_asyncio\n",
    "nest_asyncio.apply()"
   ]
  },
  {
   "cell_type": "code",
   "execution_count": 2,
   "metadata": {},
   "outputs": [],
   "source": [
    "from llama_index.core import Settings\n",
    "from llama_index.core import SimpleDirectoryReader\n",
    "from llama_index.core import VectorStoreIndex\n",
    "from llama_index.core.node_parser import SentenceWindowNodeParser\n",
    "from llama_index.core.node_parser import SentenceSplitter\n",
    "from llama_index.core.postprocessor import MetadataReplacementPostProcessor\n",
    "from llama_index.core.postprocessor import SimilarityPostprocessor\n",
    "from llama_index.postprocessor.cohere_rerank import CohereRerank\n",
    "\n",
    "from llama_index.llms.openai import OpenAI\n",
    "from llama_index.embeddings.openai import OpenAIEmbedding\n",
    "\n",
    "from llama_index.llms.cohere import Cohere\n",
    "from llama_index.embeddings.cohere import CohereEmbedding\n",
    "\n",
    "from datetime import datetime\n",
    "import pandas as pd"
   ]
  },
  {
   "cell_type": "markdown",
   "metadata": {},
   "source": [
    "Choose the model for generation"
   ]
  },
  {
   "cell_type": "code",
   "execution_count": 3,
   "metadata": {},
   "outputs": [],
   "source": [
    "generation_llm_family = os.environ[\"GENERATION_LLM_FAMILY\"]\n",
    "generation_llm_model = os.environ[\"GENERATION_LLM_MODEL\"]\n",
    "\n",
    "if generation_llm_family == \"OPENAI\":\n",
    "    Settings.llm = OpenAI(temperature=0, model=generation_llm_model)\n",
    "elif generation_llm_family == \"COHERE\":\n",
    "    Settings.llm = Cohere(api_key=os.environ[\"COHERE_API_KEY\"], model=generation_llm_model,temperature=0)"
   ]
  },
  {
   "cell_type": "markdown",
   "metadata": {},
   "source": [
    "Choose the model for embedding"
   ]
  },
  {
   "cell_type": "code",
   "execution_count": 4,
   "metadata": {},
   "outputs": [],
   "source": [
    "embedding_llm_family = os.environ[\"EMBEDDING_LLM_FAMILY\"]\n",
    "embedding_llm_model = os.environ[\"EMBEDDING_LLM_MODEL\"]\n",
    "\n",
    "if embedding_llm_family == \"OPENAI\":\n",
    "    Settings.embed_model = OpenAIEmbedding(model=embedding_llm_model,dimensions=512,)\n",
    "elif embedding_llm_family == \"COHERE\":\n",
    "    Settings.embed_model = CohereEmbedding(\n",
    "    cohere_api_key=os.environ[\"COHERE_API_KEY\"],\n",
    "    model_name=embedding_llm_model,\n",
    "    input_type=\"search_query\",\n",
    ")"
   ]
  },
  {
   "cell_type": "markdown",
   "metadata": {},
   "source": [
    "Set the parameters for the run here"
   ]
  },
  {
   "cell_type": "code",
   "execution_count": 5,
   "metadata": {},
   "outputs": [],
   "source": [
    "eval_name = os.environ[\"EVAL_NAME\"]\n",
    "eval_directory = os.environ[\"EVAL_DIRECTORY\"]\n",
    "eval_file = os.environ[\"EVAL_FILE\"]\n",
    "eval_questions = os.environ[\"EVAL_QUESTIONS\"]\n",
    "eval_results_dir = os.environ[\"EVAL_RESULTS_DIR\"]\n",
    "eval_quick_test = os.environ[\"EVAL_QUICK_TEST\"]\n",
    "\n",
    "rag_strategy = os.environ[\"RAG_STRATEGY\"]\n",
    "\n",
    "similarity_top_k = int(os.environ[\"SIMILARITY_TOP_K\"])\n",
    "\n",
    "# Context Post Processor Settings\n",
    "similarity_cutoff = float(os.environ[\"SIMILARITY_CUTOFF\"])\n",
    "\n",
    "# Node Parser\n",
    "window_size = int(os.environ[\"WINDOW_SIZE\"])"
   ]
  },
  {
   "cell_type": "markdown",
   "metadata": {},
   "source": [
    "Pick the strategy"
   ]
  },
  {
   "cell_type": "code",
   "execution_count": 6,
   "metadata": {},
   "outputs": [],
   "source": [
    "if rag_strategy == \"S002_00\":\n",
    "    rag_strategy_desc = \"SWindow_Basic\"\n",
    "    run_id = f\"{eval_name}_{rag_strategy}_GM_{generation_llm_model}_EM_{embedding_llm_model}_W_{window_size}_K_{similarity_top_k}_{datetime.today().strftime('%Y-%m-%d')}\"\n",
    "elif rag_strategy == \"S002_01\": \n",
    "    rag_strategy_desc = \"SWindow_Rerank\"\n",
    "    reranker = os.environ[\"RERANKER\"]\n",
    "    rerank_top_n = int(os.environ[\"RERANK_TOP_N\"])\n",
    "    run_id = f\"{eval_name}_{rag_strategy}_GM_{generation_llm_model}_EM_{embedding_llm_model}_W_{window_size}_K_{similarity_top_k}_RR_{reranker}_N_{rerank_top_n}_{datetime.today().strftime('%Y-%m-%d')}\"\n",
    "\n",
    "output_file = f\"{eval_results_dir}/{run_id}.xlsx\""
   ]
  },
  {
   "cell_type": "markdown",
   "metadata": {},
   "source": [
    "Set up Token Counting"
   ]
  },
  {
   "cell_type": "code",
   "execution_count": 8,
   "metadata": {},
   "outputs": [],
   "source": [
    "import tiktoken\n",
    "from llama_index.core.callbacks import CallbackManager, TokenCountingHandler\n",
    "\n",
    "token_counter = TokenCountingHandler(\n",
    "    tokenizer=tiktoken.encoding_for_model(\"gpt-4\").encode\n",
    ")\n",
    "\n",
    "Settings.callback_manager = CallbackManager([token_counter])\n",
    "tokencount_df = pd.DataFrame()"
   ]
  },
  {
   "cell_type": "markdown",
   "metadata": {},
   "source": [
    "Read the documents, create chunks, calculate embeddings, store in a vector database"
   ]
  },
  {
   "cell_type": "code",
   "execution_count": 9,
   "metadata": {},
   "outputs": [
    {
     "data": {
      "application/vnd.jupyter.widget-view+json": {
       "model_id": "fc315b4bb77740c48b189d37e19b92c2",
       "version_major": 2,
       "version_minor": 0
      },
      "text/plain": [
       "Generating embeddings:   0%|          | 0/812 [00:00<?, ?it/s]"
      ]
     },
     "metadata": {},
     "output_type": "display_data"
    }
   ],
   "source": [
    "# create the sentence window node parser w/ default settings\n",
    "node_parser = SentenceWindowNodeParser.from_defaults(\n",
    "    window_size=window_size,\n",
    "    window_metadata_key=\"window\",\n",
    "    original_text_metadata_key=\"original_text\",\n",
    ")\n",
    "\n",
    "# base node parser is a sentence splitter\n",
    "text_splitter = SentenceSplitter()\n",
    "Settings.text_splitter = text_splitter\n",
    "\n",
    "documents = SimpleDirectoryReader(eval_directory).load_data()\n",
    "nodes = node_parser.get_nodes_from_documents(documents)\n",
    "sentence_index = VectorStoreIndex(nodes,show_progress=True)"
   ]
  },
  {
   "cell_type": "code",
   "execution_count": 10,
   "metadata": {},
   "outputs": [],
   "source": [
    "tokencount_df['document_tokens'] = [token_counter.total_embedding_token_count]\n",
    "token_counter.reset_counts()"
   ]
  },
  {
   "cell_type": "markdown",
   "metadata": {},
   "source": [
    "Set up retrieval and response generation"
   ]
  },
  {
   "cell_type": "code",
   "execution_count": 11,
   "metadata": {},
   "outputs": [],
   "source": [
    "if rag_strategy ==\"S002_00\":\n",
    "    node_postprocessors = [\n",
    "        MetadataReplacementPostProcessor(target_metadata_key=\"window\")\n",
    "    ]\n",
    "elif rag_strategy == \"S002_01\":\n",
    "    cohere_rerank = CohereRerank(api_key=os.environ[\"COHERE_API_KEY\"], top_n=rerank_top_n)\n",
    "    node_postprocessors = [\n",
    "        MetadataReplacementPostProcessor(target_metadata_key=\"window\"), cohere_rerank\n",
    "    ]\n",
    "\n",
    "query_engine = sentence_index.as_query_engine(\n",
    "    similarity_top_k= similarity_top_k,\n",
    "    # the target key defaults to `window` to match the node_parser's default\n",
    "    node_postprocessors=node_postprocessors,\n",
    ")\n"
   ]
  },
  {
   "cell_type": "markdown",
   "metadata": {},
   "source": [
    "Quick test of query engine"
   ]
  },
  {
   "cell_type": "code",
   "execution_count": 12,
   "metadata": {},
   "outputs": [
    {
     "name": "stdout",
     "output_type": "stream",
     "text": [
      "Question:My disabled daughter is 28 years old. Is she covered?\n",
      "\n",
      "Response:\n",
      "Your daughter would not be considered a covered family member under the ITPEU Health and Welfare Plan. According to the information provided, a covered family member is a relative who is below the age of 26, or above the age of 26 but incapable of self-support due to physical or developmental disabilities, and only if their incapacity began before they reached the age of 26. Since your daughter is 28 years old, she doesn't meet the requirements for coverage.\n",
      "\n",
      "**Node ID:** 3f421cad-13dd-424f-a466-503ea834faa1\n",
      "**Similarity:** 0.7927853\n",
      "**Text:** ITPEU Benefits > Health & Welfare Plan > The Health and Welfare Plan > Part III: Plan Document\n",
      "https://itpeubenefits.org/Health-Welfare-Plan/The-Health-and-Welfare-Plan/Part-III-Plan-Document[4/3/2024 1:33:35 PM]Event.\n",
      " (c) If a second Qualifying Event (for example, a death or divorce) takes place within the 18 month\n",
      "maximum coverage period following the termination of employment or reduction of weekly workschedule the original 18 month period of Continuation of Coverage may be expanded to 36 months\n",
      "following the date of the original Qualifying Event (the termination of employment or reduction in\n",
      "weekly work schedule) for those individuals who were Covered Family Members as of the time of thefirst Qualifying Event and remain covered by the Fund at the time of the second Qualifying Event.  In\n",
      "no event shall Continuation of Coverage exceed 36 months in total.\n",
      " (d) If Continuation of Coverage is provided for 18 months due to termination of employment or\n",
      "reduction in hours and the Participant is determined by the Social Security Administration within 18\n",
      "months of the Qualifying Event to have been disabled as of the date the Participant would have lostcoverage under the Plan in the absence of self-payments, the Continuation of Coverage may be\n",
      "extended from 18 to 29 months or until the Participant recovers from the disability, if sooner.\n",
      " (e) Notwithstanding an election to continue coverage for the 18 month or 36 month periods\n",
      "described above, an Employee’s or the Covered Family Member's right to Continuation of Coverage\n",
      "shall terminate on such date as:\n",
      "(1) The Fund ceases to provide any medical, vision, dental or prescription drug benefits to any active\n",
      "Employees; or\n",
      "(2) An Employee or Covered Family Member fails to make timely payment of the premium required\n",
      "of such Employee or Covered Family Member;\n",
      "(3) An individual receiving Continuation of Coverage becomes eligible for Medicare; or\n",
      "(4) The Employee or Covered Family Member becomes covered under another group health care\n",
      "plan because of a new job or marriage.\n",
      " In the event of such early termination of Continuation of Coverage the Fund office shall send a notice\n",
      "to the affected Employee or Covered Family Member as soon as practicable after the determination\n",
      "to terminate Continuation of Coverage, informing the Employee or Covered Family Member of:\n",
      "The reason for the termination;\n",
      "The effective date of the termination; and\n",
      "Any right to elect alternative coverage.\n",
      " 15.06 Cost to Employee or Covered Family Member for Continuation of Coverage.\n",
      " (1) The Trustees, in conjunction with the Fund actuary, shall calculate the cost of providing coverage\n",
      "for an Employee and/or his or her Covered Family Members for medical care benefits only and for\n",
      "medical, vision, dental and prescription drug benefits together.  The amount of the premium payableby the Employee and/or his or her Covered Family Members shall be 102% of such cost calculated\n",
      "by the Trustees and Fund actuary. \n",
      "\n",
      "------------------\n",
      "***Original Sentence***:\n",
      " (d) If Continuation of Coverage is provided for 18 months due to termination of employment or\n",
      "reduction in hours and the Participant is determined by the Social Security Administration within 18\n",
      "months of the Qualifying Event to have been disabled as of the date the Participant would have lostcoverage under the Plan in the absence of self-payments, the Continuation of Coverage may be\n",
      "extended from 18 to 29 months or until the Participant recovers from the disability, if sooner.\n",
      "\n",
      "------------------\n",
      "***Window***:\n",
      "ITPEU Benefits > Health & Welfare Plan > The Health and Welfare Plan > Part III: Plan Document\n",
      "https://itpeubenefits.org/Health-Welfare-Plan/The-Health-and-Welfare-Plan/Part-III-Plan-Document[4/3/2024 1:33:35 PM]Event.\n",
      " (c) If a second Qualifying Event (for example, a death or divorce) takes place within the 18 month\n",
      "maximum coverage period following the termination of employment or reduction of weekly workschedule the original 18 month period of Continuation of Coverage may be expanded to 36 months\n",
      "following the date of the original Qualifying Event (the termination of employment or reduction in\n",
      "weekly work schedule) for those individuals who were Covered Family Members as of the time of thefirst Qualifying Event and remain covered by the Fund at the time of the second Qualifying Event.  In\n",
      "no event shall Continuation of Coverage exceed 36 months in total.\n",
      " (d) If Continuation of Coverage is provided for 18 months due to termination of employment or\n",
      "reduction in hours and the Participant is determined by the Social Security Administration within 18\n",
      "months of the Qualifying Event to have been disabled as of the date the Participant would have lostcoverage under the Plan in the absence of self-payments, the Continuation of Coverage may be\n",
      "extended from 18 to 29 months or until the Participant recovers from the disability, if sooner.\n",
      " (e) Notwithstanding an election to continue coverage for the 18 month or 36 month periods\n",
      "described above, an Employee’s or the Covered Family Member's right to Continuation of Coverage\n",
      "shall terminate on such date as:\n",
      "(1) The Fund ceases to provide any medical, vision, dental or prescription drug benefits to any active\n",
      "Employees; or\n",
      "(2) An Employee or Covered Family Member fails to make timely payment of the premium required\n",
      "of such Employee or Covered Family Member;\n",
      "(3) An individual receiving Continuation of Coverage becomes eligible for Medicare; or\n",
      "(4) The Employee or Covered Family Member becomes covered under another group health care\n",
      "plan because of a new job or marriage.\n",
      " In the event of such early termination of Continuation of Coverage the Fund office shall send a notice\n",
      "to the affected Employee or Covered Family Member as soon as practicable after the determination\n",
      "to terminate Continuation of Coverage, informing the Employee or Covered Family Member of:\n",
      "The reason for the termination;\n",
      "The effective date of the termination; and\n",
      "Any right to elect alternative coverage.\n",
      " 15.06 Cost to Employee or Covered Family Member for Continuation of Coverage.\n",
      " (1) The Trustees, in conjunction with the Fund actuary, shall calculate the cost of providing coverage\n",
      "for an Employee and/or his or her Covered Family Members for medical care benefits only and for\n",
      "medical, vision, dental and prescription drug benefits together.  The amount of the premium payableby the Employee and/or his or her Covered Family Members shall be 102% of such cost calculated\n",
      "by the Trustees and Fund actuary. \n",
      "~~~~\n",
      "**Node ID:** 3b41aa68-c7dd-4c7c-a650-e40aced36acf\n",
      "**Similarity:** 0.7234072\n",
      "**Text:** ITPEU Benefits > Health & Welfare Plan > The Health and Welfare Plan > Part III: Plan Document\n",
      "https://itpeubenefits.org/Health-Welfare-Plan/The-Health-and-Welfare-Plan/Part-III-Plan-Document[4/3/2024 1:33:35 PM]the Fund shall send written Notice to the Employees of the delinquent Employer, informing them that\n",
      "payment of their benefits, and the benefits of their covered family members, will be suspended in 30\n",
      "days due to lack of payment by their Employer unless the Employer pays off the delinquency within\n",
      "that 30 day period.    Such Notice shall state the actual date of such suspension.   Copies of suchNotice shall be sent to the Employer, and the applicable Contracting Officer and DOL Wage& Hour\n",
      "Area Director.  In addition, a separate letter, with copies to the Employer and affected Employees,\n",
      "will be sent by the Fund to the applicable Contracting Officer and Wage & Hour Area Director,advising of the delinquency and resulting suspensions of benefits.\n",
      "  (b) Coverage of an eligible child terminates automatically when the child attains 26 years of age. \n",
      " Coverage of a disabled child over 26ceases if the child is found to be no longer totally permanently\n",
      "disabled.  Coverage of the spouse of an Employee terminates automatically as of the date of divorce\n",
      "or death.   Coverage of all Covered Family Members of an Employee terminates automatically as ofthe date of death of the Employee. \n",
      " 2.06 Time That Claim is Incurred.  The Plan shall pay benefits for eligible Employees and their\n",
      "eligible Covered Family Members for all claims incurred during a period of eligibility.  A claim shall be\n",
      "considered \"incurred\" under the following circumstances:\n",
      "A. A claim for hospital benefits is incurred on the date the Employee or Covered Family Member\n",
      "enters a hospital;\n",
      "B. A claim for weekly accident and sickness benefit is incurred on the first date of disability if it is\n",
      "caused by a non-job related accident or on the fourth day of disability if it is brought about by a non-\n",
      "job related illness;\n",
      "C. A claim for death benefits or accidental death or dismemberment benefits is incurred on the date\n",
      "of death or dismemberment;\n",
      "D. Any other claim for benefits is incurred on the date the service in question is rendered.\n",
      "\n",
      "\n",
      "------------------\n",
      "***Original Sentence***:\n",
      " Coverage of a disabled child over 26ceases if the child is found to be no longer totally permanently\n",
      "disabled. \n",
      "------------------\n",
      "***Window***:\n",
      "ITPEU Benefits > Health & Welfare Plan > The Health and Welfare Plan > Part III: Plan Document\n",
      "https://itpeubenefits.org/Health-Welfare-Plan/The-Health-and-Welfare-Plan/Part-III-Plan-Document[4/3/2024 1:33:35 PM]the Fund shall send written Notice to the Employees of the delinquent Employer, informing them that\n",
      "payment of their benefits, and the benefits of their covered family members, will be suspended in 30\n",
      "days due to lack of payment by their Employer unless the Employer pays off the delinquency within\n",
      "that 30 day period.    Such Notice shall state the actual date of such suspension.   Copies of suchNotice shall be sent to the Employer, and the applicable Contracting Officer and DOL Wage& Hour\n",
      "Area Director.  In addition, a separate letter, with copies to the Employer and affected Employees,\n",
      "will be sent by the Fund to the applicable Contracting Officer and Wage & Hour Area Director,advising of the delinquency and resulting suspensions of benefits.\n",
      "  (b) Coverage of an eligible child terminates automatically when the child attains 26 years of age. \n",
      " Coverage of a disabled child over 26ceases if the child is found to be no longer totally permanently\n",
      "disabled.  Coverage of the spouse of an Employee terminates automatically as of the date of divorce\n",
      "or death.   Coverage of all Covered Family Members of an Employee terminates automatically as ofthe date of death of the Employee. \n",
      " 2.06 Time That Claim is Incurred.  The Plan shall pay benefits for eligible Employees and their\n",
      "eligible Covered Family Members for all claims incurred during a period of eligibility.  A claim shall be\n",
      "considered \"incurred\" under the following circumstances:\n",
      "A. A claim for hospital benefits is incurred on the date the Employee or Covered Family Member\n",
      "enters a hospital;\n",
      "B. A claim for weekly accident and sickness benefit is incurred on the first date of disability if it is\n",
      "caused by a non-job related accident or on the fourth day of disability if it is brought about by a non-\n",
      "job related illness;\n",
      "C. A claim for death benefits or accidental death or dismemberment benefits is incurred on the date\n",
      "of death or dismemberment;\n",
      "D. Any other claim for benefits is incurred on the date the service in question is rendered.\n",
      "\n",
      "~~~~\n",
      "**Node ID:** d746b5a2-1020-4e52-b95c-53e9b8dd41ec\n",
      "**Similarity:** 0.46047086\n",
      "**Text:** The term \"Contributions\" shall mean the payments required to be made to the\n",
      "Fund by an Employer pursuant to a Collective Bargaining Agreement or applicable Federal Law.\n",
      " 1.06 Covered Family Member.  The term \" Covered Family Member \" shall mean any of the\n",
      "following:A. The Spouse of an Employee provided that a person shall not be considered a Spouse of an\n",
      "Employee if that person is either divorced from the Employee, legally separated from the Employee\n",
      "or has not resided with the Employee for one year or more prior to the date any benefit specified inthis Plan becomes due.\n",
      " B. A child of an Employee, or for whom an Employee has been appointed legal guardian or custodian\n",
      "by a court of competent authority, from date of birth to the age of 26.\n",
      " C. A child of an Employee, or for whom an Employee has been appointed legal guardian or custodian\n",
      "by a court of competent authority, regardless of age, who is incapable of self support because of\n",
      "physical and/or developmental disability, and who is dependent upon the Employee for support.\n",
      " Such a child shall be eligible for Covered Family Member benefits provided that he or she became aCovered Family Member under this Plan and his or her incapacity began before he or she reached\n",
      "the age of 26 years.    Proof of such a child's incapacity may be required by the Board of Trustees no\n",
      "later than 31 days after the child reaches the age limit in question.   Proof of the continued existence\n",
      "of such incapacity may be required by the Board of Trustees from time to time.\n",
      " D. The term “Covered Child” shall include all persons specified in Subsections B and C hereof, and\n",
      "any step-child of an Employee for whom coverage was provided by the Plan prior to December 31,\n",
      "2010.   It shall not include step-children who are not covered by the Plan as of December 31,\n",
      "2010.  It shall not include step-children who were not covered by the Plan during the periodDecember 31, 2010 through December 31, 2015. \n",
      "\n",
      "------------------\n",
      "***Original Sentence***:\n",
      " Such a child shall be eligible for Covered Family Member benefits provided that he or she became aCovered Family Member under this Plan and his or her incapacity began before he or she reached\n",
      "the age of 26 years.   \n",
      "------------------\n",
      "***Window***:\n",
      "The term \"Contributions\" shall mean the payments required to be made to the\n",
      "Fund by an Employer pursuant to a Collective Bargaining Agreement or applicable Federal Law.\n",
      " 1.06 Covered Family Member.  The term \" Covered Family Member \" shall mean any of the\n",
      "following:A. The Spouse of an Employee provided that a person shall not be considered a Spouse of an\n",
      "Employee if that person is either divorced from the Employee, legally separated from the Employee\n",
      "or has not resided with the Employee for one year or more prior to the date any benefit specified inthis Plan becomes due.\n",
      " B. A child of an Employee, or for whom an Employee has been appointed legal guardian or custodian\n",
      "by a court of competent authority, from date of birth to the age of 26.\n",
      " C. A child of an Employee, or for whom an Employee has been appointed legal guardian or custodian\n",
      "by a court of competent authority, regardless of age, who is incapable of self support because of\n",
      "physical and/or developmental disability, and who is dependent upon the Employee for support.\n",
      " Such a child shall be eligible for Covered Family Member benefits provided that he or she became aCovered Family Member under this Plan and his or her incapacity began before he or she reached\n",
      "the age of 26 years.    Proof of such a child's incapacity may be required by the Board of Trustees no\n",
      "later than 31 days after the child reaches the age limit in question.   Proof of the continued existence\n",
      "of such incapacity may be required by the Board of Trustees from time to time.\n",
      " D. The term “Covered Child” shall include all persons specified in Subsections B and C hereof, and\n",
      "any step-child of an Employee for whom coverage was provided by the Plan prior to December 31,\n",
      "2010.   It shall not include step-children who are not covered by the Plan as of December 31,\n",
      "2010.  It shall not include step-children who were not covered by the Plan during the periodDecember 31, 2010 through December 31, 2015. \n",
      "~~~~\n",
      "\n"
     ]
    }
   ],
   "source": [
    "response = query_engine.query(eval_quick_test)\n",
    "print(f\"Question:{eval_quick_test}{chr(10)}\")\n",
    "print(f\"Response:{chr(10)}{response.response}{chr(10)}\")\n",
    "\n",
    "text_md = \"\"\n",
    "text_wd = \"\"\n",
    "\n",
    "for n in response.source_nodes:\n",
    "\n",
    "    window = n.node.metadata[\"window\"]\n",
    "    sentence = n.node.metadata[\"original_text\"]\n",
    "    \n",
    "    text_md += (\n",
    "        f\"**Node ID:** {n.node.node_id}{chr(10)}\"\n",
    "        f\"**Similarity:** {n.score}{chr(10)}\"\n",
    "        f\"**Text:** {n.node.get_content()}{chr(10)}\"\n",
    "        f\"{chr(10)}------------------{chr(10)}\"\n",
    "        f\"***Original Sentence***:{chr(10)} {sentence}\"\n",
    "        f\"{chr(10)}------------------{chr(10)}\"\n",
    "        f\"***Window***:{chr(10)}{window}{chr(10)}\"\n",
    "        f\"~~~~{chr(10)}\"\n",
    "    )\n",
    "      \n",
    "    \n",
    "print(text_md)"
   ]
  },
  {
   "cell_type": "markdown",
   "metadata": {},
   "source": [
    "- Read the evalution question set (along with expected answers)\n",
    "- This is structured in Llamaindex's format for batch evaluations\n",
    "- Also, load into a data frame (which we will write back to an excel file with responses, evaluations etc.)"
   ]
  },
  {
   "cell_type": "code",
   "execution_count": 13,
   "metadata": {},
   "outputs": [],
   "source": [
    "with open(eval_questions, 'r') as file:\n",
    "    data = pd.read_json(file)\n",
    "     \n",
    "    queries_df = pd.DataFrame(list(data['queries'].items()), columns=['query_num', 'query'])\n",
    "    responses_df = pd.DataFrame(list(data['responses'].items()), columns=['query_num', 'expected_answer'])\n",
    "    \n",
    "    responses_df = pd.merge(queries_df, responses_df, on='query_num')"
   ]
  },
  {
   "cell_type": "code",
   "execution_count": 14,
   "metadata": {},
   "outputs": [],
   "source": [
    "from llama_index.core.evaluation.eval_utils import (\n",
    "    get_responses,\n",
    ")\n",
    "from llama_index.core.evaluation import QueryResponseDataset"
   ]
  },
  {
   "cell_type": "markdown",
   "metadata": {},
   "source": [
    "Send questions to engine in bulk"
   ]
  },
  {
   "cell_type": "code",
   "execution_count": 15,
   "metadata": {},
   "outputs": [
    {
     "name": "stderr",
     "output_type": "stream",
     "text": [
      "c:\\Users\\sthan\\anaconda3\\Lib\\site-packages\\llama_index\\core\\evaluation\\dataset_generation.py:109: DeprecationWarning: Call to deprecated class QueryResponseDataset. (Deprecated in favor of `LabelledRagDataset` which should be used instead.)\n",
      "  return cls(**data)\n",
      "100%|██████████| 6/6 [00:03<00:00,  1.65it/s]\n"
     ]
    }
   ],
   "source": [
    "eval_dataset = QueryResponseDataset.from_json(eval_questions)\n",
    "eval_qs = eval_dataset.questions\n",
    "ref_response_strs = [r for (_, r) in eval_dataset.qr_pairs]\n",
    "pred_responses = get_responses(\n",
    "    eval_qs, query_engine, show_progress=True\n",
    ")\n",
    "pred_response_strs = [str(p) for p in pred_responses]"
   ]
  },
  {
   "cell_type": "code",
   "execution_count": 16,
   "metadata": {},
   "outputs": [],
   "source": [
    "from typing import List, Optional, Tuple\n",
    "def get_answers_source_nodes(responses)->Tuple[list, list]:\n",
    "\n",
    "    answers = []\n",
    "    sources = []\n",
    "        \n",
    "    for response in responses:\n",
    "        answers.append(response.response)\n",
    "        text_md = \"\"\n",
    "        \n",
    "        for n in response.source_nodes:\n",
    "            window = n.node.metadata[\"window\"]\n",
    "            sentence = n.node.metadata[\"original_text\"]\n",
    "\n",
    "            text_md += (\n",
    "            f\"**Node ID:** {n.node.node_id}{chr(10)}\"\n",
    "            f\"**Similarity:** {n.score}{chr(10)}\"\n",
    "            f\"**Text:** {n.node.get_content()}{chr(10)}\"\n",
    "            f\"{chr(10)}------------------{chr(10)}\"\n",
    "            f\"***Original Sentence***:{chr(10)} {sentence}\"\n",
    "            f\"{chr(10)}------------------{chr(10)}\"\n",
    "            f\"***Window***:{chr(10)}{window}{chr(10)}\"\n",
    "            f\"~~~~{chr(10)}\"\n",
    "    )\n",
    "\n",
    "        sources.append(text_md)\n",
    "    \n",
    "    return answers, sources"
   ]
  },
  {
   "cell_type": "code",
   "execution_count": 17,
   "metadata": {},
   "outputs": [],
   "source": [
    "answers, sources = get_answers_source_nodes(pred_responses)\n",
    "\n",
    "responses_df['generated_answer'] = answers\n",
    "\n",
    "sources_df = pd.DataFrame()\n",
    "sources_df['query_num'] = responses_df['query_num']\n",
    "sources_df['query'] = responses_df['query']\n",
    "sources_df = sources_df.join(pd.DataFrame(sources)[0].str.split(\"~~~~\", expand=True))\n",
    "\n",
    "tokencount_df['answer_tokens' ] = [token_counter.total_llm_token_count]\n",
    "token_counter.reset_counts()"
   ]
  },
  {
   "cell_type": "code",
   "execution_count": 18,
   "metadata": {},
   "outputs": [],
   "source": [
    "with pd.ExcelWriter(output_file) as writer:\n",
    "   responses_df.to_excel(writer, sheet_name=\"Responses\", index=False)\n",
    "   sources_df.to_excel(writer, sheet_name=\"Sources\", index=False)\n",
    "   tokencount_df.to_excel(writer, sheet_name=\"Token Counts\", index=False)"
   ]
  },
  {
   "cell_type": "markdown",
   "metadata": {},
   "source": [
    "Choose the LLM for evaluations"
   ]
  },
  {
   "cell_type": "code",
   "execution_count": 19,
   "metadata": {},
   "outputs": [],
   "source": [
    "evaluation_llm_family = os.environ[\"EVALUATION_LLM_FAMILY\"]\n",
    "evaluation_llm_model = os.environ[\"EVALUATION_LLM_MODEL\"]\n",
    "\n",
    "if evaluation_llm_family == \"OPENAI\":\n",
    "    Settings.eval_llm = OpenAI(temperature=0, model=evaluation_llm_model)\n",
    "elif evaluation_llm_family == \"COHERE\":\n",
    "    Settings.eval_llm = Cohere(api_key=os.environ[\"COHERE_API_KEY\"], model=evaluation_llm_model, temperature=0)"
   ]
  },
  {
   "cell_type": "markdown",
   "metadata": {},
   "source": [
    "Setup Evaluations"
   ]
  },
  {
   "cell_type": "code",
   "execution_count": 20,
   "metadata": {},
   "outputs": [
    {
     "name": "stderr",
     "output_type": "stream",
     "text": [
      "c:\\Users\\sthan\\anaconda3\\Lib\\site-packages\\deepeval\\__init__.py:41: UserWarning: You are using deepeval version 0.21.13, however version 0.21.24 is available. You should consider upgrading via the \"pip install --upgrade deepeval\" command.\n",
      "  warnings.warn(\n"
     ]
    }
   ],
   "source": [
    "from llama_index.core.evaluation import QueryResponseDataset\n",
    "#import random\n",
    "\n",
    "from llama_index.core.evaluation.eval_utils import (\n",
    "    get_responses,\n",
    ")\n",
    "from llama_index.core.evaluation import BatchEvalRunner\n",
    "\n",
    "from llama_index.core.evaluation import (\n",
    "    CorrectnessEvaluator,\n",
    ")\n",
    "\n",
    "from deepeval.integrations.llama_index import (\n",
    "    DeepEvalAnswerRelevancyEvaluator,\n",
    "    DeepEvalFaithfulnessEvaluator,\n",
    "    DeepEvalContextualRelevancyEvaluator,\n",
    "    DeepEvalBiasEvaluator,\n",
    "    DeepEvalToxicityEvaluator,\n",
    ")"
   ]
  },
  {
   "cell_type": "code",
   "execution_count": 21,
   "metadata": {},
   "outputs": [],
   "source": [
    "eval_lidx_c = CorrectnessEvaluator(llm=Settings.eval_llm)\n",
    "eval_deval_f = DeepEvalFaithfulnessEvaluator(threshold=0.5, model=evaluation_llm_model,include_reason=True)\n",
    "eval_deval_ar = DeepEvalAnswerRelevancyEvaluator( threshold=0.5, model=evaluation_llm_model,include_reason=True)\n",
    "eval_deval_cr = DeepEvalContextualRelevancyEvaluator(threshold=0.5, model=evaluation_llm_model,include_reason=True)\n",
    "eval_deval_b = DeepEvalBiasEvaluator(threshold=0.5, model=evaluation_llm_model,include_reason=True)\n",
    "eval_deval_t = DeepEvalToxicityEvaluator(threshold=0.5, model=evaluation_llm_model,include_reason=True)"
   ]
  },
  {
   "cell_type": "code",
   "execution_count": 22,
   "metadata": {},
   "outputs": [],
   "source": [
    "# For large eval sets (30+ questions)\n",
    "evaluator_dict_essential = {\n",
    "    \"Correctness\": eval_lidx_c,\n",
    "    \"Faithfulness\": eval_deval_f\n",
    "}\n",
    "\n",
    "# For troubleshooting \n",
    "evaluator_dict_extended = {\n",
    "    \"Correctness\": eval_lidx_c,\n",
    "    \"Faithfulness\": eval_deval_f,\n",
    "    \"Context_Relevancy\": eval_deval_cr\n",
    "}\n",
    "\n",
    "# For small sets (< 10 questions)\n",
    "evaluator_dict_full = {\n",
    "    \"Correctness\": eval_lidx_c,\n",
    "    \"Faithfulness\": eval_deval_f,\n",
    "    \"Answer_Relevancy\": eval_deval_ar,\n",
    "    \"Context_Relevancy\": eval_deval_cr,\n",
    "    \"Bias\": eval_deval_b,\n",
    "    \"Toxicity\": eval_deval_t ,\n",
    "}\n",
    "\n",
    "# Pick the list of evaluators to run\n",
    "evaluator_dict = evaluator_dict_essential\n",
    "\n",
    "# Make sure this list matches the chosenevaluator_dict \n",
    "evaluators = [\"Correctness\", \"Faithfulness\" ] \n",
    "\n",
    "batch_runner = BatchEvalRunner(evaluator_dict, workers=8)"
   ]
  },
  {
   "cell_type": "code",
   "execution_count": 23,
   "metadata": {},
   "outputs": [
    {
     "data": {
      "application/vnd.jupyter.widget-view+json": {
       "model_id": "be657a6731b34a7997dacd1dbc93136e",
       "version_major": 2,
       "version_minor": 0
      },
      "text/plain": [
       "Output()"
      ]
     },
     "metadata": {},
     "output_type": "display_data"
    },
    {
     "data": {
      "application/vnd.jupyter.widget-view+json": {
       "model_id": "ff290790aee9428fbbb456facab87b20",
       "version_major": 2,
       "version_minor": 0
      },
      "text/plain": [
       "Output()"
      ]
     },
     "metadata": {},
     "output_type": "display_data"
    },
    {
     "data": {
      "application/vnd.jupyter.widget-view+json": {
       "model_id": "f8937f7dad9f4b64b8f24a511d0dd0a2",
       "version_major": 2,
       "version_minor": 0
      },
      "text/plain": [
       "Output()"
      ]
     },
     "metadata": {},
     "output_type": "display_data"
    },
    {
     "data": {
      "application/vnd.jupyter.widget-view+json": {
       "model_id": "79c03867398f4bd7abbe07f9932892e1",
       "version_major": 2,
       "version_minor": 0
      },
      "text/plain": [
       "Output()"
      ]
     },
     "metadata": {},
     "output_type": "display_data"
    },
    {
     "data": {
      "application/vnd.jupyter.widget-view+json": {
       "model_id": "52771464af1049eca6c093bb0c79ea40",
       "version_major": 2,
       "version_minor": 0
      },
      "text/plain": [
       "Output()"
      ]
     },
     "metadata": {},
     "output_type": "display_data"
    },
    {
     "data": {
      "application/vnd.jupyter.widget-view+json": {
       "model_id": "5566ffcf68cf42fa876b4e406c7c3136",
       "version_major": 2,
       "version_minor": 0
      },
      "text/plain": [
       "Output()"
      ]
     },
     "metadata": {},
     "output_type": "display_data"
    }
   ],
   "source": [
    "eval_results = await batch_runner.aevaluate_responses(\n",
    "    queries=eval_qs,\n",
    "    responses=pred_responses,\n",
    "    reference=ref_response_strs,\n",
    ")"
   ]
  },
  {
   "cell_type": "code",
   "execution_count": 24,
   "metadata": {},
   "outputs": [],
   "source": [
    "from evaluation_utils import get_eval_results_df, get_summary_scores_df"
   ]
  },
  {
   "cell_type": "code",
   "execution_count": 25,
   "metadata": {},
   "outputs": [],
   "source": [
    "mean_df, sum_df = get_summary_scores_df(\n",
    "    [eval_results ],\n",
    "    [rag_strategy],\n",
    "    evaluators\n",
    ")"
   ]
  },
  {
   "cell_type": "code",
   "execution_count": 26,
   "metadata": {},
   "outputs": [],
   "source": [
    "if \"Correctness\" in evaluators:\n",
    "    correctness_df = get_eval_results_df(\n",
    "        list(responses_df['query_num']),\n",
    "        list(responses_df['expected_answer']),\n",
    "        eval_results[\"Correctness\"]\n",
    "    )\n",
    "    responses_df['correctness'] = correctness_df['score']\n",
    "\n",
    "if \"Faithfulness\" in evaluators:\n",
    "    faithfulness_df = get_eval_results_df(\n",
    "        list(responses_df['query_num']),\n",
    "        list(responses_df['expected_answer']),\n",
    "        eval_results[\"Faithfulness\"]\n",
    "    )\n",
    "    responses_df['faithfulness'] = faithfulness_df['score']\n",
    "\n",
    "if \"Answer_Relevancy\" in evaluators:\n",
    "    answer_relevancy_df = get_eval_results_df(\n",
    "        list(responses_df['query_num']),\n",
    "        list(responses_df['expected_answer']),\n",
    "        eval_results[\"Answer_Relevancy\"]\n",
    "    )\n",
    "    responses_df['answer_relevancy'] = answer_relevancy_df['score']\n",
    "\n",
    "if \"Context_Relevancy\" in evaluators:\n",
    "    context_relevancy_df = get_eval_results_df(\n",
    "        list(responses_df['query_num']),\n",
    "        list(responses_df['expected_answer']),\n",
    "        eval_results[\"Context_Relevancy\"]\n",
    "    )\n",
    "    responses_df['context_relevancy'] = context_relevancy_df['score']\n",
    "\n",
    "if \"Bias\" in evaluators:\n",
    "    bias_df = get_eval_results_df(\n",
    "        list(responses_df['query_num']),\n",
    "        list(responses_df['expected_answer']),\n",
    "        eval_results[\"Bias\"]\n",
    "    )\n",
    "    responses_df['bias'] = bias_df['score']\n",
    "\n",
    "if \"Toxicity\" in evaluators:\n",
    "    toxicity_df = get_eval_results_df(\n",
    "        list(responses_df['query_num']),\n",
    "        list(responses_df['expected_answer']),\n",
    "        eval_results[\"Toxicity\"]\n",
    "    )\n",
    "    responses_df['toxicity'] = toxicity_df['score']"
   ]
  },
  {
   "cell_type": "code",
   "execution_count": 27,
   "metadata": {},
   "outputs": [],
   "source": [
    "responses_df['rag_strategy'] = rag_strategy\n",
    "responses_df['rag_strategy_desc'] = rag_strategy_desc\n",
    "responses_df['parameter_1'] = window_size\n",
    "responses_df['parameter_2'] = similarity_top_k\n",
    "if rag_strategy ==\"S002_00\":\n",
    "   responses_df['parameter_3'] = \"\"\n",
    "elif rag_strategy == \"S002_01\":\n",
    "    responses_df['parameter_3'] = rerank_top_n\n",
    "responses_df['parameter_4'] = \"\"\n",
    "responses_df['parameter_5'] = \"\"\n",
    "responses_df['model'] = generation_llm_model \n",
    "responses_df['embed_model'] = embedding_llm_model \n",
    "responses_df['eval_model'] = evaluation_llm_model\n",
    "if rag_strategy ==\"S002_00\":\n",
    "   responses_df['reranker'] = \"\"\n",
    "elif rag_strategy == \"S002_01\":\n",
    "    responses_df['reranker'] = reranker\n",
    "responses_df['run_date'] = datetime.today().strftime('%Y-%m-%d') \n",
    "responses_df['eval_name'] = eval_name"
   ]
  },
  {
   "cell_type": "code",
   "execution_count": 28,
   "metadata": {},
   "outputs": [],
   "source": [
    "tokencount_df['eval_tokens' ] = [token_counter.total_llm_token_count]\n",
    "token_counter.reset_counts()"
   ]
  },
  {
   "cell_type": "code",
   "execution_count": 29,
   "metadata": {},
   "outputs": [],
   "source": [
    "with pd.ExcelWriter(output_file) as writer:\n",
    "    responses_df.to_excel(writer, sheet_name=\"Responses\", index=False)\n",
    "    sources_df.to_excel(writer, sheet_name=\"Sources\", index=False)\n",
    "    \n",
    "    sum_df.to_excel(writer, sheet_name=\"Summary\", index=False, startrow=0 , startcol=0)\n",
    "    mean_df.to_excel(writer, sheet_name=\"Summary\", index=False,startrow=5, startcol=0)\n",
    "   \n",
    "  \n",
    "    if \"Correctness\" in evaluators:\n",
    "        correctness_df.to_excel(writer, sheet_name=\"Correctness\", index=False)\n",
    "    \n",
    "    if \"Faithfulness\" in evaluators:\n",
    "        faithfulness_df.to_excel(writer, sheet_name=\"Faithfulness\", index=False)\n",
    "\n",
    "    if \"Context_Relevancy\" in evaluators:\n",
    "        context_relevancy_df.to_excel(writer, sheet_name=\"Context_Relevancy\", index=False)\n",
    "    \n",
    "    if \"Answer_Relevancy\" in evaluators:\n",
    "        answer_relevancy_df.to_excel(writer, sheet_name=\"Answer_Relevancy\", index=False)\n",
    "\n",
    "    if \"Bias\" in evaluators:\n",
    "        bias_df.to_excel(writer, sheet_name=\"Bias\", index=False)\n",
    "\n",
    "    if \"Toxicity\" in evaluators:\n",
    "        toxicity_df.to_excel(writer, sheet_name=\"Toxicity\", index=False)\n",
    "    \n",
    "    tokencount_df.to_excel(writer, sheet_name=\"Token Counts\", index=False)"
   ]
  },
  {
   "cell_type": "code",
   "execution_count": null,
   "metadata": {},
   "outputs": [],
   "source": []
  },
  {
   "cell_type": "code",
   "execution_count": null,
   "metadata": {},
   "outputs": [],
   "source": []
  }
 ],
 "metadata": {
  "kernelspec": {
   "display_name": "base",
   "language": "python",
   "name": "python3"
  },
  "language_info": {
   "codemirror_mode": {
    "name": "ipython",
    "version": 3
   },
   "file_extension": ".py",
   "mimetype": "text/x-python",
   "name": "python",
   "nbconvert_exporter": "python",
   "pygments_lexer": "ipython3",
   "version": "3.11.5"
  }
 },
 "nbformat": 4,
 "nbformat_minor": 2
}
