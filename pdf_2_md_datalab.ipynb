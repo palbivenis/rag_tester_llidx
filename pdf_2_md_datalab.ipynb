{
 "cells": [
  {
   "cell_type": "code",
   "execution_count": 1,
   "metadata": {},
   "outputs": [],
   "source": [
    "import os\n",
    "from config import set_environment\n",
    "set_environment()"
   ]
  },
  {
   "cell_type": "code",
   "execution_count": 2,
   "metadata": {},
   "outputs": [],
   "source": [
    "import requests\n",
    "\n",
    "url = \"https://www.datalab.to/api/v1/marker\"\n",
    "filename = \"F:/rag_sdk/datasets/alb_non_union_ben/files/pdf/ALB_NON_UNION_BEN.PDF\"\n",
    "output_dir = \"./output/ALB_NON_UNION_BEN\"\n",
    "output_md = \"./output/ALB_NON_UNION_BEN/ALB_NON_UNION_BEN.md\""
   ]
  },
  {
   "cell_type": "code",
   "execution_count": 3,
   "metadata": {},
   "outputs": [],
   "source": [
    "form_data = {\n",
    "    'file': ('test.pdf', open(filename, 'rb'), 'application/pdf'),\n",
    "    \"langs\": (None, \"en\"),\n",
    "    \"force_ocr\": (None, False)\n",
    "}\n",
    "\n",
    "headers = {\"X-Api-Key\": os.environ['DATALAB_API_KEY']}\n",
    "\n",
    "response = requests.post(url, files=form_data, headers=headers)\n",
    "data = response.json()"
   ]
  },
  {
   "cell_type": "code",
   "execution_count": 4,
   "metadata": {},
   "outputs": [
    {
     "name": "stdout",
     "output_type": "stream",
     "text": [
      "incomplete status - 200\n"
     ]
    }
   ],
   "source": [
    "import time\n",
    "\n",
    "max_polls = 100\n",
    "check_url = data[\"request_check_url\"]\n",
    "\n",
    "for i in range(max_polls):\n",
    "    time.sleep(60)\n",
    "    response = requests.get(check_url, headers=headers)\n",
    "    print(f\"incomplete status - {response.status_code}\")\n",
    "    data = response.json()\n",
    "\n",
    "\n",
    "    if data[\"status\"] == \"complete\":\n",
    "        break"
   ]
  },
  {
   "cell_type": "code",
   "execution_count": null,
   "metadata": {},
   "outputs": [],
   "source": [
    "data"
   ]
  },
  {
   "cell_type": "code",
   "execution_count": 5,
   "metadata": {},
   "outputs": [],
   "source": [
    "import base64\n",
    "\n",
    "# Function to fix base64 padding\n",
    "def fix_base64_padding(b64_string):\n",
    "    b64_string = b64_string.replace('\\n', '')  # Remove any newline characters\n",
    "    return b64_string + '=' * (-len(b64_string) % 4)\n",
    "\n",
    "# Output the value of the 'markdown' element to a file named 'output.md'\n",
    "with open(output_md, 'w') as markdown_file:\n",
    "    markdown_file.write(data[\"markdown\"])\n",
    "\n",
    "# Output each element in the 'images' element to a separate file\n",
    "for filename, content in data['images'].items():\n",
    "    content_padded = fix_base64_padding(content)\n",
    "    try:\n",
    "        image_data = base64.b64decode(content_padded)\n",
    "        with open(f'{output_dir}/{filename}', 'wb') as image_file:\n",
    "            image_file.write(image_data)\n",
    "    except Exception as e:\n",
    "        print(f\"Failed to decode {filename}: {e}\")\n"
   ]
  }
 ],
 "metadata": {
  "kernelspec": {
   "display_name": "base",
   "language": "python",
   "name": "python3"
  },
  "language_info": {
   "codemirror_mode": {
    "name": "ipython",
    "version": 3
   },
   "file_extension": ".py",
   "mimetype": "text/x-python",
   "name": "python",
   "nbconvert_exporter": "python",
   "pygments_lexer": "ipython3",
   "version": "3.11.7"
  }
 },
 "nbformat": 4,
 "nbformat_minor": 2
}
