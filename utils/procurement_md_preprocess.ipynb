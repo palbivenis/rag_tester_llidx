{
 "cells": [
  {
   "cell_type": "code",
   "execution_count": 1,
   "metadata": {},
   "outputs": [],
   "source": [
    "file_path = 'F:/rag_sdk/scratch/procurement_guide/files/scratch/3rd Party Cloud Computing or Services.md'"
   ]
  },
  {
   "cell_type": "code",
   "execution_count": 2,
   "metadata": {},
   "outputs": [
    {
     "data": {
      "text/plain": [
       "'F:/rag_sdk/scratch/procurement_guide/files/scratch/3rd Party Cloud Computing or Services_new.md'"
      ]
     },
     "execution_count": 2,
     "metadata": {},
     "output_type": "execute_result"
    }
   ],
   "source": [
    "# Let's load the file, apply the requested changes, and save the modified content.\n",
    "\n",
    "\n",
    "# Load the file\n",
    "with open(file_path, 'r') as file:\n",
    "    content = file.readlines()\n",
    "\n",
    "# Initialize variables\n",
    "modified_content = []\n",
    "found_first_h1 = False\n",
    "\n",
    "# Process the content\n",
    "for line in content:\n",
    "    # Check if the line contains a heading level 1 (starts with \"# \")\n",
    "    if line.startswith(\"# \"):\n",
    "        if found_first_h1:\n",
    "            # Convert subsequent H1 headings to H2\n",
    "            modified_content.append(\"## \" + line[2:])\n",
    "        else:\n",
    "            # Keep the first H1 as is\n",
    "            modified_content.append(line)\n",
    "            found_first_h1 = True\n",
    "    else:\n",
    "        # Replace the string \"* # Category Details\" with an empty string\n",
    "        modified_content.append(line.replace(\"* # Category Details\", \"\"))\n",
    "\n",
    "# Save the modified content back to a new file\n",
    "modified_file_path = 'F:/rag_sdk/scratch/procurement_guide/files/scratch/3rd Party Cloud Computing or Services_new.md'\n",
    "with open(modified_file_path, 'w') as modified_file:\n",
    "    modified_file.writelines(modified_content)\n",
    "\n",
    "modified_file_path\n"
   ]
  },
  {
   "cell_type": "code",
   "execution_count": 2,
   "metadata": {},
   "outputs": [],
   "source": [
    "import os\n",
    "\n",
    "def modify_markdown_files_in_directory(directory_path):\n",
    "    # Iterate through all files in the given directory\n",
    "    for filename in os.listdir(directory_path):\n",
    "        file_path = os.path.join(directory_path, filename)\n",
    "\n",
    "        # Only process markdown files\n",
    "        if os.path.isfile(file_path) and filename.endswith(\".md\"):\n",
    "            with open(file_path, 'r') as file:\n",
    "                content = file.readlines()\n",
    "\n",
    "            # Initialize variables\n",
    "            modified_content = []\n",
    "            found_first_h1 = False\n",
    "\n",
    "            # Process the content\n",
    "            for line in content:\n",
    "                # Check if the line contains a heading level 1 (starts with \"# \")\n",
    "                if line.startswith(\"# \"):\n",
    "                    if found_first_h1:\n",
    "                        # Convert subsequent H1 headings to H2\n",
    "                        modified_content.append(\"## \" + line[2:])\n",
    "                    else:\n",
    "                        # Keep the first H1 as is\n",
    "                        modified_content.append(line)\n",
    "                        found_first_h1 = True\n",
    "                else:\n",
    "                    # Replace the string \"* # Category Details\" with an empty string\n",
    "                    modified_content.append(line.replace(\"* # Category Details\", \"\"))\n",
    "\n",
    "            # Save the modified content back to the same file\n",
    "            with open(file_path, 'w') as modified_file:\n",
    "                modified_file.writelines(modified_content)\n",
    "\n"
   ]
  },
  {
   "cell_type": "code",
   "execution_count": 3,
   "metadata": {},
   "outputs": [],
   "source": [
    "# Example usage (replace '/mnt/data/' with the path to your directory)\n",
    "directory_path = 'F:/rag_sdk/scratch/procurement_guide/files/scratch'\n",
    "modify_markdown_files_in_directory(directory_path)"
   ]
  },
  {
   "cell_type": "code",
   "execution_count": 1,
   "metadata": {},
   "outputs": [],
   "source": [
    "import os\n",
    "\n",
    "# Function to extract level one headers from all markdown files in a directory\n",
    "def extract_level_one_headers_from_directory(directory):\n",
    "    headers = []\n",
    "    for filename in os.listdir(directory):\n",
    "        if filename.endswith('.md'):  # Only process markdown files\n",
    "            file_path = os.path.join(directory, filename)\n",
    "            with open(file_path, 'r') as file:\n",
    "                for line in file:\n",
    "                    if line.startswith('# '):  # Level one header in markdown\n",
    "                        headers.append(line.strip('# ').strip())\n",
    "                        break  # Only need the first level one header\n",
    "    return headers\n",
    "\n"
   ]
  },
  {
   "cell_type": "code",
   "execution_count": 2,
   "metadata": {},
   "outputs": [
    {
     "data": {
      "text/plain": [
       "'One of [\\'3rd Party Cloud Computing or Services\\', \\'Accessories and Peripherals\\', \\'Advertising Expenses\\', \\'Aged Buffer Claim\\', \\'All Documentation And Media\\', \\'All Other Security Costs\\', \\'Art\\', \\'Asset Recovery & Recycling Costs\\', \\'Audio Visual\\', \\'Audit and Accounting Fees - AC or DA Approved\\', \\'Background Checks\\', \\'Billable Contractor - Extended Services\\', \\'Billable Contractor Expenses\\', \\'Billable Contractor Labor\\', \\'Brand Design Expenditures\\', \\'Brand Editorial Expenditures\\', \\'Brand Photography Expenditures\\', \\'Brand Social - Excluding Paid Media\\', \\'Brand Video Expenditures\\', \\'Brand Web Expenditures\\', \\'Broker Fees\\', \\'Building Cabling\\', \\'Building Exterior Maintenance\\', \\'Building General Operating Expense\\', \\'Building HVAC Repair and Maintenance\\', \\'Building Interior Repair and Maintenance\\', \\'Building Landscaping/Parking Maintenance\\', \\'Bulk Material(Production variance)\\', \\'Business Cards and Stationery\\', \\'Cafeteria Subsidies\\', \\'Capital and Tooling CIP\\', \\'Capital Facility Related Equipment\\', \\'Capital Leasehold Improvement\\', \\'Capital Restaurant Equipment\\', \\'Car Service\\', \\'Cerner Third Party Software Support Renewals\\', \\'Charter Flight\\', \\'Childcare Fees\\', \\'China Social Club Expenses\\', \\'Cleaning Service\\', \\'Cloud Catalyst Program\\', \\'Co-Location Monthly Recurring Fees\\', \\'Co-Location Power\\', \\'Co-Location Rent\\', \\'Co-Location SmartHand\\', \\'Construction in Progress - Professional\\', \\'Construction in Progress\\', \\'Consulting Fees\\', \\'Contractor Payroll Services\\', \\'Contractor Services\\', \\'Corporate Housing\\', \\'Corporate Insurance\\', \\'Courier Services\\', \\'Courseware & Student Materials\\', \\'Customer Gifts\\', \\'Data Center Security Services\\', \\'Data Network Services - Disconnect\\', \\'Data Network Services - Provision\\', \\'Dental Insurance\\', \\'Desktop\\', \\'Employee Awards\\', \\'Employee Life Programs And Well Being\\', \\'Engineers Dispatch Service\\', \\'Expensed Manufacturing Supplies\\', \\'Facility Space Rental\\', \\'Field Office Parking Fees\\', \\'Furniture Repairs and Maintenance\\', \\'General Accounting Fees\\', \\'General Insurance - Risk Management\\', \\'Gift Cards - Restricted Use\\', \\'Hardware & Network Infrastructure\\', \\'Hardware and Software for Resale\\', \\'Headsets\\', \\'HR Consulting\\', \\'Hub Components\\', \\'Immigration Fees\\', \\'Inbound Software and Service for External Use\\', \\'Internal Hardware - Demo Equipment\\', \\'Internal Hardware - Variable Computing\\', \\'Internal Hardware Equipment\\', \\'Internal Hardware Parts\\', \\'Inventory Revaluation\\', \\'Invoice eDelivery Services\\', \\'Invoice Printing and Courier Services\\', \\'IoT SIM Only Cellular Service\\', \\'IP Address Acquisition\\', \\'Kitchen Supplies\\', \\'Lab Test & Measurement (Expense)\\', \\'Lab Test & Measurement Equip (Capital)\\', \\'Lab Test & Measurement Equip Maintenance\\', \\'Landlord - Fixed Cost\\', \\'Landlord - Variable Cost\\', \\'Laptop - New Hire\\', \\'Laptop\\', \\'Last Time Buy\\', \\'Legal Business Advisory and Consultation\\', \\'Life Sciences Contractor Labor\\', \\'Life Sciences Services\\', \\'Life, AD&D, Spouse and Dependent Life Insurance\\', \\'List Purchase - Data and Lead Acquisition\\', \\'Litigation Fees\\', \\'Lobbying Fees\\', \\'M&D - SHIPPING SUPPLIES\\', \\'Market Research\\', \\'Market Surveys\\', \\'Meal Vouchers\\', \\'Medical Insurance\\', \\'Memberships\\', \\'Miscellaneous Expense\\', \\'Multi Function Copiers\\', \\'Networking and Security Maintenance\\', \\'Networking and Security Products\\', \\'Non Billable Indepdt Contractor Labor\\', \\'Non-Standard Mobile Phones\\', \\'NRE-All Other Supplier\\', \\'NRE-System Integration Supplier\\', \\'Office Equipment Rentals\\', \\'Office Equipment Repairs and Maintenance\\', \\'Office Equipment\\', \\'Office Furniture - Capital\\', \\'Office Furniture - Rental\\', \\'Office Furniture\\', \\'Office Moves\\', \\'Office Supplies\\', \\'Offsite Data Retention Storage and Service\\', \\'OFSS Outsourced Services\\', \\'Onsite Field/LocalSupport Services\\', \\'OPN Infrastructure\\', \\'OPN MDF & Marketing\\', \\'OPN PDF & DMS\\', \\'Oracle CloudWorld\\', \\'OU Instructor Services\\', \\'Outside Supplier Training\\', \\'Outside Technology Services\\', \\'Outsourcing Building Operating Expense\\', \\'Outsourcing Management Fee and Platform Cost\\', \\'Patent Fees\\', \\'Payroll Vendor Services\\', \\'Period cost PO\\', \\'Placement Fees\\', \\'Political Contributions\\', \\'Postage Expense\\', \\'Premium Charges\\', \\'Premium Expense PO\\', \\'Prepaid Hardware/Software Maintenance\\', \\'Print and Copy Supplies\\', \\'Printers and Scanners\\', \\'Printing - Collateral\\', \\'Promotional Items\\', \\'Property Insurance\\', \\'Proto and Engineering Material (Expense)\\', \\'Public Relations\\', \\'Purchase Price Variance\\', \\'Qualification due to poor HW/SW quality\\', \\'Recruiting Costs\\', \\'Reinstatement and Dilapidation of offices\\', \\'Relocation and Intl Assignments\\', \\'Remote Phone Support TSC\\', \\'Research Fees\\', \\'Resident/Onsite Engineer Services (OSSE)\\', \\'Retirement\\', \\'Reverse Claim - Excess and Obsolete\\', \\'Reverse Claim - Inventory Revaluation\\', \\'Reverse Claim - Rework\\', \\'Reverse Claims - Premium Charges\\', \\'Reverse Claims - Purchase Price Variance\\', \\'Rework not related to quality\\', \\'Rework\\', \"Risk BUY PO\\'s for Proto Build\", \\'Risk Buy\\', \\'Routine qualification\\', \\'Safety Supplies\\', \\'SCO Freight COGS - Interplant\\', \\'SCO Freight COGS - Misc\\', \\'SCO NL Import VAT\\', \\'SCO Warehousing COGS\\', \\'Scrap due to poor quality\\', \\'Security Capital Related Equipment\\', \\'Security Equipment Repair and Maintenance\\', \\'Security Services\\', \\'Security Shredding\\', \\'Server Moves\\', \\'Settlement Costs\\', \\'Software - Perpetual Licenses\\', \\'Software - Subscription Licenses\\', \\'Software as a Service (Saas)\\', \\'Software Maintenance\\', \\'Sparc Services\\', \\'Spares - Consumables\\', \\'Spares - External Spares Purchases\\', \\'SPARES Duty & Customs Costs\\', \\'SPARES Hardware Freight & Courier Costs\\', \\'SPARES Subcontract W/house & Services\\', \\'SPARES-Software Distribution&Fulfilment\\', \\'Spares-Software Product and Media Costs\\', \\'Spares-Vendor Repair Charges\\', \\'Speaker Fees\\', \\'Standards Org Membership\\', \\'Stop ship purge\\', \\'Subscriber Audience Live Virtual Event\\', \\'Subscriptions\\', \\'Sun OEM\\']'"
      ]
     },
     "execution_count": 2,
     "metadata": {},
     "output_type": "execute_result"
    }
   ],
   "source": [
    "# Directory path containing markdown files\n",
    "directory_path = 'F:/rag_sdk/scratch/procurement_guide/files/md_processed'\n",
    "\n",
    "# Extract headers from all markdown files in the directory\n",
    "headers_from_directory = extract_level_one_headers_from_directory(directory_path)\n",
    "headers_directory_output = f\"One of {headers_from_directory}\"\n",
    "headers_directory_output"
   ]
  }
 ],
 "metadata": {
  "kernelspec": {
   "display_name": "base",
   "language": "python",
   "name": "python3"
  },
  "language_info": {
   "codemirror_mode": {
    "name": "ipython",
    "version": 3
   },
   "file_extension": ".py",
   "mimetype": "text/x-python",
   "name": "python",
   "nbconvert_exporter": "python",
   "pygments_lexer": "ipython3",
   "version": "3.11.5"
  }
 },
 "nbformat": 4,
 "nbformat_minor": 2
}
