{
 "cells": [
  {
   "cell_type": "code",
   "execution_count": 1,
   "metadata": {},
   "outputs": [
    {
     "name": "stdout",
     "output_type": "stream",
     "text": [
      "The Excel file 'ALB_NON_UNION_BEN_01_S007_00_GM_claude-3-5-sonnet-20240620_EM_text-embedding-3-large_K_30_211.xlsx' has been updated successfully.\n",
      "The Excel file 'ALB_NON_UNION_BEN_01_S007_00_GM_command-r-plus_EM_embed-english-v3.0_K_30_507.xlsx' has been updated successfully.\n",
      "The Excel file 'ALB_NON_UNION_BEN_01_S007_00_GM_command-r_EM_embed-english-v3.0_K_30_142.xlsx' has been updated successfully.\n",
      "The Excel file 'ALB_NON_UNION_BEN_01_S007_00_GM_gpt-4o_EM_text-embedding-3-large_K_30_459.xlsx' has been updated successfully.\n",
      "The Excel file 'ALB_NON_UNION_BEN_01_S007_00_GM_Llama-3-70b-chat-hf_EM_text-embedding-3-large_K_10_117.xlsx' has been updated successfully.\n",
      "The Excel file 'ALB_NON_UNION_BEN_01_S007_00_GM_Qwen2-72B-Instruct_EM_text-embedding-3-large_K_30_477.xlsx' has been updated successfully.\n",
      "The Excel file 'ALB_NON_UNION_BEN_01_S008_00_GM_command-r_EM_embed-english-v3.0_069.xlsx' has been updated successfully.\n"
     ]
    }
   ],
   "source": [
    "import os\n",
    "import pandas as pd\n",
    "from openpyxl import load_workbook\n",
    "from openpyxl.styles import PatternFill\n",
    "\n",
    "# Define the directory containing the Excel files\n",
    "directory_path = 'F:/rag_sdk/evaluations/comparison/alb_non_union_ben'\n",
    "\n",
    "# Define the colors\n",
    "red_fill = PatternFill(start_color='FF0000', end_color='FF0000', fill_type='solid')\n",
    "yellow_fill = PatternFill(start_color='FFFF00', end_color='FFFF00', fill_type='solid')\n",
    "\n",
    "# Loop through all files in the directory\n",
    "for file_name in os.listdir(directory_path):\n",
    "    if file_name.endswith('.xlsx'):\n",
    "        file_path = os.path.join(directory_path, file_name)\n",
    "        \n",
    "        # Load the \"Response\" tab into a dataframe\n",
    "        try:\n",
    "            df = pd.read_excel(file_path, sheet_name='Responses')\n",
    "        except Exception as e:\n",
    "            print(f\"Could not read sheet 'Responses' in file {file_name}: {e}\")\n",
    "            continue\n",
    "        \n",
    "        # Load the workbook and the specific sheet\n",
    "        wb = load_workbook(file_path)\n",
    "        ws = wb['Responses']\n",
    "        \n",
    "        # Loop through the dataframe and apply the colors based on conditions\n",
    "        for index, row in df.iterrows():\n",
    "            cell = ws.cell(row=index + 2, column=df.columns.get_loc('generated_answer') + 1)  # Adjust index for Excel 1-based index\n",
    "            correctness_human = row['correctness_human']\n",
    "            \n",
    "            if correctness_human <= 2.5:\n",
    "                cell.fill = red_fill\n",
    "            elif 2.5 < correctness_human < 4:\n",
    "                cell.fill = yellow_fill\n",
    "\n",
    "        # Save the updated workbook\n",
    "        wb.save(file_path)\n",
    "        print(f\"The Excel file '{file_name}' has been updated successfully.\")\n"
   ]
  }
 ],
 "metadata": {
  "kernelspec": {
   "display_name": "base",
   "language": "python",
   "name": "python3"
  },
  "language_info": {
   "codemirror_mode": {
    "name": "ipython",
    "version": 3
   },
   "file_extension": ".py",
   "mimetype": "text/x-python",
   "name": "python",
   "nbconvert_exporter": "python",
   "pygments_lexer": "ipython3",
   "version": "3.11.5"
  }
 },
 "nbformat": 4,
 "nbformat_minor": 2
}
