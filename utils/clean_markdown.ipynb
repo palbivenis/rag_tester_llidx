{
 "cells": [
  {
   "cell_type": "code",
   "execution_count": 1,
   "metadata": {},
   "outputs": [],
   "source": [
    "import os\n",
    "\n",
    "def remove_non_printable_characters(content):\n",
    "    essential_chars = {'\\n', '\\r', '\\t'}\n",
    "    return ''.join(\n",
    "        c for c in content\n",
    "        if c.isprintable() or c in essential_chars\n",
    "    )\n",
    "\n",
    "def process_files(directory):\n",
    "    for filename in os.listdir(directory):\n",
    "        if filename.lower().endswith('.md'):\n",
    "            input_path = os.path.join(directory, filename)\n",
    "            output_path = os.path.join(directory, f\"cleaned_{filename}\")\n",
    "            with open(input_path, 'r', encoding='cp1252', errors='replace') as fin:\n",
    "                content = fin.read()\n",
    "            cleaned_content = remove_non_printable_characters(content)\n",
    "            with open(output_path, 'w', encoding='utf-8') as fout:\n",
    "                fout.write(cleaned_content)\n",
    "            print(f\"Processed '{filename}', cleaned file saved as '{output_path}'.\")\n"
   ]
  },
  {
   "cell_type": "code",
   "execution_count": 2,
   "metadata": {},
   "outputs": [
    {
     "name": "stdout",
     "output_type": "stream",
     "text": [
      "Processed 'IM_21CFR_DrugHandling.md', cleaned file saved as 'F:/rag_sdk/datasets/IM_21CFR_DrugHandling/files/md\\cleaned_IM_21CFR_DrugHandling.md'.\n"
     ]
    }
   ],
   "source": [
    "directory = 'F:/rag_sdk/datasets/IM_21CFR_DrugHandling/files/md'  \n",
    "process_files(directory)"
   ]
  }
 ],
 "metadata": {
  "kernelspec": {
   "display_name": "base",
   "language": "python",
   "name": "python3"
  },
  "language_info": {
   "codemirror_mode": {
    "name": "ipython",
    "version": 3
   },
   "file_extension": ".py",
   "mimetype": "text/x-python",
   "name": "python",
   "nbconvert_exporter": "python",
   "pygments_lexer": "ipython3",
   "version": "3.11.5"
  }
 },
 "nbformat": 4,
 "nbformat_minor": 2
}
