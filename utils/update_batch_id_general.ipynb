{
 "cells": [
  {
   "cell_type": "code",
   "execution_count": 1,
   "metadata": {},
   "outputs": [],
   "source": [
    "import pandas as pd\n",
    "import os\n",
    "\n",
    "def update_batch_id(file_path):\n",
    "    # Extract file name without extension\n",
    "    file_name = os.path.splitext(os.path.basename(file_path))[0]\n",
    "    \n",
    "    # Load the Excel file and the \"Responses\" tab into a DataFrame\n",
    "    df = pd.read_excel(file_path, sheet_name='Responses')\n",
    "    \n",
    "    # Check if 'batch_id' column exists, if not add it\n",
    "    if 'batch_id' not in df.columns:\n",
    "        df['batch_id'] = None\n",
    "        df['batch_id'] = file_name\n",
    "        \n",
    "        with pd.ExcelWriter(file_path, engine='openpyxl', mode='a', if_sheet_exists='replace') as writer:\n",
    "            df.to_excel(writer, sheet_name='Responses', index=False)\n"
   ]
  },
  {
   "cell_type": "code",
   "execution_count": 2,
   "metadata": {},
   "outputs": [],
   "source": [
    "def process_directory(directory_path):\n",
    "    # Loop through all files in the given directory\n",
    "    for file_name in os.listdir(directory_path):\n",
    "        if file_name.endswith('.xlsx'):\n",
    "            file_path = os.path.join(directory_path, file_name)\n",
    "            update_batch_id(file_path)"
   ]
  },
  {
   "cell_type": "code",
   "execution_count": 7,
   "metadata": {},
   "outputs": [],
   "source": [
    "# Example usage\n",
    "directory_path = 'F:/rag_sdk/evaluations/data/kai_nw_plan'\n",
    "process_directory(directory_path)"
   ]
  }
 ],
 "metadata": {
  "kernelspec": {
   "display_name": "base",
   "language": "python",
   "name": "python3"
  },
  "language_info": {
   "codemirror_mode": {
    "name": "ipython",
    "version": 3
   },
   "file_extension": ".py",
   "mimetype": "text/x-python",
   "name": "python",
   "nbconvert_exporter": "python",
   "pygments_lexer": "ipython3",
   "version": "3.11.5"
  }
 },
 "nbformat": 4,
 "nbformat_minor": 2
}
