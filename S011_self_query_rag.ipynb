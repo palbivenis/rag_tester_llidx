{
 "cells": [
  {
   "cell_type": "markdown",
   "metadata": {},
   "source": [
    "S011 Self Query over semantically chunked data\n",
    "- Use for all LLMs, except Cohere\n",
    "- Requires markdown documents\n",
    "- Use LangChain Markdown parser to semantically chunk documents\n",
    "- Store the chunks in a vector database (along with necessary metadata)\n",
    "- Use a Langchain \"chain\" for the RAG flow\n",
    "-   Use retriever to fetch chunks from vector database\n",
    "-   Retriever will translate natural language query into filters on chunk metadata \n",
    "-   Modify these chunks to include metadata information \n",
    "-   Pass the retrieved chunks to LLM for generation\n"
   ]
  },
  {
   "cell_type": "code",
   "execution_count": 1,
   "metadata": {},
   "outputs": [],
   "source": [
    "import os\n",
    "\n",
    "import nest_asyncio\n",
    "from llama_index.core.base.response.schema import Response\n",
    "from llama_index.core import Settings\n",
    "from llama_index.core.evaluation import (\n",
    "    BatchEvalRunner,\n",
    "    CorrectnessEvaluator,\n",
    ")\n",
    "\n",
    "from llama_index.llms.openai import OpenAI\n",
    "import openai\n",
    "\n",
    "#from chunker import threadpool_map\n",
    "from langchain_community.vectorstores import Chroma\n",
    "from langchain_openai import ChatOpenAI, OpenAIEmbeddings\n",
    "from langchain_anthropic import ChatAnthropic\n",
    "from langchain_google_genai import ChatGoogleGenerativeAI, GoogleGenerativeAIEmbeddings\n",
    "from langchain_cohere import ChatCohere, CohereEmbeddings\n",
    "from langchain_together import ChatTogether\n",
    "from langchain_fireworks import ChatFireworks\n",
    "from langchain_core.documents import Document\n",
    "from langchain_text_splitters import MarkdownHeaderTextSplitter\n",
    "import tiktoken\n",
    "from langchain_community.document_loaders import TextLoader\n",
    "from langchain_community.document_loaders import DirectoryLoader\n",
    "from langchain_core.output_parsers import StrOutputParser\n",
    "from langchain_core.runnables import RunnablePassthrough\n",
    "from langchain.prompts import ChatPromptTemplate\n",
    "from langchain.chains.query_constructor.base import AttributeInfo\n",
    "from langchain.retrievers.self_query.base import SelfQueryRetriever\n",
    "\n",
    "\n",
    "\n",
    "import os\n",
    "from langsmith import Client\n",
    "\n",
    "from datetime import datetime\n",
    "import pandas as pd\n",
    "import random\n",
    "\n",
    "from evaluation_utils import threadpool_map\n",
    "\n",
    "nest_asyncio.apply()"
   ]
  },
  {
   "cell_type": "code",
   "execution_count": 2,
   "metadata": {},
   "outputs": [],
   "source": [
    "from config import set_environment\n",
    "set_environment()"
   ]
  },
  {
   "cell_type": "markdown",
   "metadata": {},
   "source": [
    "Choose the LLM for generation"
   ]
  },
  {
   "cell_type": "code",
   "execution_count": 3,
   "metadata": {},
   "outputs": [],
   "source": [
    "generation_llm_family = os.environ[\"GENERATION_LLM_FAMILY\"]\n",
    "generation_llm_model = os.environ[\"GENERATION_LLM_MODEL\"]\n",
    "\n",
    "\n",
    "if generation_llm_family == \"OPENAI\":\n",
    "   llm = ChatOpenAI(model_name=generation_llm_model, temperature=0)\n",
    "elif generation_llm_family == \"ANTHROPIC\":\n",
    "   llm = ChatAnthropic(model_name=generation_llm_model, temperature=0)\n",
    "elif generation_llm_family == \"GOOGLE\":\n",
    "   llm = ChatGoogleGenerativeAI(model=generation_llm_model, temperature=0)\n",
    "elif generation_llm_family == \"COHERE\":\n",
    "   llm = ChatCohere(model=generation_llm_model, temperature=0)\n",
    "elif generation_llm_family == \"META\":\n",
    "   #llm = ChatTogether(model=generation_llm_model, temperature=0)\n",
    "   llm = ChatFireworks( model=generation_llm_model,temperature=0)\n",
    "elif generation_llm_family == \"QWEN\":\n",
    "   llm = ChatTogether(model=generation_llm_model, temperature=0)\n",
    "elif generation_llm_family == \"MISTRALAI\":\n",
    "   llm = ChatTogether(model=generation_llm_model, temperature=0)"
   ]
  },
  {
   "cell_type": "markdown",
   "metadata": {},
   "source": [
    "Choose the LLM for embedding"
   ]
  },
  {
   "cell_type": "code",
   "execution_count": 4,
   "metadata": {},
   "outputs": [],
   "source": [
    "embedding_llm_family = os.environ[\"EMBEDDING_LLM_FAMILY\"]\n",
    "embedding_llm_model = os.environ[\"EMBEDDING_LLM_MODEL\"]\n",
    "embedding_dimensions = int(os.environ[\"EMBEDDING_DIMESIONS\"])\n",
    "\n",
    "if embedding_llm_family == \"OPENAI\":\n",
    "    embeddings_model = OpenAIEmbeddings()\n",
    "elif generation_llm_family == \"GOOGLE\":\n",
    "    embeddings_model = GoogleGenerativeAIEmbeddings(model=embedding_llm_model)\n",
    "elif generation_llm_family == \"COHERE\":\n",
    "    embeddings_model = CohereEmbeddings(model=embedding_llm_model)"
   ]
  },
  {
   "cell_type": "code",
   "execution_count": 5,
   "metadata": {},
   "outputs": [],
   "source": [
    "eval_name = os.environ[\"EVAL_NAME\"]\n",
    "eval_directory = os.environ[\"EVAL_DIRECTORY\"]\n",
    "eval_file = os.environ[\"EVAL_FILE\"]\n",
    "eval_questions = os.environ[\"EVAL_QUESTIONS\"]\n",
    "eval_results_dir = os.environ[\"EVAL_RESULTS_DIR\"]\n",
    "eval_quick_test = os.environ[\"EVAL_QUICK_TEST\"]\n",
    "eval_db = os.environ[\"EVAL_DB\"]\n",
    "\n",
    "rag_strategy = os.environ[\"RAG_STRATEGY\"]\n",
    "similarity_top_k = int(os.environ[\"SIMILARITY_TOP_K\"]) \n",
    "\n",
    "prompt_template = os.environ[\"RAG_PROMPT_TEMPLATE\"]"
   ]
  },
  {
   "cell_type": "markdown",
   "metadata": {},
   "source": [
    "Pick the strategy"
   ]
  },
  {
   "cell_type": "code",
   "execution_count": 6,
   "metadata": {},
   "outputs": [],
   "source": [
    "embed_string = embedding_llm_model.replace(\"models/\", \"\") if \"models/\" in embedding_llm_model else embedding_llm_model\n",
    "generation_string = generation_llm_model.replace(\"meta-llama/\", \"\").replace(\"accounts/fireworks/models/\",\"\").replace(\"Qwen/\", \"\").replace(\"models/\", \"\").replace(\"mistralai/\", \"\") \n",
    "\n",
    "if rag_strategy == \"S011_00\":\n",
    "    rag_strategy_desc = \"Self Query\"\n",
    "    batch_id = f\"{eval_name}_{rag_strategy}_GM_{generation_string}_EM_{embed_string}_K_{similarity_top_k}_{random.randint(0, 999):03}\"\n",
    "\n",
    "output_file = f\"{eval_results_dir}/{batch_id}.xlsx\""
   ]
  },
  {
   "cell_type": "markdown",
   "metadata": {},
   "source": [
    "Setup Langsmith tracing"
   ]
  },
  {
   "cell_type": "code",
   "execution_count": 7,
   "metadata": {},
   "outputs": [],
   "source": [
    "import os\n",
    "os.environ['LANGCHAIN_TRACING_V2'] = 'true'\n",
    "os.environ['LANGCHAIN_ENDPOINT'] = 'https://api.smith.langchain.com'\n",
    "os.environ['LANGCHAIN_PROJECT'] = eval_name"
   ]
  },
  {
   "cell_type": "markdown",
   "metadata": {},
   "source": [
    "Read the documents, create chunks, calculate embeddings, store in a vector database"
   ]
  },
  {
   "cell_type": "code",
   "execution_count": 8,
   "metadata": {},
   "outputs": [],
   "source": [
    "if os.path.exists(eval_db) and os.path.isdir(eval_db):\n",
    "    vectorstore = Chroma(persist_directory=eval_db,\n",
    "                  embedding_function=embeddings_model)\n",
    "else:\n",
    "    loader = DirectoryLoader(eval_directory, glob=\"**/*.md\", loader_cls=TextLoader)\n",
    "    text_data = loader.load()\n",
    "    page_contents = [item.page_content for item in text_data]\n",
    "    text_concatenated = \"\\n\\n\".join(page_contents)\n",
    "\n",
    "    headers_to_split_on = [\n",
    "        (\"#\", \"Header 1\"),\n",
    "        (\"##\", \"Header 2\"),\n",
    "        (\"###\", \"Header 3\"),\n",
    "        (\"####\", \"Header 4\"),\n",
    "        (\"####\", \"Header 5\")\n",
    "    ]\n",
    "\n",
    "    markdown_splitter = MarkdownHeaderTextSplitter(headers_to_split_on, strip_headers=False)\n",
    "    md_header_splits = markdown_splitter.split_text(text_concatenated)\n",
    "    vectorstore = Chroma.from_documents(documents=md_header_splits, \n",
    "                                    embedding=embeddings_model,\n",
    "                                    persist_directory=eval_db)\n",
    "    vectorstore.persist()\n",
    "\n",
    "retriever = vectorstore.as_retriever(search_kwargs={\"k\": similarity_top_k})"
   ]
  },
  {
   "cell_type": "markdown",
   "metadata": {},
   "source": [
    "Create a self query retriever"
   ]
  },
  {
   "cell_type": "code",
   "execution_count": 9,
   "metadata": {},
   "outputs": [],
   "source": [
    "import os\n",
    "\n",
    "# Function to extract level one headers from all markdown files in a directory\n",
    "def extract_level_one_headers_from_directory(directory):\n",
    "    headers = []\n",
    "    for filename in os.listdir(directory):\n",
    "        if filename.endswith('.md'):  # Only process markdown files\n",
    "            file_path = os.path.join(directory, filename)\n",
    "            with open(file_path, 'r') as file:\n",
    "                for line in file:\n",
    "                    if line.startswith('# '):  # Level one header in markdown\n",
    "                        headers.append(line.strip('# ').strip())\n",
    "                        break  # Only need the first level one header\n",
    "    return headers"
   ]
  },
  {
   "cell_type": "code",
   "execution_count": 10,
   "metadata": {},
   "outputs": [
    {
     "data": {
      "text/plain": [
       "\"One of ['Maintenance and Support', 'Non Billable Indepdt Contractor Labor', 'Non-Employee meetings or events', 'Sponsorships Fees']\""
      ]
     },
     "execution_count": 10,
     "metadata": {},
     "output_type": "execute_result"
    }
   ],
   "source": [
    "# Extract headers from all markdown files in the directory\n",
    "headers_from_directory = extract_level_one_headers_from_directory(eval_directory)\n",
    "headers_directory_output = f\"One of {headers_from_directory}\"\n",
    "headers_directory_output"
   ]
  },
  {
   "cell_type": "code",
   "execution_count": 11,
   "metadata": {},
   "outputs": [],
   "source": [
    "headers_from_directory = extract_level_one_headers_from_directory(eval_directory)\n",
    "\n",
    "metadata_field_info = [\n",
    "    AttributeInfo(\n",
    "        name=\"Header 1\",\n",
    "        description=f\"The category of procurement . One of {headers_from_directory} \",\n",
    "        type=\"string\",\n",
    "    ),\n",
    "    \n",
    "]\n",
    "document_content_description = \"Procurement policies for a particular category of procurement\"\n",
    "llm = ChatOpenAI(temperature=0)\n",
    "retriever = SelfQueryRetriever.from_llm(\n",
    "    llm,\n",
    "    vectorstore,\n",
    "    document_content_description,\n",
    "    metadata_field_info,\n",
    ")"
   ]
  },
  {
   "cell_type": "code",
   "execution_count": 12,
   "metadata": {},
   "outputs": [],
   "source": [
    "import re\n",
    "\n",
    "def replace_title_in_text(text, title):\n",
    "    # Create a regex pattern to match one or more # followed by the title\n",
    "    pattern = re.compile(rf'#+\\s+{re.escape(title)}')\n",
    "    # Replace all matches with the title\n",
    "    result = pattern.sub(title, text)\n",
    "    return result"
   ]
  },
  {
   "cell_type": "code",
   "execution_count": 13,
   "metadata": {},
   "outputs": [],
   "source": [
    "def format_documents(retrieved_chunks):\n",
    "    \n",
    "    result = \"\\n\"\n",
    "    \n",
    "    for chunk in retrieved_chunks:\n",
    "    \n",
    "        header_1 = chunk.metadata.get(\"Header 1\", \"\")\n",
    "        header_2 = chunk.metadata.get(\"Header 2\", \"\")\n",
    "        header_3 = chunk.metadata.get(\"Header 3\", \"\")\n",
    "        header_4 = chunk.metadata.get(\"Header 4\", \"\")\n",
    "        header_5 = chunk.metadata.get(\"Header 5\", \"\")\n",
    "\n",
    "        headers = [header_1, header_2, header_3, header_4, header_5]\n",
    "        parents = []\n",
    "\n",
    "        for header in headers:\n",
    "            if header == \"\":\n",
    "                break\n",
    "            parents.append(header)\n",
    "    \n",
    "        # Identify the title as the last non-empty header\n",
    "        title = parents[-1] if parents else \"Untitled\"\n",
    "        text = replace_title_in_text(chunk.page_content, title)\n",
    "        \n",
    "        parents_concat = '\\n'.join(parents)\n",
    "\n",
    "        result += (\n",
    "                    f\"\\n# Relevant Document Title:\\n{title}\\n\"\n",
    "                    f\"## Document Text:\\n{text}\\n\"\n",
    "                    f\"## This document is contained under the following sections:\\n{parents_concat}\\n\"\n",
    "            ) \n",
    "        \n",
    "\n",
    "    return result\n"
   ]
  },
  {
   "cell_type": "code",
   "execution_count": 14,
   "metadata": {},
   "outputs": [],
   "source": [
    "prompt = ChatPromptTemplate.from_template(prompt_template)"
   ]
  },
  {
   "cell_type": "code",
   "execution_count": 15,
   "metadata": {},
   "outputs": [],
   "source": [
    "rag_chain_from_docs = (\n",
    "    RunnablePassthrough.assign(context=(lambda x: format_documents(x[\"context\"])))\n",
    "    | prompt\n",
    "    | llm\n",
    "    | StrOutputParser()\n",
    ")\n",
    "\n",
    "retrieve_docs = (lambda x: x[\"question\"]) | retriever\n",
    "\n",
    "rag_chain = RunnablePassthrough.assign(context=retrieve_docs).assign(\n",
    "    answer=rag_chain_from_docs\n",
    ")\n"
   ]
  },
  {
   "cell_type": "markdown",
   "metadata": {},
   "source": [
    "Quick Test"
   ]
  },
  {
   "cell_type": "code",
   "execution_count": 13,
   "metadata": {},
   "outputs": [],
   "source": [
    "#eval_quick_test = \"\"\"\n",
    "#How do I enter or change a start date for my hire?\n",
    "\n",
    "#\"\"\""
   ]
  },
  {
   "cell_type": "code",
   "execution_count": 16,
   "metadata": {},
   "outputs": [
    {
     "name": "stdout",
     "output_type": "stream",
     "text": [
      "Question:One of the sponsors I am using has some questions around PII security, what should I do?\n",
      "\n",
      "Response:\n",
      "If one of the sponsors you are using has questions around Personally Identifiable Information (PII) security, you should refer to the Global Marketing Compliance, Privacy and Security Sponsorships Guidance document provided in the Additional Ordering Instructions section. This document will provide you with guidance on how to handle PII security concerns and outline the necessary steps to ensure compliance with privacy and security regulations. Additionally, it is mentioned that 3rd Party Sponsorships require C&E approval, so you may need to seek approval from the appropriate department before proceeding with the sponsorship.\n",
      "\n"
     ]
    }
   ],
   "source": [
    "response = rag_chain.invoke({\"question\": eval_quick_test})\n",
    "print(f\"Question:{eval_quick_test}{chr(10)}\")\n",
    "print(f\"Response:{chr(10)}{response['answer']}{chr(10)}\")\n"
   ]
  },
  {
   "cell_type": "code",
   "execution_count": 17,
   "metadata": {},
   "outputs": [],
   "source": [
    "from langchain.callbacks.tracers import LangChainTracer\n",
    "from langchain_core.tracers.context import tracing_v2_enabled"
   ]
  },
  {
   "cell_type": "code",
   "execution_count": 18,
   "metadata": {},
   "outputs": [],
   "source": [
    "\n",
    "def run_rag_pipeline(row):\n",
    "\n",
    "    metadata = {\n",
    "        \"eval_name\": eval_name,\n",
    "        \"batch_id\":batch_id,\n",
    "        \"query_num\": row[\"query_num\"],\n",
    "        \"rag_strategy\": rag_strategy,\n",
    "        \"rag_strategy_desc\": rag_strategy_desc,\n",
    "        \"parameter_1\": similarity_top_k,\n",
    "        \"parameter_2\": \"\",\n",
    "        \"parameter_3\": \"\",\n",
    "        \"parameter_4\": \"\",\n",
    "        \"parameter_5\": \"\",\n",
    "        \"model\": generation_llm_model,\n",
    "        \"embed_model\": embedding_llm_model,\n",
    "        \"embed_dimensions\": embedding_dimensions,\n",
    "    }\n",
    "    \n",
    "\n",
    "    with tracing_v2_enabled(project_name=eval_name):\n",
    "        response = rag_chain.invoke({\"question\": row[\"query\"]},{\"metadata\": metadata})   \n",
    "    \n",
    "    return {\n",
    "        \"query_num\": row[\"query_num\"],\n",
    "        \"generated_answer\": response['answer'],\n",
    "        \"sources\": response['context']\n",
    "    }\n",
    "\n"
   ]
  },
  {
   "cell_type": "code",
   "execution_count": 19,
   "metadata": {},
   "outputs": [],
   "source": [
    "# Load the evaluation questions\n",
    "queries = pd.read_excel(eval_questions)"
   ]
  },
  {
   "cell_type": "code",
   "execution_count": 20,
   "metadata": {},
   "outputs": [
    {
     "name": "stderr",
     "output_type": "stream",
     "text": [
      "100%|██████████| 18/18 [01:22<00:00,  4.60s/it]\n"
     ]
    }
   ],
   "source": [
    "results = threadpool_map(run_rag_pipeline, [{\"row\": item[1]} for item in list(queries.iterrows())],num_workers=1)"
   ]
  },
  {
   "cell_type": "code",
   "execution_count": 21,
   "metadata": {},
   "outputs": [
    {
     "data": {
      "text/plain": [
       "[{'query_num': 'CMP_PROC_GUIDE_001',\n",
       "  'generated_answer': \"Based on the information provided in the context, for purchases at a value equal to or greater than $0 involving Personal Information (PI) exchange, a contract is required regardless of the amount. However, if no PI is being exchanged, a contract is required for transactions of $25,000 or more.\\n\\nIn the case of a US tradeshow where the purchase amount for one of the sponsors will cost over $120,000 and there is no contract in place, the steps you should take are as follows:\\n\\n1. Contact the Category Manager to request an exception to the contract requirement for purchases over $25,000. The Category Manager has the authority to grant exceptions to the contract requirement.\\n2. If the purchase involves the exchange of Personal Information (PI), ensure that the language from the Marketing Contact Data List SOW template is applicable to the purchase.\\n3. If the purchase does not involve the exchange of PI, ensure that the appropriate contract type is used based on the supplier's status. If the supplier is an OPN Partner, the contract type required is the Oracle Master Purchase and Services Agreement (MPSA).\\n4. Work with your Procurement Contact to initiate the contract process and ensure that all necessary documentation and agreements are in place before proceeding with the purchase.\\n\\nBy following these steps, you can ensure compliance with the contract requirements and procurement policies for purchases over $25,000, especially in cases where Personal Information exchange is involved or when dealing with OPN Partners.\",\n",
       "  'sources': [Document(metadata={'Header 1': 'Non-Employee meetings or events', 'Header 2': 'Contracts'}, page_content='## Contracts  \\n* A contract is required for transactions of $25,000 or more.\\n* A contract is required for purchases at a value equal to or greater than $0 if there is any exchange of Personal Information (PI). Language from the Marketing Contact Data List SOW template is applicable to purchases with PI that is Inbound to Oracle. If no PI is being exchanged then a contract is required at a value of $25K or higher. Exceptions to this requirement can be granted by the Category Manager. For Sponsorship/Tradeshows - Supplier Contract and Oracle Sponsorship/Tradeshow addendum All Other - Oracle Contract/ Standard SPA or SOW (FOR VIRTUAL EVENTS use the Standard SPA and Virtual Event SOW) and CRF\\n* For additional information on contracts, please refer to one of the Procurement Contacts below.'),\n",
       "   Document(metadata={'Header 1': 'Maintenance and Support', 'Header 2': 'Contracts'}, page_content='## Contracts  \\n* A contract is required for transactions of $100,000 or more.\\n* If the Supplier is an OPN Partner a contract is always required  \\n**Contract Type required** Oracle Master Purchase and Services Agreement\\n(MPSA), MPSA Products Schedule/MPSA Support Services Schedule/Professional\\nServices Schedule  \\n* For additional information on contracts, please refer to one of the Procurement Contacts below.'),\n",
       "   Document(metadata={'Header 1': 'Non-Employee meetings or events', 'Header 2': 'Pricing'}, page_content='## Pricing  \\n* One quote is required above $5,000.\\n* Procurement review is always required for this category.\\n* When an existing contracted rate does not exist, a sourcing event may be required if the purchase amount is greater than $100,000.\\n* Please work with your Procurement Contact if you need assistance.\\n* **Note:** All pricing is contracted in the local functional currency of the contracting legal entity. Functional currency is defined as the currency in which the business transactions of a country are normally denominated. Refer to the [Non-Functional Currency Policy](https://ptp.oraclecorp.com/pls/apex/f?p=151:1:14373782505883::::DP,DL,DV,DJ,DT,DI,DN,DC,DG,DO,DA,LI,MI,DD:4,0,0,0,0,26050,0,0,0,0,0,1,0,0) for agreements that include pricing not related to the local functional currency.'),\n",
       "   Document(metadata={'Header 1': 'Maintenance and Support', 'Header 2': 'Pricing'}, page_content='## Pricing  \\n* One quote is required above $5,000.\\n* Procurement review is always required for this category.\\n* When an existing contracted rate does not exist, a sourcing event may be required if the purchase amount is greater than $100,000.\\n* Please work with your Procurement Contact if you need assistance.\\n* **Note:** All pricing is contracted in the local functional currency of the contracting legal entity. Functional currency is defined as the currency in which the business transactions of a country are normally denominated. Refer to the [Non-Functional Currency Policy](https://ptp.oraclecorp.com/pls/apex/f?p=151:1:14373782505883::::DP,DL,DV,DJ,DT,DI,DN,DC,DG,DO,DA,LI,MI,DD:4,0,0,0,0,26050,0,0,0,0,0,1,0,0) for agreements that include pricing not related to the local functional currency.')]},\n",
       " {'query_num': 'CMP_PROC_GUIDE_002',\n",
       "  'generated_answer': 'If one of the sponsors you are using has questions regarding Personally Identifiable Information (PII) security, you should refer to the Global Marketing Compliance, Privacy, and Security Sponsorships Guidance document provided in the Additional Ordering Instructions section. This document will provide guidance on how to handle PII security concerns and outline the necessary steps to ensure compliance with privacy and security regulations. Additionally, it mentions that 3rd Party Sponsorships require C&E approval, so you may need to seek approval from the appropriate department before proceeding with the sponsorship.',\n",
       "  'sources': [Document(metadata={'Header 1': 'Maintenance and Support', 'Header 2': 'Category Description'}, page_content='## Category Description  \\nMaintenance and support of technology hardware (i.e. servers, storage, testing\\nequipment, non-warranty computer repair, computer data recovery, and multi\\nfunction devices) if the value does NOT meet the [Prepay Amortization Policy\\n](https://ptp.oraclecorp.com/pls/apex/f?p=151:1:16435321490076::::DP,DL,DV,DJ,DT,DI,DN,DC,DG,DO,DA,LI,MI,DD:4,0,0,0,0,13632,0,0,0,0,2,1,0,4542).  \\nThis excludes Networking and Security products.'),\n",
       "   Document(metadata={'Header 1': 'Non Billable Indepdt Contractor Labor', 'Header 2': 'Category Description'}, page_content=\"## Category Description  \\nAn individual (or small business less than five employees in the US and\\nCanada) operating as a subject-matter expert for a fixed period of time.\\nIdeally, IC's should be vetted, engaged and paid through a preferred third-\\nparty supplier to mitigate risk.\"),\n",
       "   Document(metadata={'Header 1': 'Non Billable Indepdt Contractor Labor', 'Header 2': 'Procurement Contacts'}, page_content='## Procurement Contacts  \\n* [arun.palve@oracle.com](mailto:arun.palve@oracle.com) (EMEA)\\n* [winson.paul@oracle.com](mailto:winson.paul@oracle.com) (JAPAC)\\n* [ines.castro.cascante@oracle.com](mailto:ines.castro.cascante@oracle.com) (LAD)\\n* [pam.walker@oracle.com](mailto:pam.walker@oracle.com) (North America)'),\n",
       "   Document(metadata={'Header 1': 'Sponsorships Fees', 'Header 2': 'Additional Ordering Instructions'}, page_content='## Additional Ordering Instructions  \\n_Include on your Purchase Requisition:_  \\n1. Date of event\\n2. Name of event\\n3. Location of event\\n4. Purpose of event\\n5. Attach prospectus or flyer for the event including benefits Oracle receives  \\n_Additional Instructions:_  \\nRefer to the Step-by-Step contract process instructions on the [Meetings &\\nEvents website](https://mysites.oracle.com/s2s-meetings-events/step-by-step-\\ncontract-processes-to-get-m-e-contracts-signed-executed.html) for regional\\ninstructions.  \\nReview the [Global Marketing Compliance, Privacy and Security Sponsorships\\nGuidance](https://confluence.oraclecorp.com/confluence/pages/viewpage.action?spaceKey=GCPS&title=Global+Marketing+Compliance+Privacy+and+Security+Home)\\nto determine next steps. 3rd Party Sponsorships require C&E; approval.')]},\n",
       " {'query_num': 'CMP_PROC_GUIDE_003',\n",
       "  'generated_answer': \"The initial steps required to onboard a new sponsor for an upcoming event include the following:\\n\\n1. Ensure a contract is required for any sponsorships for values equal to or greater than $0.\\n2. If it is a new event not previously sponsored by Oracle or using a new marketing agency, the Trademark Logo clause is required.\\n3. Reach out to procurementcontracts@oracle.com for an Oracle contract that includes Trademark Logo requirements.\\n4. Oracle must pay the Sponsorship owner directly and cannot make payments to a 3rd party to then pay for a sponsorship on Oracle's behalf.\\n5. If an official event management company is collecting fees/payments or contracting on behalf of a tradeshow event owner, the website, agreements, and all supporting documentation must be transparent on the three-way nature of the relationship and the data rights.\\n\\nBy following these steps, you can effectively onboard a new sponsor for your upcoming event.\",\n",
       "  'sources': [Document(metadata={'Header 1': 'Sponsorships Fees'}, page_content='# Sponsorships Fees  \\n* [Home](/pls/apex/r/s2s/prg/1?session=3282540657778)'),\n",
       "   Document(metadata={'Header 1': 'Sponsorships Fees', 'Header 2': 'Category Description'}, page_content='## Category Description  \\nThird party owned Sponsorship or Tradeshow fees for a Corporate and/or OPN activity which Oracle provides something of value in exchange for benefit.'),\n",
       "   Document(metadata={'Header 1': 'Sponsorships Fees', 'Header 2': 'Contracts'}, page_content='## Contracts  \\n* A contract is required for all transactions.\\n* A contract is required for any sponsorships for values equal to or greater than $0..  \\nFor Sponsorship of Oracle User Group events, Trademark Logo clause is required\\n– reach out to procurementcontracts@oracle.com for Oracle contract that\\nincludes Trademark Logo requirements.  \\nOracle must pay the Sponsorship owner directly. Oracle cannot make payments to a 3rd party to then pay for a sponsorship on Oracle’s behalf. If an official event management company is collecting fees/payments or contracting on behalf of a tradeshow event owner, the website, agreements and all supporting documentation must be transparent on the three-way nature of the relationship and the data rights.\\nIf this is a new event (not previously sponsored by Oracle) or using a new marketing agency (when approved by compliance) instead of directly with sponsor organiser hosting the event, Trademark Logo clause is required - reach out to procurementcontracts@oracle.com for Oracle contract that includes  \\nTrademark Logo requirements.  \\n* For additional information on contracts, please refer to one of the Procurement Contacts below.'),\n",
       "   Document(metadata={'Header 1': 'Sponsorships Fees', 'Header 2': 'Additional Ordering Instructions'}, page_content='## Additional Ordering Instructions  \\n_Include on your Purchase Requisition:_  \\n1. Date of event\\n2. Name of event\\n3. Location of event\\n4. Purpose of event\\n5. Attach prospectus or flyer for the event including benefits Oracle receives  \\n_Additional Instructions:_  \\nRefer to the Step-by-Step contract process instructions on the [Meetings &\\nEvents website](https://mysites.oracle.com/s2s-meetings-events/step-by-step-\\ncontract-processes-to-get-m-e-contracts-signed-executed.html) for regional\\ninstructions.  \\nReview the [Global Marketing Compliance, Privacy and Security Sponsorships\\nGuidance](https://confluence.oraclecorp.com/confluence/pages/viewpage.action?spaceKey=GCPS&title=Global+Marketing+Compliance+Privacy+and+Security+Home)\\nto determine next steps. 3rd Party Sponsorships require C&E; approval.')]},\n",
       " {'query_num': 'CMP_PROC_GUIDE_004',\n",
       "  'generated_answer': 'The specific information that needs to be included in the purchase requisition for the new sponsor are as follows:\\n1. Date of event\\n2. Name of event\\n3. Location of event\\n4. Purpose of event\\n5. Attach prospectus or flyer for the event including benefits Oracle receives\\n\\nAdditionally, for Sponsorship of Oracle User Group events, a Trademark Logo clause is required. If it is a new event or using a new marketing agency instead of directly with the sponsor organizer hosting the event, the Trademark Logo clause is also required. It is important to reach out to procurementcontracts@oracle.com for an Oracle contract that includes Trademark Logo requirements in these cases.',\n",
       "  'sources': [Document(metadata={'Header 1': 'Sponsorships Fees', 'Header 2': 'Additional Ordering Instructions'}, page_content='## Additional Ordering Instructions  \\n_Include on your Purchase Requisition:_  \\n1. Date of event\\n2. Name of event\\n3. Location of event\\n4. Purpose of event\\n5. Attach prospectus or flyer for the event including benefits Oracle receives  \\n_Additional Instructions:_  \\nRefer to the Step-by-Step contract process instructions on the [Meetings &\\nEvents website](https://mysites.oracle.com/s2s-meetings-events/step-by-step-\\ncontract-processes-to-get-m-e-contracts-signed-executed.html) for regional\\ninstructions.  \\nReview the [Global Marketing Compliance, Privacy and Security Sponsorships\\nGuidance](https://confluence.oraclecorp.com/confluence/pages/viewpage.action?spaceKey=GCPS&title=Global+Marketing+Compliance+Privacy+and+Security+Home)\\nto determine next steps. 3rd Party Sponsorships require C&E; approval.'),\n",
       "   Document(metadata={'Header 1': 'Sponsorships Fees', 'Header 2': 'Content'}, page_content='## Content  \\n* Pricing\\n* Contracts\\n* Procurement Contacts\\n* Additional Instructions\\n* Preferred Suppliers\\n* [Create a Requisition](https://mysites.oracle.com/procurement)'),\n",
       "   Document(metadata={'Header 1': 'Sponsorships Fees', 'Header 2': 'Contracts'}, page_content='## Contracts  \\n* A contract is required for all transactions.\\n* A contract is required for any sponsorships for values equal to or greater than $0..  \\nFor Sponsorship of Oracle User Group events, Trademark Logo clause is required\\n– reach out to procurementcontracts@oracle.com for Oracle contract that\\nincludes Trademark Logo requirements.  \\nOracle must pay the Sponsorship owner directly. Oracle cannot make payments to a 3rd party to then pay for a sponsorship on Oracle’s behalf. If an official event management company is collecting fees/payments or contracting on behalf of a tradeshow event owner, the website, agreements and all supporting documentation must be transparent on the three-way nature of the relationship and the data rights.\\nIf this is a new event (not previously sponsored by Oracle) or using a new marketing agency (when approved by compliance) instead of directly with sponsor organiser hosting the event, Trademark Logo clause is required - reach out to procurementcontracts@oracle.com for Oracle contract that includes  \\nTrademark Logo requirements.  \\n* For additional information on contracts, please refer to one of the Procurement Contacts below.'),\n",
       "   Document(metadata={'Header 1': 'Sponsorships Fees'}, page_content='# Sponsorships Fees  \\n* [Home](/pls/apex/r/s2s/prg/1?session=3282540657778)')]},\n",
       " {'query_num': 'CMP_PROC_GUIDE_005',\n",
       "  'generated_answer': \"To handle payments and ensure compliance with Oracle's sponsorship policies, it is important to follow the guidelines outlined in the Contracts document. According to the document, a contract is required for all transactions, including sponsorships for values equal to or greater than $0. Oracle must pay the sponsorship owner directly and cannot make payments to a third party to then pay for a sponsorship on Oracle's behalf. \\n\\nIf an official event management company is collecting fees or contracting on behalf of a tradeshow event owner, transparency is key. The website, agreements, and all supporting documentation must clearly outline the three-way nature of the relationship and the data rights involved. \\n\\nFor new events or when using a new marketing agency instead of directly with the sponsor organizer hosting the event, the Trademark Logo clause is required. This clause can be obtained by reaching out to procurementcontracts@oracle.com for an Oracle contract that includes Trademark Logo requirements.\\n\\nAdditionally, for 3rd Party Sponsorships, approval from C&E is required. It is important to include all necessary information on the Purchase Requisition, such as the date, name, location, and purpose of the event, as well as attaching a prospectus or flyer for the event that includes the benefits Oracle receives. \\n\\nFor further guidance on compliance and next steps, it is recommended to review the Global Marketing Compliance, Privacy, and Security Sponsorships Guidance document and refer to the Step-by-Step contract process instructions on the Meetings & Events website for regional instructions.\",\n",
       "  'sources': [Document(metadata={'Header 1': 'Sponsorships Fees', 'Header 2': 'Category Description'}, page_content='## Category Description  \\nThird party owned Sponsorship or Tradeshow fees for a Corporate and/or OPN activity which Oracle provides something of value in exchange for benefit.'),\n",
       "   Document(metadata={'Header 1': 'Sponsorships Fees', 'Header 2': 'Contracts'}, page_content='## Contracts  \\n* A contract is required for all transactions.\\n* A contract is required for any sponsorships for values equal to or greater than $0..  \\nFor Sponsorship of Oracle User Group events, Trademark Logo clause is required\\n– reach out to procurementcontracts@oracle.com for Oracle contract that\\nincludes Trademark Logo requirements.  \\nOracle must pay the Sponsorship owner directly. Oracle cannot make payments to a 3rd party to then pay for a sponsorship on Oracle’s behalf. If an official event management company is collecting fees/payments or contracting on behalf of a tradeshow event owner, the website, agreements and all supporting documentation must be transparent on the three-way nature of the relationship and the data rights.\\nIf this is a new event (not previously sponsored by Oracle) or using a new marketing agency (when approved by compliance) instead of directly with sponsor organiser hosting the event, Trademark Logo clause is required - reach out to procurementcontracts@oracle.com for Oracle contract that includes  \\nTrademark Logo requirements.  \\n* For additional information on contracts, please refer to one of the Procurement Contacts below.'),\n",
       "   Document(metadata={'Header 1': 'Sponsorships Fees', 'Header 2': 'Additional Ordering Instructions'}, page_content='## Additional Ordering Instructions  \\n_Include on your Purchase Requisition:_  \\n1. Date of event\\n2. Name of event\\n3. Location of event\\n4. Purpose of event\\n5. Attach prospectus or flyer for the event including benefits Oracle receives  \\n_Additional Instructions:_  \\nRefer to the Step-by-Step contract process instructions on the [Meetings &\\nEvents website](https://mysites.oracle.com/s2s-meetings-events/step-by-step-\\ncontract-processes-to-get-m-e-contracts-signed-executed.html) for regional\\ninstructions.  \\nReview the [Global Marketing Compliance, Privacy and Security Sponsorships\\nGuidance](https://confluence.oraclecorp.com/confluence/pages/viewpage.action?spaceKey=GCPS&title=Global+Marketing+Compliance+Privacy+and+Security+Home)\\nto determine next steps. 3rd Party Sponsorships require C&E; approval.'),\n",
       "   Document(metadata={'Header 1': 'Sponsorships Fees'}, page_content='# Sponsorships Fees  \\n* [Home](/pls/apex/r/s2s/prg/1?session=3282540657778)')]},\n",
       " {'query_num': 'CMP_PROC_GUIDE_007',\n",
       "  'generated_answer': 'A contract is necessary for a non-employee meeting or event when the value of the purchase is equal to or greater than $0 if there is any exchange of Personal Information (PI). If Personal Information is being exchanged, the language from the Marketing Contact Data List SOW template is applicable to purchases with PI that is Inbound to Oracle. The contract should include the following information:\\n1. Date of meeting/event & title of meeting/event\\n2. Detailed list of charges (i.e.: space rental, food & beverages, set-up costs, etc.)\\n3. Location of event\\n4. Line of business name\\n5. Purpose of the meeting\\n\\nAdditionally, for Sponsorship/Tradeshows, the Supplier Contract and Oracle Sponsorship/Tradeshow addendum are required. For all other cases, the Oracle Contract/Standard SPA or SOW should be used. If the event is a virtual event, the Standard SPA and Virtual Event SOW should be used.',\n",
       "  'sources': [Document(metadata={'Header 1': 'Non-Employee meetings or events', 'Header 2': 'Contracts'}, page_content='## Contracts  \\n* A contract is required for transactions of $25,000 or more.\\n* A contract is required for purchases at a value equal to or greater than $0 if there is any exchange of Personal Information (PI). Language from the Marketing Contact Data List SOW template is applicable to purchases with PI that is Inbound to Oracle. If no PI is being exchanged then a contract is required at a value of $25K or higher. Exceptions to this requirement can be granted by the Category Manager. For Sponsorship/Tradeshows - Supplier Contract and Oracle Sponsorship/Tradeshow addendum All Other - Oracle Contract/ Standard SPA or SOW (FOR VIRTUAL EVENTS use the Standard SPA and Virtual Event SOW) and CRF\\n* For additional information on contracts, please refer to one of the Procurement Contacts below.'),\n",
       "   Document(metadata={'Header 1': 'Non-Employee meetings or events', 'Header 2': 'Additional Ordering Instructions'}, page_content='## Additional Ordering Instructions  \\n_Include on your Purchase Requisition:_  \\n1. Date of meeting/event & title of meeting/event;\\n2. Detailed list of charges (i.e.: space rental, food & beverages, set-up costs, etc.);\\n3. Location of event\\n4. Line of business name\\n5. purpose of the meeting  \\n_Additional Instructions:_  \\nRefer to the Step-by-Step contract process instructions on the [Meetings &\\nEvents website](https://mysites.oracle.com/s2s-meetings-events/step-by-step-\\ncontract-processes-to-get-m-e-contracts-signed-executed.html) for regional\\ninstructions.'),\n",
       "   Document(metadata={'Header 1': 'Non-Employee meetings or events', 'Header 2': 'Pricing'}, page_content='## Pricing  \\n* One quote is required above $5,000.\\n* Procurement review is always required for this category.\\n* When an existing contracted rate does not exist, a sourcing event may be required if the purchase amount is greater than $100,000.\\n* Please work with your Procurement Contact if you need assistance.\\n* **Note:** All pricing is contracted in the local functional currency of the contracting legal entity. Functional currency is defined as the currency in which the business transactions of a country are normally denominated. Refer to the [Non-Functional Currency Policy](https://ptp.oraclecorp.com/pls/apex/f?p=151:1:14373782505883::::DP,DL,DV,DJ,DT,DI,DN,DC,DG,DO,DA,LI,MI,DD:4,0,0,0,0,26050,0,0,0,0,0,1,0,0) for agreements that include pricing not related to the local functional currency.'),\n",
       "   Document(metadata={'Header 1': 'Non-Employee meetings or events', 'Header 2': 'Procurement Contacts'}, page_content='## Procurement Contacts  \\n* [shirley.kuhloie@oracle.com](mailto:shirley.kuhloie@oracle.com) (Global)\\n* [sarah.young@oracle.com](mailto:sarah.young@oracle.com) (EMEA)\\n* [aileen.london@oracle.com](mailto:aileen.london@oracle.com) (JAPAC)\\n* [dunia.murillo@oracle.com](mailto:dunia.murillo@oracle.com) (LAD)\\n* [jack.eichhorn@oracle.com](mailto:jack.eichhorn@oracle.com) (North America)')]},\n",
       " {'query_num': 'CMP_PROC_GUIDE_008',\n",
       "  'generated_answer': 'In the purchase requisition for a non-employee meeting or event, the following information must be included:\\n1. Date of meeting/event & title of meeting/event\\n2. Detailed list of charges (i.e.: space rental, food & beverages, set-up costs, etc.)\\n3. Location of event\\n4. Line of business name\\n5. Purpose of the meeting\\n\\nAdditionally, it is recommended to refer to the Step-by-Step contract process instructions on the Meetings & Events website for regional instructions related to the procurement process for meetings and events.',\n",
       "  'sources': [Document(metadata={'Header 1': 'Non-Employee meetings or events', 'Header 2': 'Additional Ordering Instructions'}, page_content='## Additional Ordering Instructions  \\n_Include on your Purchase Requisition:_  \\n1. Date of meeting/event & title of meeting/event;\\n2. Detailed list of charges (i.e.: space rental, food & beverages, set-up costs, etc.);\\n3. Location of event\\n4. Line of business name\\n5. purpose of the meeting  \\n_Additional Instructions:_  \\nRefer to the Step-by-Step contract process instructions on the [Meetings &\\nEvents website](https://mysites.oracle.com/s2s-meetings-events/step-by-step-\\ncontract-processes-to-get-m-e-contracts-signed-executed.html) for regional\\ninstructions.'),\n",
       "   Document(metadata={'Header 1': 'Non-Employee meetings or events', 'Header 2': 'Pricing'}, page_content='## Pricing  \\n* One quote is required above $5,000.\\n* Procurement review is always required for this category.\\n* When an existing contracted rate does not exist, a sourcing event may be required if the purchase amount is greater than $100,000.\\n* Please work with your Procurement Contact if you need assistance.\\n* **Note:** All pricing is contracted in the local functional currency of the contracting legal entity. Functional currency is defined as the currency in which the business transactions of a country are normally denominated. Refer to the [Non-Functional Currency Policy](https://ptp.oraclecorp.com/pls/apex/f?p=151:1:14373782505883::::DP,DL,DV,DJ,DT,DI,DN,DC,DG,DO,DA,LI,MI,DD:4,0,0,0,0,26050,0,0,0,0,0,1,0,0) for agreements that include pricing not related to the local functional currency.'),\n",
       "   Document(metadata={'Header 1': 'Non-Employee meetings or events', 'Header 2': 'Content'}, page_content='## Content  \\n* [Pricing](https://apex.oraclecorp.com/pls/apex/#QUOTES)\\n* [Contracts](https://apex.oraclecorp.com/pls/apex/#CONTRACTS)\\n* [Procurement Contacts](https://apex.oraclecorp.com/pls/apex/#CM)\\n* [Category Guidelines](https://apex.oraclecorp.com/pls/apex/#POLICY)\\n* [Additional Instructions](https://apex.oraclecorp.com/pls/apex/#INSTRUCTIONS)\\n* [Preferred Suppliers](https://apex.oraclecorp.com/pls/apex/#PreferredSuppliers)\\n* [Create a Requisition](https://mysites.oracle.com/procurement)'),\n",
       "   Document(metadata={'Header 1': 'Non-Employee meetings or events', 'Header 2': 'Procurement Contacts'}, page_content='## Procurement Contacts  \\n* [shirley.kuhloie@oracle.com](mailto:shirley.kuhloie@oracle.com) (Global)\\n* [sarah.young@oracle.com](mailto:sarah.young@oracle.com) (EMEA)\\n* [aileen.london@oracle.com](mailto:aileen.london@oracle.com) (JAPAC)\\n* [dunia.murillo@oracle.com](mailto:dunia.murillo@oracle.com) (LAD)\\n* [jack.eichhorn@oracle.com](mailto:jack.eichhorn@oracle.com) (North America)')]},\n",
       " {'query_num': 'CMP_PROC_GUIDE_010',\n",
       "  'generated_answer': \"Utilizing preferred suppliers can expedite the procurement process for non-employee meetings or events by providing a list of suppliers that have already been vetted and approved by the organization. This means that the procurement team has already established relationships with these suppliers, negotiated pricing agreements, and ensured that they meet the necessary quality and compliance standards. By choosing a preferred supplier from the list provided, the need for extensive research, negotiation, and due diligence is minimized, saving time and streamlining the purchasing process.\\n\\nAdditionally, working with preferred suppliers can lead to faster order processing and delivery times, as these suppliers are familiar with the organization's requirements and processes. They are more likely to prioritize orders from preferred customers, resulting in quicker turnaround times for goods or services needed for non-employee meetings or events.\\n\\nIn cases where there are no preferred suppliers available for a specific location or category, the procurement contacts provided can offer additional guidance and support to help identify suitable suppliers or navigate the procurement process effectively. This ensures that even in the absence of preferred suppliers, the procurement process can still be managed efficiently with the assistance of the procurement team.\",\n",
       "  'sources': [Document(metadata={'Header 1': 'Non-Employee meetings or events', 'Header 2': 'Preferred Suppliers'}, page_content=\"## Preferred Suppliers  \\nTo expedite your purchase, utilize one of the preferred suppliers provided\\nbelow. If there are no preferred suppliers, refer to the [Procurement\\nContacts](https://apex.oraclecorp.com/pls/apex/#CM) for additional guidance.  \\nCountry  \\nAlgeria Andorra Antigua And Barbuda Argentina Armenia Aruba Australia Austria\\nAzerbaijan Bahamas Bahrain Bangladesh Barbados Belarus Belgium Belize Benin\\nBolivia Bosnia Bosnia And Herzegovina Botswana Brazil Brunei Darussalam\\nBulgaria Burkina Faso Cambodia Cameroon Canada Chad Chile China Colombia Congo\\nCosta Rica Croatia Cyprus Czech Republic Denmark Dominican Republic Ecuador\\nEgypt El Salvador Estonia Ethiopia Fiji Finland France Gabon Georgia Germany\\nGhana Greece Guam Guatemala Honduras Hong Kong Hungary Iceland India Indonesia\\nIreland Israel Italy Ivory Coast Jamaica Japan Jordan Kazakhstan Kenya Korea\\nKuwait Kyrgyzstan Laos Latvia Lebanon Lithuania Luxembourg Macao Macedonia -\\nProvisional Madagascar Malaysia Maldives Mali Malta Mauritius Mexico\\nMontenegro Morocco Mozambique Nepal Netherlands Netherlands Antilles New\\nZealand Nicaragua Niger Nigeria Norway Oman Pakistan Panama Paraguay Peru\\nPhilippines Poland Portugal Puerto Rico Qatar Romania Russia Rwanda Saint\\nKitts And Nevis San Marino Saudi Arabia Scotland Senegal Serbia Sierra Leone\\nSingapore Slovakia Slovenia South Africa South Asia Growth Economies Spain Sri\\nLanka St. Helena Suriname Sweden Switzerland Syrian Arab Republic Taiwan\\nTanzania, United Republic Of Thailand Trinidad And Tobago Tunisia Turkey Turks\\nAnd Caicos Islands Uganda Ukraine United Arab Emirates United Kingdom United\\nStates Uruguay Uzbekistan Venezuela Vietnam Virgin Islands (British) Zambia\\nZimbabwe  \\n* 225 Liberty Location LLC\\n* 4Wall Entertainment, Inc.\\n* 7th Avenue Nashville Hotel Owner, LLC\\n* AHEAD FZCO\\n* ALL CUBO EVENTOS LTDA\\n* ANA Intercontinental Hotel\\n* Abu Dhabi National Exhibitions Company\\n* Ad Produtos E Serviços Promocionais Eirele\\n* Asesorias TCC Spa\\n* Atenas Comunicacao Ltda\\n* Aventri\\n* BCT Entertainment, Inc\\n* BREATHE PRODUCTION LTD\\n* BW Events tech\\n* Bianculli & Costa Producoes E Comercio De Eletronicos Ltda\\n* Black Box Corporation\\n* Blackbrier Co\\n* Broadridge Investor Communication\\n* CE3 Design\\n* Canaletto Il Fornaio\\n* Cidreira Restaurante E Eventos Ltda\\n* City of Kansas City Missouri\\n* Cogs & Marvel USA Inc\\n* Contraste Total S.A. De C.V.\\n* DBA Slate\\n* Dakota Events, LLC\\n* Dallas Convention Center Hotel Development Corporation\\n* Domenico Catering & Events LLC\\n* Double Eagle Club\\n* Drai's Management Group LLC\\n* Eiffel Tower, Llc\\n* Elite Security Specialist LLC\\n* Enfoque en Sinergias Aplicadas S.A. de.V\\n* Enterprise Events Group\\n* FIERA MILANO CONGRESSI SPA\\n* Feeling Comunicacao Integrada Ltda\\n* Fern Exposition & Event Services\\n* Fuse Technical Group\\n* Future Insights Network Ltd\\n* GPJ JAPAC\\n* George P Johnson\\n* Grand Bay Hotel San Francisco\\n* Harlie Jole, LLC\\n* Heard Global\\n* Hello! Washington, DC Destination Management\\n* ICT AND STRATEGY S.R.L.\\n* ITC Administração e Hotelaria Ltda\\n* InVision Communications Incorporated\\n* Incidium Ltd\\n* Infosys Tech\\n* Kinetic Lighting\\n* LMG, LLC\\n* LV Stadium Events Company, LLC\\n* Lettuce Entertain You\\n* MCI Brasil Ltda.\\n* MCI Suisse\\n* MOMENTUM COMUNICAÇÃO LTDA.\\n* Madame Tussauds Las Vegas\\n* Mandalay Bay Resort and Casino\\n* NEXT BUSINESS EXHIBITIONS SL\\n* Occasions Caterers Inc\\n* Omni Hotels\\n* Open Data Science, Inc.\\n* Oscardepau Producoes Artisticas Ltda\\n* PENSIERO & PAROLE DI PIETRANTONI LUCIA\\n* POULTRY OPCO LIMITED-The Ned\\n* Portys\\n* Push Agency\\n* Rigging Technologies\\n* Rodrigues Producoes De Eventos Ltda\\n* Royal Garden Hotel\\n* Southwest Scenic Group, Inc.\\n* Stripview Entertainment LLC\\n* Super Push (Marketing Systems) Ltd\\n* Sweetwater Video Productions\\n* TAB Consulting, Inc dba 360 Events & Promotions\\n* Tao\\n* Tater Networks LLC\\n* The August Jackson Company\\n* The Ballantyne Hotel and Lodge\\n* The Joule dba 1530 Main LP\\n* The Smart Source\\n* UCF Hotel Venture dba Loews Royal Pacific Resort\\n* VCI Event Technology, Inc.\\n* Venetian Hotel\\n* Virgin Hotels Las Vegas\\n* Webevents LLC\\n* Wegweiser GmbH Berlin\\n* XpoNet dba xpodigital\\n* Zohar Sivan And Alkobi Eli-hazohar Pitronot Aitzuv Lea\"),\n",
       "   Document(metadata={'Header 1': 'Non-Employee meetings or events', 'Header 2': 'Pricing'}, page_content='## Pricing  \\n* One quote is required above $5,000.\\n* Procurement review is always required for this category.\\n* When an existing contracted rate does not exist, a sourcing event may be required if the purchase amount is greater than $100,000.\\n* Please work with your Procurement Contact if you need assistance.\\n* **Note:** All pricing is contracted in the local functional currency of the contracting legal entity. Functional currency is defined as the currency in which the business transactions of a country are normally denominated. Refer to the [Non-Functional Currency Policy](https://ptp.oraclecorp.com/pls/apex/f?p=151:1:14373782505883::::DP,DL,DV,DJ,DT,DI,DN,DC,DG,DO,DA,LI,MI,DD:4,0,0,0,0,26050,0,0,0,0,0,1,0,0) for agreements that include pricing not related to the local functional currency.'),\n",
       "   Document(metadata={'Header 1': 'Non-Employee meetings or events', 'Header 2': 'Content'}, page_content='## Content  \\n* [Pricing](https://apex.oraclecorp.com/pls/apex/#QUOTES)\\n* [Contracts](https://apex.oraclecorp.com/pls/apex/#CONTRACTS)\\n* [Procurement Contacts](https://apex.oraclecorp.com/pls/apex/#CM)\\n* [Category Guidelines](https://apex.oraclecorp.com/pls/apex/#POLICY)\\n* [Additional Instructions](https://apex.oraclecorp.com/pls/apex/#INSTRUCTIONS)\\n* [Preferred Suppliers](https://apex.oraclecorp.com/pls/apex/#PreferredSuppliers)\\n* [Create a Requisition](https://mysites.oracle.com/procurement)'),\n",
       "   Document(metadata={'Header 1': 'Non-Employee meetings or events', 'Header 2': 'Procurement Contacts'}, page_content='## Procurement Contacts  \\n* [shirley.kuhloie@oracle.com](mailto:shirley.kuhloie@oracle.com) (Global)\\n* [sarah.young@oracle.com](mailto:sarah.young@oracle.com) (EMEA)\\n* [aileen.london@oracle.com](mailto:aileen.london@oracle.com) (JAPAC)\\n* [dunia.murillo@oracle.com](mailto:dunia.murillo@oracle.com) (LAD)\\n* [jack.eichhorn@oracle.com](mailto:jack.eichhorn@oracle.com) (North America)')]},\n",
       " {'query_num': 'CMP_PROC_GUIDE_011',\n",
       "  'generated_answer': 'The key contract requirements for hiring a non-billable independent contractor include the following:\\n\\n1. A contract is required for all transactions.\\n2. Master Contracts: Contingent Workforce Program (CWP) Agreement OR Contingent Workforce Services (CWS) Agreement.\\n3. Additional agreements may include Network Access Agreement (NAA), Statement of Work (SOW), Work Order (WO), Consultant Non-Disclosure Agreement (CNDA), Source Material Agreement (SMA), Supplier Business Associate Agreement (SBAA).\\n4. For new Statements of Work (SOW), requestors will have to fill in a Procurement Contracts Team Approval Summary (PCTAS).\\n\\nThese requirements ensure that there is a legal agreement in place outlining the terms and conditions of the engagement with the non-billable independent contractor.',\n",
       "  'sources': [Document(metadata={'Header 1': 'Non Billable Indepdt Contractor Labor', 'Header 2': 'Independent Contract Evaluation'}, page_content='## Independent Contract Evaluation  \\nAn independent contractor evaluation is required for this category.'),\n",
       "   Document(metadata={'Header 1': 'Non Billable Indepdt Contractor Labor', 'Header 2': 'Additional Ordering Instructions'}, page_content='## Additional Ordering Instructions  \\n_Include on your Purchase Requisition:_  \\n1. Name of Independent Contractor;\\n2. Dates of Service;\\n3. Detailed description of service and/or deliverables (if any);\\n4. Location of service; and\\n5. Fee Structure (eg. Charge per hour/month, fixed fee, etc)'),\n",
       "   Document(metadata={'Header 1': 'Non Billable Indepdt Contractor Labor', 'Header 2': 'Contracts'}, page_content=\"## Contracts  \\n* A contract is required for all transactions.\\n* Master Contracts: Contingent Workforce Program (CWP) Agreement OR Contingent Workforce Services (CWS) Agreement  \\n* CWP Countries, where Beeline VMS is used: US, CA, UK, IE, FR, NL, RO, PL, HU, SG, JP, IN, AU, NZ  \\n* Additional agreements: Network Access Agreement (NAA), Statement of Work (SOW), Work Order (WO), Consultant Non-Disclosure Agreement (CNDA), Source Material Agreement (SMA), Supplier Business Associate Agreement (SBAA).  \\n* For the new SOW's requestors will have to fill in a Procurement Contracts Team Approval Summary (PCTAS)  \\n* For additional information on contracts, please refer to one of the Procurement Contacts below.\"),\n",
       "   Document(metadata={'Header 1': 'Non Billable Indepdt Contractor Labor'}, page_content='# Non Billable Indepdt Contractor Labor  \\n* [Home](https://apex.oraclecorp.com/pls/apex/r/s2s/prg/1?session=110811283348442)')]},\n",
       " {'query_num': 'CMP_PROC_GUIDE_012',\n",
       "  'generated_answer': 'The specific information that should be included in the purchase requisition for hiring a non-billable independent contractor are as follows:\\n1. Name of Independent Contractor\\n2. Dates of Service\\n3. Detailed description of service and/or deliverables (if any)\\n4. Location of service\\n5. Fee Structure (e.g., Charge per hour/month, fixed fee, etc)\\n\\nThese details are essential for the procurement process and to ensure that the hiring of the non-billable independent contractor is properly documented and approved.',\n",
       "  'sources': [Document(metadata={'Header 1': 'Non Billable Indepdt Contractor Labor', 'Header 2': 'Additional Ordering Instructions'}, page_content='## Additional Ordering Instructions  \\n_Include on your Purchase Requisition:_  \\n1. Name of Independent Contractor;\\n2. Dates of Service;\\n3. Detailed description of service and/or deliverables (if any);\\n4. Location of service; and\\n5. Fee Structure (eg. Charge per hour/month, fixed fee, etc)'),\n",
       "   Document(metadata={'Header 1': 'Non Billable Indepdt Contractor Labor', 'Header 2': 'Category Guidelines'}, page_content='## Category Guidelines  \\n* Oracle managers responsible for engaging contingent workers who are not re-billed to an Oracle customer must ensure they are procured through the **External Contractors** procurement category.\\n* The purchase requisition value should be for the entire term or duration of the external contractor assignment or project. Additional funding is treated as a purchase order extension, and the total new amount will route for approval.\\n* Contractor expenses are shown on a separate line of the requisition.\\n* Refer to the [Global Contingent Labor Policy](https://ptp.oraclecorp.com/pls/apex/f?p=151:1:321099484425::::DP,DL,DV,DJ,DT,DI,DN,DC,DG,DO:4,0,0,0,0,13651,0,0,0,0) or [External Contractors webpage](https://mysites.oracle.com/s2s-external-contractors/) for additional information.\\n* Oracle has determined that the use of External Contractors (Billable and Non-Billable) is not allowed in the \"Oracle Sovereign Entities\". Please follow the [link](https://oradocs.oracle.com/documents/authlink/LD66F9973F86BA290CB724B6315C1A4C8A69E53F\\\\[%E2%80%A6\\\\]EA2FC94BC90EEB39D975F01/_NoContractors_EUSovereignLE_s.docx) for additional information.\\n\\\\- ORCL CZ OSC-iProc \\\\- ORCL DE OSC-iProc \\\\- ORCL IE OSC-iProc \\\\- ORCL RO OSC-\\niProc \\\\- ORCL ES OSC-iProc'),\n",
       "   Document(metadata={'Header 1': 'Non Billable Indepdt Contractor Labor', 'Header 2': 'Independent Contract Evaluation'}, page_content='## Independent Contract Evaluation  \\nAn independent contractor evaluation is required for this category.'),\n",
       "   Document(metadata={'Header 1': 'Non Billable Indepdt Contractor Labor'}, page_content='# Non Billable Indepdt Contractor Labor  \\n* [Home](https://apex.oraclecorp.com/pls/apex/r/s2s/prg/1?session=110811283348442)')]},\n",
       " {'query_num': 'CMP_PROC_GUIDE_013',\n",
       "  'generated_answer': 'To ensure compliance and risk mitigation when hiring an independent contractor, the following steps should be taken:\\n\\n1. Conduct an independent contractor evaluation: An evaluation of the independent contractor is required to ensure compliance with regulations and mitigate risks associated with hiring contractors.\\n\\n2. Include specific details on the Purchase Requisition: When ordering services from an independent contractor, include the name of the contractor, dates of service, detailed description of services or deliverables, location of service, and fee structure (e.g., charge per hour/month, fixed fee, etc) on the Purchase Requisition. This documentation helps in tracking and verifying the services provided by the contractor.\\n\\n3. Vet, engage, and pay through a preferred third-party supplier: Ideally, independent contractors should be vetted, engaged, and paid through a preferred third-party supplier. This helps in mitigating risks associated with hiring contractors and ensures compliance with regulations.\\n\\n4. Follow the Category Description guidelines: Ensure that the independent contractor falls within the category description provided, which includes individuals or small businesses with less than five employees operating as subject-matter experts for a fixed period of time. Adhering to these guidelines can help in ensuring compliance and risk mitigation.\\n\\nBy following these steps, organizations can ensure compliance with regulations and mitigate risks when hiring independent contractors.',\n",
       "  'sources': [Document(metadata={'Header 1': 'Non Billable Indepdt Contractor Labor', 'Header 2': 'Independent Contract Evaluation'}, page_content='## Independent Contract Evaluation  \\nAn independent contractor evaluation is required for this category.'),\n",
       "   Document(metadata={'Header 1': 'Non Billable Indepdt Contractor Labor', 'Header 2': 'Additional Ordering Instructions'}, page_content='## Additional Ordering Instructions  \\n_Include on your Purchase Requisition:_  \\n1. Name of Independent Contractor;\\n2. Dates of Service;\\n3. Detailed description of service and/or deliverables (if any);\\n4. Location of service; and\\n5. Fee Structure (eg. Charge per hour/month, fixed fee, etc)'),\n",
       "   Document(metadata={'Header 1': 'Non Billable Indepdt Contractor Labor', 'Header 2': 'Category Description'}, page_content=\"## Category Description  \\nAn individual (or small business less than five employees in the US and\\nCanada) operating as a subject-matter expert for a fixed period of time.\\nIdeally, IC's should be vetted, engaged and paid through a preferred third-\\nparty supplier to mitigate risk.\"),\n",
       "   Document(metadata={'Header 1': 'Non Billable Indepdt Contractor Labor'}, page_content='# Non Billable Indepdt Contractor Labor  \\n* [Home](https://apex.oraclecorp.com/pls/apex/r/s2s/prg/1?session=110811283348442)')]},\n",
       " {'query_num': 'CMP_PROC_GUIDE_014',\n",
       "  'generated_answer': 'Utilizing preferred suppliers can expedite the procurement process for maintenance and support services by providing a list of suppliers that have already been vetted and approved by the organization. This means that these suppliers have met certain criteria such as quality standards, pricing agreements, and service level agreements. By choosing a preferred supplier, the organization can skip the lengthy process of evaluating and negotiating with multiple suppliers, which can save time and streamline the procurement process. Additionally, preferred suppliers may offer discounts or special terms to the organization, further enhancing the efficiency of the procurement process. Overall, utilizing preferred suppliers can help ensure a quicker and smoother acquisition of maintenance and support services for technology hardware.',\n",
       "  'sources': [Document(metadata={'Header 1': 'Maintenance and Support', 'Header 2': 'Additional Ordering Instructions'}, page_content='## Additional Ordering Instructions  \\n_Include on your Purchase Requisition:_  \\nInclude (1) number of pieces being serviced; (2) Detailed description of each\\nitem - model and part number; (3) Exactly what type or level of service will\\nbe provided (4) Service term start and end date. Attach Supplier quote or\\nproposal.  \\n_Additional Instructions:_  \\nIf it is a renewal for a previous PO, please provide details of the PO. If it\\nis a first-time maintenance PO, please provide the hardware purchase PO\\ndetails to verify the maintenance being requested. Any agreement required by\\nthe Supplier or quote that requires signature should be attached to the\\nPurchase Requisition. This category is to be used for Click Charge agreements\\nfor Multi Function Copiers.  \\n**OPN Partner**. A purchasing contract is always required when the Supplier is\\nan OPN Partner and the purchase is not in these countries:  \\n**JAPAC** : Australia, Japan, New Zealand  \\n**EMEA** : Austria, Belgium, Denmark, Finland, Iceland, Ireland, Luxembourg,\\nNorway, Netherlands, Sweden, Switzerland, United Kingdom  \\n**Americas** : Canada, United States  \\n**Note** : The requester is required to add the \"Service Start Date\" and\\n\"Service End Date\" in the description for this purchase category'),\n",
       "   Document(metadata={'Header 1': 'Maintenance and Support', 'Header 2': 'Preferred Suppliers'}, page_content='## Preferred Suppliers  \\nTo expedite your purchase, utilize one of the preferred suppliers provided\\nbelow. If there are no preferred suppliers, refer to the [Procurement\\nContacts](https://apex.oraclecorp.com/pls/apex/#CM) for additional guidance.  \\nCountry  \\nAlgeria Andorra Antigua And Barbuda Argentina Armenia Aruba Australia Austria\\nAzerbaijan Bahamas Bahrain Bangladesh Barbados Belarus Belgium Belize Benin\\nBolivia Bosnia Bosnia And Herzegovina Botswana Brazil Brunei Darussalam\\nBulgaria Burkina Faso Cambodia Cameroon Canada Chad Chile China Colombia Congo\\nCosta Rica Croatia Cyprus Czech Republic Denmark Dominican Republic Ecuador\\nEgypt El Salvador Estonia Ethiopia Fiji Finland France Gabon Georgia Germany\\nGhana Greece Guam Guatemala Honduras Hong Kong Hungary Iceland India Indonesia\\nIreland Israel Italy Ivory Coast Jamaica Japan Jordan Kazakhstan Kenya Korea\\nKuwait Kyrgyzstan Laos Latvia Lebanon Lithuania Luxembourg Macao Macedonia -\\nProvisional Madagascar Malaysia Maldives Mali Malta Mauritius Mexico\\nMontenegro Morocco Mozambique Nepal Netherlands Netherlands Antilles New\\nZealand Nicaragua Niger Nigeria Norway Oman Pakistan Panama Paraguay Peru\\nPhilippines Poland Portugal Puerto Rico Qatar Romania Russia Rwanda Saint\\nKitts And Nevis San Marino Saudi Arabia Scotland Senegal Serbia Sierra Leone\\nSingapore Slovakia Slovenia South Africa South Asia Growth Economies Spain Sri\\nLanka St. Helena Suriname Sweden Switzerland Syrian Arab Republic Taiwan\\nTanzania, United Republic Of Thailand Trinidad And Tobago Tunisia Turkey Turks\\nAnd Caicos Islands Uganda Ukraine United Arab Emirates United Kingdom United\\nStates Uruguay Uzbekistan Venezuela Vietnam Virgin Islands (British) Zambia\\nZimbabwe'),\n",
       "   Document(metadata={'Header 1': 'Maintenance and Support', 'Header 2': 'Category Description'}, page_content='## Category Description  \\nMaintenance and support of technology hardware (i.e. servers, storage, testing\\nequipment, non-warranty computer repair, computer data recovery, and multi\\nfunction devices) if the value does NOT meet the [Prepay Amortization Policy\\n](https://ptp.oraclecorp.com/pls/apex/f?p=151:1:16435321490076::::DP,DL,DV,DJ,DT,DI,DN,DC,DG,DO,DA,LI,MI,DD:4,0,0,0,0,13632,0,0,0,0,2,1,0,4542).  \\nThis excludes Networking and Security products.'),\n",
       "   Document(metadata={'Header 1': 'Maintenance and Support', 'Header 2': 'Contracts'}, page_content='## Contracts  \\n* A contract is required for transactions of $100,000 or more.\\n* If the Supplier is an OPN Partner a contract is always required  \\n**Contract Type required** Oracle Master Purchase and Services Agreement\\n(MPSA), MPSA Products Schedule/MPSA Support Services Schedule/Professional\\nServices Schedule  \\n* For additional information on contracts, please refer to one of the Procurement Contacts below.')]},\n",
       " {'query_num': 'CMP_PROC_GUIDE_015',\n",
       "  'generated_answer': 'The specific details that should be included in the purchase requisition for maintenance and support services are as follows:\\n\\n1. Number of pieces being serviced.\\n2. Detailed description of each item, including model and part number.\\n3. Exactly what type or level of service will be provided.\\n4. Service term start and end date.\\n5. Attach Supplier quote or proposal.\\n6. If it is a renewal for a previous PO, provide details of the PO.\\n7. If it is a first-time maintenance PO, provide the hardware purchase PO details to verify the maintenance being requested.\\n8. Any agreement required by the Supplier or quote that requires a signature should be attached to the Purchase Requisition.\\n9. For Click Charge agreements for Multi-Function Copiers, the requester is required to add the \"Service Start Date\" and \"Service End Date\" in the description for this purchase category.',\n",
       "  'sources': [Document(metadata={'Header 1': 'Maintenance and Support', 'Header 2': 'Additional Ordering Instructions'}, page_content='## Additional Ordering Instructions  \\n_Include on your Purchase Requisition:_  \\nInclude (1) number of pieces being serviced; (2) Detailed description of each\\nitem - model and part number; (3) Exactly what type or level of service will\\nbe provided (4) Service term start and end date. Attach Supplier quote or\\nproposal.  \\n_Additional Instructions:_  \\nIf it is a renewal for a previous PO, please provide details of the PO. If it\\nis a first-time maintenance PO, please provide the hardware purchase PO\\ndetails to verify the maintenance being requested. Any agreement required by\\nthe Supplier or quote that requires signature should be attached to the\\nPurchase Requisition. This category is to be used for Click Charge agreements\\nfor Multi Function Copiers.  \\n**OPN Partner**. A purchasing contract is always required when the Supplier is\\nan OPN Partner and the purchase is not in these countries:  \\n**JAPAC** : Australia, Japan, New Zealand  \\n**EMEA** : Austria, Belgium, Denmark, Finland, Iceland, Ireland, Luxembourg,\\nNorway, Netherlands, Sweden, Switzerland, United Kingdom  \\n**Americas** : Canada, United States  \\n**Note** : The requester is required to add the \"Service Start Date\" and\\n\"Service End Date\" in the description for this purchase category'),\n",
       "   Document(metadata={'Header 1': 'Maintenance and Support', 'Header 2': 'Category Description'}, page_content='## Category Description  \\nMaintenance and support of technology hardware (i.e. servers, storage, testing\\nequipment, non-warranty computer repair, computer data recovery, and multi\\nfunction devices) if the value does NOT meet the [Prepay Amortization Policy\\n](https://ptp.oraclecorp.com/pls/apex/f?p=151:1:16435321490076::::DP,DL,DV,DJ,DT,DI,DN,DC,DG,DO,DA,LI,MI,DD:4,0,0,0,0,13632,0,0,0,0,2,1,0,4542).  \\nThis excludes Networking and Security products.'),\n",
       "   Document(metadata={'Header 1': 'Maintenance and Support', 'Header 2': 'Pricing'}, page_content='## Pricing  \\n* One quote is required above $5,000.\\n* Procurement review is always required for this category.\\n* When an existing contracted rate does not exist, a sourcing event may be required if the purchase amount is greater than $100,000.\\n* Please work with your Procurement Contact if you need assistance.\\n* **Note:** All pricing is contracted in the local functional currency of the contracting legal entity. Functional currency is defined as the currency in which the business transactions of a country are normally denominated. Refer to the [Non-Functional Currency Policy](https://ptp.oraclecorp.com/pls/apex/f?p=151:1:14373782505883::::DP,DL,DV,DJ,DT,DI,DN,DC,DG,DO,DA,LI,MI,DD:4,0,0,0,0,26050,0,0,0,0,0,1,0,0) for agreements that include pricing not related to the local functional currency.'),\n",
       "   Document(metadata={'Header 1': 'Maintenance and Support', 'Header 2': 'Contracts'}, page_content='## Contracts  \\n* A contract is required for transactions of $100,000 or more.\\n* If the Supplier is an OPN Partner a contract is always required  \\n**Contract Type required** Oracle Master Purchase and Services Agreement\\n(MPSA), MPSA Products Schedule/MPSA Support Services Schedule/Professional\\nServices Schedule  \\n* For additional information on contracts, please refer to one of the Procurement Contacts below.')]},\n",
       " {'query_num': 'CMP_PROC_GUIDE_016',\n",
       "  'generated_answer': 'Yes, another preferred vendor you can use for sponsorship activities in Australia, aside from TERRAPINN HOLDINGS LTD, is 225 Liberty Location LLC.',\n",
       "  'sources': [Document(metadata={'Header 1': 'Non Billable Indepdt Contractor Labor', 'Header 2': 'Preferred Suppliers'}, page_content='## Preferred Suppliers  \\nTo expedite your purchase, utilize one of the preferred suppliers provided\\nbelow. If there are no preferred suppliers, refer to the [Procurement\\nContacts](https://apex.oraclecorp.com/pls/apex/#CM) for additional guidance.  \\nCountry  \\nAlgeria Andorra Antigua And Barbuda Argentina Armenia Aruba Australia Austria\\nAzerbaijan Bahamas Bahrain Bangladesh Barbados Belarus Belgium Belize Benin\\nBolivia Bosnia Bosnia And Herzegovina Botswana Brazil Brunei Darussalam\\nBulgaria Burkina Faso Cambodia Cameroon Canada Chad Chile China Colombia Congo\\nCosta Rica Croatia Cyprus Czech Republic Denmark Dominican Republic Ecuador\\nEgypt El Salvador Estonia Ethiopia Fiji Finland France Gabon Georgia Germany\\nGhana Greece Guam Guatemala Honduras Hong Kong Hungary Iceland India Indonesia\\nIreland Israel Italy Ivory Coast Jamaica Japan Jordan Kazakhstan Kenya Korea\\nKuwait Kyrgyzstan Laos Latvia Lebanon Lithuania Luxembourg Macao Macedonia -\\nProvisional Madagascar Malaysia Maldives Mali Malta Mauritius Mexico\\nMontenegro Morocco Mozambique Nepal Netherlands Netherlands Antilles New\\nZealand Nicaragua Niger Nigeria Norway Oman Pakistan Panama Paraguay Peru\\nPhilippines Poland Portugal Puerto Rico Qatar Romania Russia Rwanda Saint\\nKitts And Nevis San Marino Saudi Arabia Scotland Senegal Serbia Sierra Leone\\nSingapore Slovakia Slovenia South Africa South Asia Growth Economies Spain Sri\\nLanka St. Helena Suriname Sweden Switzerland Syrian Arab Republic Taiwan\\nTanzania, United Republic Of Thailand Trinidad And Tobago Tunisia Turkey Turks\\nAnd Caicos Islands Uganda Ukraine United Arab Emirates United Kingdom United\\nStates Uruguay Uzbekistan Venezuela Vietnam Virgin Islands (British) Zambia\\nZimbabwe  \\n* 4 Pr Consultoria Em Comunicação Ltda\\n* AA Piotr Wargocki\\n* ACCSIGHT\\n* Aggrandize Serviços de Tecnologia da Informação Ltda\\n* AxiaMetrics LLP\\n* Azpired Inc\\n* ClinStat GmbH\\n* Concilium Search LLC\\n* Digital & Cloud Solutions LLC\\n* Evolytics LLC\\n* Garitty Ventures LLC dba FPW Media\\n* Hays Professional Solutions GmbH\\n* Ideal Health Consultants Limited\\n* Luzcon Digital Ltda\\n* MSM MIRI STORFER MARKETING LTD\\n* Michael Hofmeister\\n* Micro Focus Software Inc.\\n* Presidio\\n* Progressive - Sthree Gmbh\\n* Riforce BV\\n* SMART CO CONSULTING LIMITED\\n* Sramek\\n* Staburo GmbH\\n* Synaxis Corporation\\n* The Red Agency Ltd (UK)\\n* VIP MARKETING\\n* Vanna Information Technologies India Pvt Ltd\\n* World Wide Technology, Inc\\n* YunoJuno Limited'),\n",
       "   Document(metadata={'Header 1': 'Sponsorships Fees', 'Header 2': 'Preferred Suppliers'}, page_content=\"## Preferred Suppliers  \\nTo expedite your purchase, utilize one of the preferred suppliers provided\\nbelow. If there are no preferred suppliers, refer to the Procurement Contacts\\nfor additional guidance.  \\n| Country                                                      | Supplier                                                     |\\n| ------------------------------------------------------------ | ------------------------------------------------------------ |\\n| ### Africa<br/>- Algeria<br/>- Benin<br/>- Botswana<br/>- Burkina Faso<br/>- Cameroon<br/>- Chad<br/>- Congo<br/>- Egypt<br/>- Ethiopia<br/>- Gabon<br/>- Ghana<br/>- Ivory Coast<br/>- Kenya<br/>- Madagascar<br/>- Mali<br/>- Mauritius<br/>- Morocco<br/>- Mozambique<br/>- Niger<br/>- Nigeria<br/>- Rwanda<br/>- Senegal<br/>- Sierra Leone<br/>- South Africa<br/>- Tanzania, United Republic Of<br/>- Tunisia<br/>- Uganda<br/>- Zambia<br/>- Zimbabwe<br/><br/> | - Cogs & Marvel USA Inc<br/>- CPA Academy<br/>- Executive Platforms, Inc.<br/>- Enterprise Events Group<br/>- EUROFORUM Deutschland GmbH<br/>- AHEAD FZC<br/>- Global Experience Specialists, Inc<br/>- Billington CyberSecurity<br/>- Thursday Nights<br/>- Fern Exposition & Event Services<br/>- Oasis Summit LLC<br/>- Educause<br/>- Internet Society<br/>- Display Studios Inc<br/>- HIMSS Media, LLC<br/>- Informa Tech Holdings LLC<br/>- Lake Nona Institute<br/>- IMAGO TECHMEDIA LIMITED<br/>- Generis<br/>- Retail Industry Leaders Association<br/>- Informa Exhibitions US Construction & Real Estate, Inc.<br/>- Winsight, LLC<br/>- Image Technologies<br/>- Swift Scrl<br/>- WALT DISNEY PARKS & RESORTS U.S., INC.<br/>- Newcomer Media LLC<br/>- Bachiero Event Services<br/>- The August Jackson Company<br/>- CloserStill Media Ltd<br/>- CXO<br/>- HLTH LLC<br/>- NEXT BUSINESS EXHIBITIONS SL<br/>- Rigging Technologies<br/>- VMware User Group Inc<br/> |\\n| ### Asia<br/>- Armenia<br/>- Azerbaijan<br/>- Bahrain<br/>- Bangladesh<br/>- Brunei Darussalam<br/>- Cambodia<br/>- China<br/>- Georgia<br/>- India<br/>- Indonesia<br/>- Israel<br/>- Japan<br/>- Jordan<br/>- Kazakhstan<br/>- Korea<br/>- Kuwait<br/>- Kyrgyzstan<br/>- Laos<br/>- Lebanon<br/>- Macao<br/>- Malaysia<br/>- Maldives<br/>- Nepal<br/>- Oman<br/>- Pakistan<br/>- Philippines<br/>- Qatar<br/>- Saudi Arabia<br/>- Singapore<br/>- South Asia Growth Economies<br/>- Sri Lanka<br/>- Syrian Arab Republic<br/>- Taiwan<br/>- Thailand<br/>- Turkey<br/>- Uzbekistan<br/>- Vietnam<br/><br/> | - Cogs & Marvel USA Inc<br/>- CPA Academy<br/>- Executive Platforms, Inc.<br/>- Enterprise Events Group<br/>- EUROFORUM Deutschland GmbH<br/>- AHEAD FZC<br/>- Global Experience Specialists, Inc<br/>- Billington CyberSecurity<br/>- Thursday Nights<br/>- Fern Exposition & Event Services<br/>- Oasis Summit LLC<br/>- HLTH LLC<br/>- NEXT BUSINESS EXHIBITIONS SL<br/>- Rigging Technologies<br/>- VMware User Group Inc<br/>- America's Health Insurance Plans<br/>- The Cipher Brief<br/>- CenterPoint Marketing<br/>- Research Data Alliance Foundation<br/>- TERRAPINN HOLDINGS LTD<br/>- FedScoop LLC<br/> |\\n| ### Europe<br/>- Andorra<br/>- Austria<br/>- Belarus<br/>- Belgium<br/>- Bosnia<br/>- Bosnia And Herzegovina<br/>- Bulgaria<br/>- Croatia<br/>- Cyprus<br/>- Czech Republic<br/>- Denmark<br/>- Estonia<br/>- Finland<br/>- France<br/>- Germany<br/>- Greece<br/>- Hungary<br/>- Iceland<br/>- Ireland<br/>- Italy<br/>- Latvia<br/>- Lithuania<br/>- Luxembourg<br/>- Macedonia - Provisional<br/>- Malta<br/>- Montenegro<br/>- Netherlands<br/>- Norway<br/>- Poland<br/>- Portugal<br/>- Romania<br/>- Russia<br/>- San Marino<br/>- Scotland<br/>- Serbia<br/>- Slovakia<br/>- Slovenia<br/>- Spain<br/>- Sweden<br/>- Switzerland<br/>- Ukraine<br/>- United Kingdom<br/><br/> | - Cogs & Marvel USA Inc<br/>- CPA Academy<br/>- Executive Platforms, Inc.<br/>- Enterprise Events Group<br/>- EUROFORUM Deutschland GmbH<br/>- AHEAD FZC<br/>- Global Experience Specialists, Inc<br/>- Billington CyberSecurity<br/>- Thursday Nights<br/>- Fern Exposition & Event Services<br/>- Oasis Summit LLC<br/> |\\n| ### North America<br/>- Antigua And Barbuda<br/>- Aruba<br/>- Bahamas<br/>- Barbados<br/>- Belize<br/>- Canada<br/>- Costa Rica<br/>- Dominican Republic<br/>- El Salvador<br/>- Guatemala<br/>- Honduras<br/>- Jamaica<br/>- Mexico<br/>- Nicaragua<br/>- Panama<br/>- Puerto Rico<br/>- Saint Kitts And Nevis<br/>- Trinidad And Tobago<br/>- Turks And Caicos Islands<br/>- United States<br/>- Virgin Islands (British)<br/><br/> | - Cogs & Marvel USA Inc<br/>- CPA Academy<br/>- Executive Platforms, Inc.<br/>- Enterprise Events Group<br/>- EUROFORUM Deutschland GmbH<br/>- AHEAD FZC<br/>- Global Experience Specialists, Inc<br/>- Billington CyberSecurity<br/>- Thursday Nights<br/>- Fern Exposition & Event Services<br/>- Oasis Summit LLC<br/>- America's Health Insurance Plans<br/>- The Cipher Brief<br/>- CenterPoint Marketing<br/>- Research Data Alliance Foundation<br/>- TERRAPINN HOLDINGS LTD<br/>- FedScoop LLC<br/>- Upfront Ventures Management LLC<br/>- V8 Consulting Ltda<br/>- OVG Global Partnerships<br/>- Computer Methods International Corporation |\\n| ### South America<br/>- Argentina<br/>- Bolivia<br/>- Brazil<br/>- Chile<br/>- Colombia<br/>- Ecuador<br/>- Paraguay<br/>- Peru<br/>- Suriname<br/>- Uruguay<br/>- Venezuela<br/> | - HLTH LLC<br/>- NEXT BUSINESS EXHIBITIONS SL<br/>- Rigging Technologies<br/>- VMware User Group Inc<br/>- America's Health Insurance Plans<br/>- The Cipher Brief<br/>- CenterPoint Marketing<br/>- Research Data Alliance Foundation<br/>- TERRAPINN HOLDINGS LTD<br/>- FedScoop LLC<br/> |\\n| ### Oceania<br/>- Australia<br/>- Fiji<br/>- Guam<br/>- New Zealand | - TERRAPINN HOLDINGS LTD<br/>                                |  \\nUS and Canada ONLY: An Independent Contractor Evaluation is required in order\\nto protect Oracle from tax liabilities and any co-employment issues arising\\nfrom using billable and non-billable contractor resources in an employee-like\\nrelationship. For further assistance, contact cwp-namerica-\\nsupport_ww@oracle.com.  \\nOracle requires suppliers to agree to certain terms and conditions in writing\\nto mitigate Oracle's risk exposure. Standard contract documents can include a\\nmaster agreement, statement of work, or ordering document. If you need\\nassistance, reach out to your regional Procurement Contact.  \\nQuotes help document what the supplier will provide, the pricing, and scope of\\nyour requirements.  \\nGlobal Procurement is responsible for the policies and guidelines for all\\npurchase transactions. We have a team of Procurement professionals ready to\\nhelp with supplier selection, pricing, and terms negotiation and assist you\\nthrough the purchasing process.  \\nContact Global Procurement if you need assistance.  \\nOracle has entered into contracts with our preferred suppliers; using one of\\nour preferred suppliers accelerates the procurement process, removing the time\\nrequired to set up a supplier and negotiated contracts.\"),\n",
       "   Document(metadata={'Header 1': 'Non-Employee meetings or events', 'Header 2': 'Preferred Suppliers'}, page_content=\"## Preferred Suppliers  \\nTo expedite your purchase, utilize one of the preferred suppliers provided\\nbelow. If there are no preferred suppliers, refer to the [Procurement\\nContacts](https://apex.oraclecorp.com/pls/apex/#CM) for additional guidance.  \\nCountry  \\nAlgeria Andorra Antigua And Barbuda Argentina Armenia Aruba Australia Austria\\nAzerbaijan Bahamas Bahrain Bangladesh Barbados Belarus Belgium Belize Benin\\nBolivia Bosnia Bosnia And Herzegovina Botswana Brazil Brunei Darussalam\\nBulgaria Burkina Faso Cambodia Cameroon Canada Chad Chile China Colombia Congo\\nCosta Rica Croatia Cyprus Czech Republic Denmark Dominican Republic Ecuador\\nEgypt El Salvador Estonia Ethiopia Fiji Finland France Gabon Georgia Germany\\nGhana Greece Guam Guatemala Honduras Hong Kong Hungary Iceland India Indonesia\\nIreland Israel Italy Ivory Coast Jamaica Japan Jordan Kazakhstan Kenya Korea\\nKuwait Kyrgyzstan Laos Latvia Lebanon Lithuania Luxembourg Macao Macedonia -\\nProvisional Madagascar Malaysia Maldives Mali Malta Mauritius Mexico\\nMontenegro Morocco Mozambique Nepal Netherlands Netherlands Antilles New\\nZealand Nicaragua Niger Nigeria Norway Oman Pakistan Panama Paraguay Peru\\nPhilippines Poland Portugal Puerto Rico Qatar Romania Russia Rwanda Saint\\nKitts And Nevis San Marino Saudi Arabia Scotland Senegal Serbia Sierra Leone\\nSingapore Slovakia Slovenia South Africa South Asia Growth Economies Spain Sri\\nLanka St. Helena Suriname Sweden Switzerland Syrian Arab Republic Taiwan\\nTanzania, United Republic Of Thailand Trinidad And Tobago Tunisia Turkey Turks\\nAnd Caicos Islands Uganda Ukraine United Arab Emirates United Kingdom United\\nStates Uruguay Uzbekistan Venezuela Vietnam Virgin Islands (British) Zambia\\nZimbabwe  \\n* 225 Liberty Location LLC\\n* 4Wall Entertainment, Inc.\\n* 7th Avenue Nashville Hotel Owner, LLC\\n* AHEAD FZCO\\n* ALL CUBO EVENTOS LTDA\\n* ANA Intercontinental Hotel\\n* Abu Dhabi National Exhibitions Company\\n* Ad Produtos E Serviços Promocionais Eirele\\n* Asesorias TCC Spa\\n* Atenas Comunicacao Ltda\\n* Aventri\\n* BCT Entertainment, Inc\\n* BREATHE PRODUCTION LTD\\n* BW Events tech\\n* Bianculli & Costa Producoes E Comercio De Eletronicos Ltda\\n* Black Box Corporation\\n* Blackbrier Co\\n* Broadridge Investor Communication\\n* CE3 Design\\n* Canaletto Il Fornaio\\n* Cidreira Restaurante E Eventos Ltda\\n* City of Kansas City Missouri\\n* Cogs & Marvel USA Inc\\n* Contraste Total S.A. De C.V.\\n* DBA Slate\\n* Dakota Events, LLC\\n* Dallas Convention Center Hotel Development Corporation\\n* Domenico Catering & Events LLC\\n* Double Eagle Club\\n* Drai's Management Group LLC\\n* Eiffel Tower, Llc\\n* Elite Security Specialist LLC\\n* Enfoque en Sinergias Aplicadas S.A. de.V\\n* Enterprise Events Group\\n* FIERA MILANO CONGRESSI SPA\\n* Feeling Comunicacao Integrada Ltda\\n* Fern Exposition & Event Services\\n* Fuse Technical Group\\n* Future Insights Network Ltd\\n* GPJ JAPAC\\n* George P Johnson\\n* Grand Bay Hotel San Francisco\\n* Harlie Jole, LLC\\n* Heard Global\\n* Hello! Washington, DC Destination Management\\n* ICT AND STRATEGY S.R.L.\\n* ITC Administração e Hotelaria Ltda\\n* InVision Communications Incorporated\\n* Incidium Ltd\\n* Infosys Tech\\n* Kinetic Lighting\\n* LMG, LLC\\n* LV Stadium Events Company, LLC\\n* Lettuce Entertain You\\n* MCI Brasil Ltda.\\n* MCI Suisse\\n* MOMENTUM COMUNICAÇÃO LTDA.\\n* Madame Tussauds Las Vegas\\n* Mandalay Bay Resort and Casino\\n* NEXT BUSINESS EXHIBITIONS SL\\n* Occasions Caterers Inc\\n* Omni Hotels\\n* Open Data Science, Inc.\\n* Oscardepau Producoes Artisticas Ltda\\n* PENSIERO & PAROLE DI PIETRANTONI LUCIA\\n* POULTRY OPCO LIMITED-The Ned\\n* Portys\\n* Push Agency\\n* Rigging Technologies\\n* Rodrigues Producoes De Eventos Ltda\\n* Royal Garden Hotel\\n* Southwest Scenic Group, Inc.\\n* Stripview Entertainment LLC\\n* Super Push (Marketing Systems) Ltd\\n* Sweetwater Video Productions\\n* TAB Consulting, Inc dba 360 Events & Promotions\\n* Tao\\n* Tater Networks LLC\\n* The August Jackson Company\\n* The Ballantyne Hotel and Lodge\\n* The Joule dba 1530 Main LP\\n* The Smart Source\\n* UCF Hotel Venture dba Loews Royal Pacific Resort\\n* VCI Event Technology, Inc.\\n* Venetian Hotel\\n* Virgin Hotels Las Vegas\\n* Webevents LLC\\n* Wegweiser GmbH Berlin\\n* XpoNet dba xpodigital\\n* Zohar Sivan And Alkobi Eli-hazohar Pitronot Aitzuv Lea\"),\n",
       "   Document(metadata={'Header 1': 'Maintenance and Support', 'Header 2': 'Preferred Suppliers'}, page_content='## Preferred Suppliers  \\nTo expedite your purchase, utilize one of the preferred suppliers provided\\nbelow. If there are no preferred suppliers, refer to the [Procurement\\nContacts](https://apex.oraclecorp.com/pls/apex/#CM) for additional guidance.  \\nCountry  \\nAlgeria Andorra Antigua And Barbuda Argentina Armenia Aruba Australia Austria\\nAzerbaijan Bahamas Bahrain Bangladesh Barbados Belarus Belgium Belize Benin\\nBolivia Bosnia Bosnia And Herzegovina Botswana Brazil Brunei Darussalam\\nBulgaria Burkina Faso Cambodia Cameroon Canada Chad Chile China Colombia Congo\\nCosta Rica Croatia Cyprus Czech Republic Denmark Dominican Republic Ecuador\\nEgypt El Salvador Estonia Ethiopia Fiji Finland France Gabon Georgia Germany\\nGhana Greece Guam Guatemala Honduras Hong Kong Hungary Iceland India Indonesia\\nIreland Israel Italy Ivory Coast Jamaica Japan Jordan Kazakhstan Kenya Korea\\nKuwait Kyrgyzstan Laos Latvia Lebanon Lithuania Luxembourg Macao Macedonia -\\nProvisional Madagascar Malaysia Maldives Mali Malta Mauritius Mexico\\nMontenegro Morocco Mozambique Nepal Netherlands Netherlands Antilles New\\nZealand Nicaragua Niger Nigeria Norway Oman Pakistan Panama Paraguay Peru\\nPhilippines Poland Portugal Puerto Rico Qatar Romania Russia Rwanda Saint\\nKitts And Nevis San Marino Saudi Arabia Scotland Senegal Serbia Sierra Leone\\nSingapore Slovakia Slovenia South Africa South Asia Growth Economies Spain Sri\\nLanka St. Helena Suriname Sweden Switzerland Syrian Arab Republic Taiwan\\nTanzania, United Republic Of Thailand Trinidad And Tobago Tunisia Turkey Turks\\nAnd Caicos Islands Uganda Ukraine United Arab Emirates United Kingdom United\\nStates Uruguay Uzbekistan Venezuela Vietnam Virgin Islands (British) Zambia\\nZimbabwe')]},\n",
       " {'query_num': 'CMP_PROC_GUIDE_017',\n",
       "  'generated_answer': 'Yes, there is a preferred sponsorship vendor in Oceania. The preferred vendor for Oceania is TERRAPINN HOLDINGS LTD. This information is provided in the document titled \"Preferred Suppliers\" under the section for Oceania. TERRAPINN HOLDINGS LTD is listed as the preferred supplier for Australia, Fiji, Guam, and New Zealand in the Oceania region.',\n",
       "  'sources': [Document(metadata={'Header 1': 'Sponsorships Fees'}, page_content='# Sponsorships Fees  \\n* [Home](/pls/apex/r/s2s/prg/1?session=3282540657778)'),\n",
       "   Document(metadata={'Header 1': 'Sponsorships Fees', 'Header 2': 'Preferred Suppliers'}, page_content=\"## Preferred Suppliers  \\nTo expedite your purchase, utilize one of the preferred suppliers provided\\nbelow. If there are no preferred suppliers, refer to the Procurement Contacts\\nfor additional guidance.  \\n| Country                                                      | Supplier                                                     |\\n| ------------------------------------------------------------ | ------------------------------------------------------------ |\\n| ### Africa<br/>- Algeria<br/>- Benin<br/>- Botswana<br/>- Burkina Faso<br/>- Cameroon<br/>- Chad<br/>- Congo<br/>- Egypt<br/>- Ethiopia<br/>- Gabon<br/>- Ghana<br/>- Ivory Coast<br/>- Kenya<br/>- Madagascar<br/>- Mali<br/>- Mauritius<br/>- Morocco<br/>- Mozambique<br/>- Niger<br/>- Nigeria<br/>- Rwanda<br/>- Senegal<br/>- Sierra Leone<br/>- South Africa<br/>- Tanzania, United Republic Of<br/>- Tunisia<br/>- Uganda<br/>- Zambia<br/>- Zimbabwe<br/><br/> | - Cogs & Marvel USA Inc<br/>- CPA Academy<br/>- Executive Platforms, Inc.<br/>- Enterprise Events Group<br/>- EUROFORUM Deutschland GmbH<br/>- AHEAD FZC<br/>- Global Experience Specialists, Inc<br/>- Billington CyberSecurity<br/>- Thursday Nights<br/>- Fern Exposition & Event Services<br/>- Oasis Summit LLC<br/>- Educause<br/>- Internet Society<br/>- Display Studios Inc<br/>- HIMSS Media, LLC<br/>- Informa Tech Holdings LLC<br/>- Lake Nona Institute<br/>- IMAGO TECHMEDIA LIMITED<br/>- Generis<br/>- Retail Industry Leaders Association<br/>- Informa Exhibitions US Construction & Real Estate, Inc.<br/>- Winsight, LLC<br/>- Image Technologies<br/>- Swift Scrl<br/>- WALT DISNEY PARKS & RESORTS U.S., INC.<br/>- Newcomer Media LLC<br/>- Bachiero Event Services<br/>- The August Jackson Company<br/>- CloserStill Media Ltd<br/>- CXO<br/>- HLTH LLC<br/>- NEXT BUSINESS EXHIBITIONS SL<br/>- Rigging Technologies<br/>- VMware User Group Inc<br/> |\\n| ### Asia<br/>- Armenia<br/>- Azerbaijan<br/>- Bahrain<br/>- Bangladesh<br/>- Brunei Darussalam<br/>- Cambodia<br/>- China<br/>- Georgia<br/>- India<br/>- Indonesia<br/>- Israel<br/>- Japan<br/>- Jordan<br/>- Kazakhstan<br/>- Korea<br/>- Kuwait<br/>- Kyrgyzstan<br/>- Laos<br/>- Lebanon<br/>- Macao<br/>- Malaysia<br/>- Maldives<br/>- Nepal<br/>- Oman<br/>- Pakistan<br/>- Philippines<br/>- Qatar<br/>- Saudi Arabia<br/>- Singapore<br/>- South Asia Growth Economies<br/>- Sri Lanka<br/>- Syrian Arab Republic<br/>- Taiwan<br/>- Thailand<br/>- Turkey<br/>- Uzbekistan<br/>- Vietnam<br/><br/> | - Cogs & Marvel USA Inc<br/>- CPA Academy<br/>- Executive Platforms, Inc.<br/>- Enterprise Events Group<br/>- EUROFORUM Deutschland GmbH<br/>- AHEAD FZC<br/>- Global Experience Specialists, Inc<br/>- Billington CyberSecurity<br/>- Thursday Nights<br/>- Fern Exposition & Event Services<br/>- Oasis Summit LLC<br/>- HLTH LLC<br/>- NEXT BUSINESS EXHIBITIONS SL<br/>- Rigging Technologies<br/>- VMware User Group Inc<br/>- America's Health Insurance Plans<br/>- The Cipher Brief<br/>- CenterPoint Marketing<br/>- Research Data Alliance Foundation<br/>- TERRAPINN HOLDINGS LTD<br/>- FedScoop LLC<br/> |\\n| ### Europe<br/>- Andorra<br/>- Austria<br/>- Belarus<br/>- Belgium<br/>- Bosnia<br/>- Bosnia And Herzegovina<br/>- Bulgaria<br/>- Croatia<br/>- Cyprus<br/>- Czech Republic<br/>- Denmark<br/>- Estonia<br/>- Finland<br/>- France<br/>- Germany<br/>- Greece<br/>- Hungary<br/>- Iceland<br/>- Ireland<br/>- Italy<br/>- Latvia<br/>- Lithuania<br/>- Luxembourg<br/>- Macedonia - Provisional<br/>- Malta<br/>- Montenegro<br/>- Netherlands<br/>- Norway<br/>- Poland<br/>- Portugal<br/>- Romania<br/>- Russia<br/>- San Marino<br/>- Scotland<br/>- Serbia<br/>- Slovakia<br/>- Slovenia<br/>- Spain<br/>- Sweden<br/>- Switzerland<br/>- Ukraine<br/>- United Kingdom<br/><br/> | - Cogs & Marvel USA Inc<br/>- CPA Academy<br/>- Executive Platforms, Inc.<br/>- Enterprise Events Group<br/>- EUROFORUM Deutschland GmbH<br/>- AHEAD FZC<br/>- Global Experience Specialists, Inc<br/>- Billington CyberSecurity<br/>- Thursday Nights<br/>- Fern Exposition & Event Services<br/>- Oasis Summit LLC<br/> |\\n| ### North America<br/>- Antigua And Barbuda<br/>- Aruba<br/>- Bahamas<br/>- Barbados<br/>- Belize<br/>- Canada<br/>- Costa Rica<br/>- Dominican Republic<br/>- El Salvador<br/>- Guatemala<br/>- Honduras<br/>- Jamaica<br/>- Mexico<br/>- Nicaragua<br/>- Panama<br/>- Puerto Rico<br/>- Saint Kitts And Nevis<br/>- Trinidad And Tobago<br/>- Turks And Caicos Islands<br/>- United States<br/>- Virgin Islands (British)<br/><br/> | - Cogs & Marvel USA Inc<br/>- CPA Academy<br/>- Executive Platforms, Inc.<br/>- Enterprise Events Group<br/>- EUROFORUM Deutschland GmbH<br/>- AHEAD FZC<br/>- Global Experience Specialists, Inc<br/>- Billington CyberSecurity<br/>- Thursday Nights<br/>- Fern Exposition & Event Services<br/>- Oasis Summit LLC<br/>- America's Health Insurance Plans<br/>- The Cipher Brief<br/>- CenterPoint Marketing<br/>- Research Data Alliance Foundation<br/>- TERRAPINN HOLDINGS LTD<br/>- FedScoop LLC<br/>- Upfront Ventures Management LLC<br/>- V8 Consulting Ltda<br/>- OVG Global Partnerships<br/>- Computer Methods International Corporation |\\n| ### South America<br/>- Argentina<br/>- Bolivia<br/>- Brazil<br/>- Chile<br/>- Colombia<br/>- Ecuador<br/>- Paraguay<br/>- Peru<br/>- Suriname<br/>- Uruguay<br/>- Venezuela<br/> | - HLTH LLC<br/>- NEXT BUSINESS EXHIBITIONS SL<br/>- Rigging Technologies<br/>- VMware User Group Inc<br/>- America's Health Insurance Plans<br/>- The Cipher Brief<br/>- CenterPoint Marketing<br/>- Research Data Alliance Foundation<br/>- TERRAPINN HOLDINGS LTD<br/>- FedScoop LLC<br/> |\\n| ### Oceania<br/>- Australia<br/>- Fiji<br/>- Guam<br/>- New Zealand | - TERRAPINN HOLDINGS LTD<br/>                                |  \\nUS and Canada ONLY: An Independent Contractor Evaluation is required in order\\nto protect Oracle from tax liabilities and any co-employment issues arising\\nfrom using billable and non-billable contractor resources in an employee-like\\nrelationship. For further assistance, contact cwp-namerica-\\nsupport_ww@oracle.com.  \\nOracle requires suppliers to agree to certain terms and conditions in writing\\nto mitigate Oracle's risk exposure. Standard contract documents can include a\\nmaster agreement, statement of work, or ordering document. If you need\\nassistance, reach out to your regional Procurement Contact.  \\nQuotes help document what the supplier will provide, the pricing, and scope of\\nyour requirements.  \\nGlobal Procurement is responsible for the policies and guidelines for all\\npurchase transactions. We have a team of Procurement professionals ready to\\nhelp with supplier selection, pricing, and terms negotiation and assist you\\nthrough the purchasing process.  \\nContact Global Procurement if you need assistance.  \\nOracle has entered into contracts with our preferred suppliers; using one of\\nour preferred suppliers accelerates the procurement process, removing the time\\nrequired to set up a supplier and negotiated contracts.\"),\n",
       "   Document(metadata={'Header 1': 'Sponsorships Fees', 'Header 2': 'Category Description'}, page_content='## Category Description  \\nThird party owned Sponsorship or Tradeshow fees for a Corporate and/or OPN activity which Oracle provides something of value in exchange for benefit.'),\n",
       "   Document(metadata={'Header 1': 'Sponsorships Fees', 'Header 2': 'Additional Ordering Instructions'}, page_content='## Additional Ordering Instructions  \\n_Include on your Purchase Requisition:_  \\n1. Date of event\\n2. Name of event\\n3. Location of event\\n4. Purpose of event\\n5. Attach prospectus or flyer for the event including benefits Oracle receives  \\n_Additional Instructions:_  \\nRefer to the Step-by-Step contract process instructions on the [Meetings &\\nEvents website](https://mysites.oracle.com/s2s-meetings-events/step-by-step-\\ncontract-processes-to-get-m-e-contracts-signed-executed.html) for regional\\ninstructions.  \\nReview the [Global Marketing Compliance, Privacy and Security Sponsorships\\nGuidance](https://confluence.oraclecorp.com/confluence/pages/viewpage.action?spaceKey=GCPS&title=Global+Marketing+Compliance+Privacy+and+Security+Home)\\nto determine next steps. 3rd Party Sponsorships require C&E; approval.')]},\n",
       " {'query_num': 'CMP_PROC_GUIDE_018',\n",
       "  'generated_answer': \"For putting together a tradeshow in Canada, you can utilize the following sponsorship vendors from the list of preferred suppliers provided for North America:\\n\\n- Cogs & Marvel USA Inc\\n- CPA Academy\\n- Executive Platforms, Inc.\\n- Enterprise Events Group\\n- EUROFORUM Deutschland GmbH\\n- AHEAD FZC\\n- Global Experience Specialists, Inc\\n- Billington CyberSecurity\\n- Thursday Nights\\n- Fern Exposition & Event Services\\n- Oasis Summit LLC\\n- America's Health Insurance Plans\\n- The Cipher Brief\\n- CenterPoint Marketing\\n- Research Data Alliance Foundation\\n- TERRAPINN HOLDINGS LTD\\n- FedScoop LLC\\n- Upfront Ventures Management LLC\\n- V8 Consulting Ltda\\n- OVG Global Partnerships\\n- Computer Methods International Corporation\\n\\nThese are the preferred suppliers that can be used to expedite the procurement process for your tradeshow in Canada.\",\n",
       "  'sources': [Document(metadata={'Header 1': 'Sponsorships Fees', 'Header 2': 'Category Description'}, page_content='## Category Description  \\nThird party owned Sponsorship or Tradeshow fees for a Corporate and/or OPN activity which Oracle provides something of value in exchange for benefit.'),\n",
       "   Document(metadata={'Header 1': 'Sponsorships Fees'}, page_content='# Sponsorships Fees  \\n* [Home](/pls/apex/r/s2s/prg/1?session=3282540657778)'),\n",
       "   Document(metadata={'Header 1': 'Sponsorships Fees', 'Header 2': 'Additional Ordering Instructions'}, page_content='## Additional Ordering Instructions  \\n_Include on your Purchase Requisition:_  \\n1. Date of event\\n2. Name of event\\n3. Location of event\\n4. Purpose of event\\n5. Attach prospectus or flyer for the event including benefits Oracle receives  \\n_Additional Instructions:_  \\nRefer to the Step-by-Step contract process instructions on the [Meetings &\\nEvents website](https://mysites.oracle.com/s2s-meetings-events/step-by-step-\\ncontract-processes-to-get-m-e-contracts-signed-executed.html) for regional\\ninstructions.  \\nReview the [Global Marketing Compliance, Privacy and Security Sponsorships\\nGuidance](https://confluence.oraclecorp.com/confluence/pages/viewpage.action?spaceKey=GCPS&title=Global+Marketing+Compliance+Privacy+and+Security+Home)\\nto determine next steps. 3rd Party Sponsorships require C&E; approval.'),\n",
       "   Document(metadata={'Header 1': 'Sponsorships Fees', 'Header 2': 'Preferred Suppliers'}, page_content=\"## Preferred Suppliers  \\nTo expedite your purchase, utilize one of the preferred suppliers provided\\nbelow. If there are no preferred suppliers, refer to the Procurement Contacts\\nfor additional guidance.  \\n| Country                                                      | Supplier                                                     |\\n| ------------------------------------------------------------ | ------------------------------------------------------------ |\\n| ### Africa<br/>- Algeria<br/>- Benin<br/>- Botswana<br/>- Burkina Faso<br/>- Cameroon<br/>- Chad<br/>- Congo<br/>- Egypt<br/>- Ethiopia<br/>- Gabon<br/>- Ghana<br/>- Ivory Coast<br/>- Kenya<br/>- Madagascar<br/>- Mali<br/>- Mauritius<br/>- Morocco<br/>- Mozambique<br/>- Niger<br/>- Nigeria<br/>- Rwanda<br/>- Senegal<br/>- Sierra Leone<br/>- South Africa<br/>- Tanzania, United Republic Of<br/>- Tunisia<br/>- Uganda<br/>- Zambia<br/>- Zimbabwe<br/><br/> | - Cogs & Marvel USA Inc<br/>- CPA Academy<br/>- Executive Platforms, Inc.<br/>- Enterprise Events Group<br/>- EUROFORUM Deutschland GmbH<br/>- AHEAD FZC<br/>- Global Experience Specialists, Inc<br/>- Billington CyberSecurity<br/>- Thursday Nights<br/>- Fern Exposition & Event Services<br/>- Oasis Summit LLC<br/>- Educause<br/>- Internet Society<br/>- Display Studios Inc<br/>- HIMSS Media, LLC<br/>- Informa Tech Holdings LLC<br/>- Lake Nona Institute<br/>- IMAGO TECHMEDIA LIMITED<br/>- Generis<br/>- Retail Industry Leaders Association<br/>- Informa Exhibitions US Construction & Real Estate, Inc.<br/>- Winsight, LLC<br/>- Image Technologies<br/>- Swift Scrl<br/>- WALT DISNEY PARKS & RESORTS U.S., INC.<br/>- Newcomer Media LLC<br/>- Bachiero Event Services<br/>- The August Jackson Company<br/>- CloserStill Media Ltd<br/>- CXO<br/>- HLTH LLC<br/>- NEXT BUSINESS EXHIBITIONS SL<br/>- Rigging Technologies<br/>- VMware User Group Inc<br/> |\\n| ### Asia<br/>- Armenia<br/>- Azerbaijan<br/>- Bahrain<br/>- Bangladesh<br/>- Brunei Darussalam<br/>- Cambodia<br/>- China<br/>- Georgia<br/>- India<br/>- Indonesia<br/>- Israel<br/>- Japan<br/>- Jordan<br/>- Kazakhstan<br/>- Korea<br/>- Kuwait<br/>- Kyrgyzstan<br/>- Laos<br/>- Lebanon<br/>- Macao<br/>- Malaysia<br/>- Maldives<br/>- Nepal<br/>- Oman<br/>- Pakistan<br/>- Philippines<br/>- Qatar<br/>- Saudi Arabia<br/>- Singapore<br/>- South Asia Growth Economies<br/>- Sri Lanka<br/>- Syrian Arab Republic<br/>- Taiwan<br/>- Thailand<br/>- Turkey<br/>- Uzbekistan<br/>- Vietnam<br/><br/> | - Cogs & Marvel USA Inc<br/>- CPA Academy<br/>- Executive Platforms, Inc.<br/>- Enterprise Events Group<br/>- EUROFORUM Deutschland GmbH<br/>- AHEAD FZC<br/>- Global Experience Specialists, Inc<br/>- Billington CyberSecurity<br/>- Thursday Nights<br/>- Fern Exposition & Event Services<br/>- Oasis Summit LLC<br/>- HLTH LLC<br/>- NEXT BUSINESS EXHIBITIONS SL<br/>- Rigging Technologies<br/>- VMware User Group Inc<br/>- America's Health Insurance Plans<br/>- The Cipher Brief<br/>- CenterPoint Marketing<br/>- Research Data Alliance Foundation<br/>- TERRAPINN HOLDINGS LTD<br/>- FedScoop LLC<br/> |\\n| ### Europe<br/>- Andorra<br/>- Austria<br/>- Belarus<br/>- Belgium<br/>- Bosnia<br/>- Bosnia And Herzegovina<br/>- Bulgaria<br/>- Croatia<br/>- Cyprus<br/>- Czech Republic<br/>- Denmark<br/>- Estonia<br/>- Finland<br/>- France<br/>- Germany<br/>- Greece<br/>- Hungary<br/>- Iceland<br/>- Ireland<br/>- Italy<br/>- Latvia<br/>- Lithuania<br/>- Luxembourg<br/>- Macedonia - Provisional<br/>- Malta<br/>- Montenegro<br/>- Netherlands<br/>- Norway<br/>- Poland<br/>- Portugal<br/>- Romania<br/>- Russia<br/>- San Marino<br/>- Scotland<br/>- Serbia<br/>- Slovakia<br/>- Slovenia<br/>- Spain<br/>- Sweden<br/>- Switzerland<br/>- Ukraine<br/>- United Kingdom<br/><br/> | - Cogs & Marvel USA Inc<br/>- CPA Academy<br/>- Executive Platforms, Inc.<br/>- Enterprise Events Group<br/>- EUROFORUM Deutschland GmbH<br/>- AHEAD FZC<br/>- Global Experience Specialists, Inc<br/>- Billington CyberSecurity<br/>- Thursday Nights<br/>- Fern Exposition & Event Services<br/>- Oasis Summit LLC<br/> |\\n| ### North America<br/>- Antigua And Barbuda<br/>- Aruba<br/>- Bahamas<br/>- Barbados<br/>- Belize<br/>- Canada<br/>- Costa Rica<br/>- Dominican Republic<br/>- El Salvador<br/>- Guatemala<br/>- Honduras<br/>- Jamaica<br/>- Mexico<br/>- Nicaragua<br/>- Panama<br/>- Puerto Rico<br/>- Saint Kitts And Nevis<br/>- Trinidad And Tobago<br/>- Turks And Caicos Islands<br/>- United States<br/>- Virgin Islands (British)<br/><br/> | - Cogs & Marvel USA Inc<br/>- CPA Academy<br/>- Executive Platforms, Inc.<br/>- Enterprise Events Group<br/>- EUROFORUM Deutschland GmbH<br/>- AHEAD FZC<br/>- Global Experience Specialists, Inc<br/>- Billington CyberSecurity<br/>- Thursday Nights<br/>- Fern Exposition & Event Services<br/>- Oasis Summit LLC<br/>- America's Health Insurance Plans<br/>- The Cipher Brief<br/>- CenterPoint Marketing<br/>- Research Data Alliance Foundation<br/>- TERRAPINN HOLDINGS LTD<br/>- FedScoop LLC<br/>- Upfront Ventures Management LLC<br/>- V8 Consulting Ltda<br/>- OVG Global Partnerships<br/>- Computer Methods International Corporation |\\n| ### South America<br/>- Argentina<br/>- Bolivia<br/>- Brazil<br/>- Chile<br/>- Colombia<br/>- Ecuador<br/>- Paraguay<br/>- Peru<br/>- Suriname<br/>- Uruguay<br/>- Venezuela<br/> | - HLTH LLC<br/>- NEXT BUSINESS EXHIBITIONS SL<br/>- Rigging Technologies<br/>- VMware User Group Inc<br/>- America's Health Insurance Plans<br/>- The Cipher Brief<br/>- CenterPoint Marketing<br/>- Research Data Alliance Foundation<br/>- TERRAPINN HOLDINGS LTD<br/>- FedScoop LLC<br/> |\\n| ### Oceania<br/>- Australia<br/>- Fiji<br/>- Guam<br/>- New Zealand | - TERRAPINN HOLDINGS LTD<br/>                                |  \\nUS and Canada ONLY: An Independent Contractor Evaluation is required in order\\nto protect Oracle from tax liabilities and any co-employment issues arising\\nfrom using billable and non-billable contractor resources in an employee-like\\nrelationship. For further assistance, contact cwp-namerica-\\nsupport_ww@oracle.com.  \\nOracle requires suppliers to agree to certain terms and conditions in writing\\nto mitigate Oracle's risk exposure. Standard contract documents can include a\\nmaster agreement, statement of work, or ordering document. If you need\\nassistance, reach out to your regional Procurement Contact.  \\nQuotes help document what the supplier will provide, the pricing, and scope of\\nyour requirements.  \\nGlobal Procurement is responsible for the policies and guidelines for all\\npurchase transactions. We have a team of Procurement professionals ready to\\nhelp with supplier selection, pricing, and terms negotiation and assist you\\nthrough the purchasing process.  \\nContact Global Procurement if you need assistance.  \\nOracle has entered into contracts with our preferred suppliers; using one of\\nour preferred suppliers accelerates the procurement process, removing the time\\nrequired to set up a supplier and negotiated contracts.\")]},\n",
       " {'query_num': 'CMP_PROC_GUIDE_019',\n",
       "  'generated_answer': 'Yes, there are preferred sponsorship vendors that operate in Europe and Oceania. Some of the preferred suppliers that operate in Europe are Cogs & Marvel USA Inc, CPA Academy, Executive Platforms, Inc., Enterprise Events Group, EUROFORUM Deutschland GmbH, AHEAD FZC, Global Experience Specialists, Inc, Billington CyberSecurity, Thursday Nights, Fern Exposition & Event Services, and Oasis Summit LLC. In Oceania, the preferred supplier is TERRAPINN HOLDINGS LTD. These vendors are listed as preferred suppliers for expedited purchases in the provided documents.',\n",
       "  'sources': [Document(metadata={'Header 1': 'Sponsorships Fees', 'Header 2': 'Preferred Suppliers'}, page_content=\"## Preferred Suppliers  \\nTo expedite your purchase, utilize one of the preferred suppliers provided\\nbelow. If there are no preferred suppliers, refer to the Procurement Contacts\\nfor additional guidance.  \\n| Country                                                      | Supplier                                                     |\\n| ------------------------------------------------------------ | ------------------------------------------------------------ |\\n| ### Africa<br/>- Algeria<br/>- Benin<br/>- Botswana<br/>- Burkina Faso<br/>- Cameroon<br/>- Chad<br/>- Congo<br/>- Egypt<br/>- Ethiopia<br/>- Gabon<br/>- Ghana<br/>- Ivory Coast<br/>- Kenya<br/>- Madagascar<br/>- Mali<br/>- Mauritius<br/>- Morocco<br/>- Mozambique<br/>- Niger<br/>- Nigeria<br/>- Rwanda<br/>- Senegal<br/>- Sierra Leone<br/>- South Africa<br/>- Tanzania, United Republic Of<br/>- Tunisia<br/>- Uganda<br/>- Zambia<br/>- Zimbabwe<br/><br/> | - Cogs & Marvel USA Inc<br/>- CPA Academy<br/>- Executive Platforms, Inc.<br/>- Enterprise Events Group<br/>- EUROFORUM Deutschland GmbH<br/>- AHEAD FZC<br/>- Global Experience Specialists, Inc<br/>- Billington CyberSecurity<br/>- Thursday Nights<br/>- Fern Exposition & Event Services<br/>- Oasis Summit LLC<br/>- Educause<br/>- Internet Society<br/>- Display Studios Inc<br/>- HIMSS Media, LLC<br/>- Informa Tech Holdings LLC<br/>- Lake Nona Institute<br/>- IMAGO TECHMEDIA LIMITED<br/>- Generis<br/>- Retail Industry Leaders Association<br/>- Informa Exhibitions US Construction & Real Estate, Inc.<br/>- Winsight, LLC<br/>- Image Technologies<br/>- Swift Scrl<br/>- WALT DISNEY PARKS & RESORTS U.S., INC.<br/>- Newcomer Media LLC<br/>- Bachiero Event Services<br/>- The August Jackson Company<br/>- CloserStill Media Ltd<br/>- CXO<br/>- HLTH LLC<br/>- NEXT BUSINESS EXHIBITIONS SL<br/>- Rigging Technologies<br/>- VMware User Group Inc<br/> |\\n| ### Asia<br/>- Armenia<br/>- Azerbaijan<br/>- Bahrain<br/>- Bangladesh<br/>- Brunei Darussalam<br/>- Cambodia<br/>- China<br/>- Georgia<br/>- India<br/>- Indonesia<br/>- Israel<br/>- Japan<br/>- Jordan<br/>- Kazakhstan<br/>- Korea<br/>- Kuwait<br/>- Kyrgyzstan<br/>- Laos<br/>- Lebanon<br/>- Macao<br/>- Malaysia<br/>- Maldives<br/>- Nepal<br/>- Oman<br/>- Pakistan<br/>- Philippines<br/>- Qatar<br/>- Saudi Arabia<br/>- Singapore<br/>- South Asia Growth Economies<br/>- Sri Lanka<br/>- Syrian Arab Republic<br/>- Taiwan<br/>- Thailand<br/>- Turkey<br/>- Uzbekistan<br/>- Vietnam<br/><br/> | - Cogs & Marvel USA Inc<br/>- CPA Academy<br/>- Executive Platforms, Inc.<br/>- Enterprise Events Group<br/>- EUROFORUM Deutschland GmbH<br/>- AHEAD FZC<br/>- Global Experience Specialists, Inc<br/>- Billington CyberSecurity<br/>- Thursday Nights<br/>- Fern Exposition & Event Services<br/>- Oasis Summit LLC<br/>- HLTH LLC<br/>- NEXT BUSINESS EXHIBITIONS SL<br/>- Rigging Technologies<br/>- VMware User Group Inc<br/>- America's Health Insurance Plans<br/>- The Cipher Brief<br/>- CenterPoint Marketing<br/>- Research Data Alliance Foundation<br/>- TERRAPINN HOLDINGS LTD<br/>- FedScoop LLC<br/> |\\n| ### Europe<br/>- Andorra<br/>- Austria<br/>- Belarus<br/>- Belgium<br/>- Bosnia<br/>- Bosnia And Herzegovina<br/>- Bulgaria<br/>- Croatia<br/>- Cyprus<br/>- Czech Republic<br/>- Denmark<br/>- Estonia<br/>- Finland<br/>- France<br/>- Germany<br/>- Greece<br/>- Hungary<br/>- Iceland<br/>- Ireland<br/>- Italy<br/>- Latvia<br/>- Lithuania<br/>- Luxembourg<br/>- Macedonia - Provisional<br/>- Malta<br/>- Montenegro<br/>- Netherlands<br/>- Norway<br/>- Poland<br/>- Portugal<br/>- Romania<br/>- Russia<br/>- San Marino<br/>- Scotland<br/>- Serbia<br/>- Slovakia<br/>- Slovenia<br/>- Spain<br/>- Sweden<br/>- Switzerland<br/>- Ukraine<br/>- United Kingdom<br/><br/> | - Cogs & Marvel USA Inc<br/>- CPA Academy<br/>- Executive Platforms, Inc.<br/>- Enterprise Events Group<br/>- EUROFORUM Deutschland GmbH<br/>- AHEAD FZC<br/>- Global Experience Specialists, Inc<br/>- Billington CyberSecurity<br/>- Thursday Nights<br/>- Fern Exposition & Event Services<br/>- Oasis Summit LLC<br/> |\\n| ### North America<br/>- Antigua And Barbuda<br/>- Aruba<br/>- Bahamas<br/>- Barbados<br/>- Belize<br/>- Canada<br/>- Costa Rica<br/>- Dominican Republic<br/>- El Salvador<br/>- Guatemala<br/>- Honduras<br/>- Jamaica<br/>- Mexico<br/>- Nicaragua<br/>- Panama<br/>- Puerto Rico<br/>- Saint Kitts And Nevis<br/>- Trinidad And Tobago<br/>- Turks And Caicos Islands<br/>- United States<br/>- Virgin Islands (British)<br/><br/> | - Cogs & Marvel USA Inc<br/>- CPA Academy<br/>- Executive Platforms, Inc.<br/>- Enterprise Events Group<br/>- EUROFORUM Deutschland GmbH<br/>- AHEAD FZC<br/>- Global Experience Specialists, Inc<br/>- Billington CyberSecurity<br/>- Thursday Nights<br/>- Fern Exposition & Event Services<br/>- Oasis Summit LLC<br/>- America's Health Insurance Plans<br/>- The Cipher Brief<br/>- CenterPoint Marketing<br/>- Research Data Alliance Foundation<br/>- TERRAPINN HOLDINGS LTD<br/>- FedScoop LLC<br/>- Upfront Ventures Management LLC<br/>- V8 Consulting Ltda<br/>- OVG Global Partnerships<br/>- Computer Methods International Corporation |\\n| ### South America<br/>- Argentina<br/>- Bolivia<br/>- Brazil<br/>- Chile<br/>- Colombia<br/>- Ecuador<br/>- Paraguay<br/>- Peru<br/>- Suriname<br/>- Uruguay<br/>- Venezuela<br/> | - HLTH LLC<br/>- NEXT BUSINESS EXHIBITIONS SL<br/>- Rigging Technologies<br/>- VMware User Group Inc<br/>- America's Health Insurance Plans<br/>- The Cipher Brief<br/>- CenterPoint Marketing<br/>- Research Data Alliance Foundation<br/>- TERRAPINN HOLDINGS LTD<br/>- FedScoop LLC<br/> |\\n| ### Oceania<br/>- Australia<br/>- Fiji<br/>- Guam<br/>- New Zealand | - TERRAPINN HOLDINGS LTD<br/>                                |  \\nUS and Canada ONLY: An Independent Contractor Evaluation is required in order\\nto protect Oracle from tax liabilities and any co-employment issues arising\\nfrom using billable and non-billable contractor resources in an employee-like\\nrelationship. For further assistance, contact cwp-namerica-\\nsupport_ww@oracle.com.  \\nOracle requires suppliers to agree to certain terms and conditions in writing\\nto mitigate Oracle's risk exposure. Standard contract documents can include a\\nmaster agreement, statement of work, or ordering document. If you need\\nassistance, reach out to your regional Procurement Contact.  \\nQuotes help document what the supplier will provide, the pricing, and scope of\\nyour requirements.  \\nGlobal Procurement is responsible for the policies and guidelines for all\\npurchase transactions. We have a team of Procurement professionals ready to\\nhelp with supplier selection, pricing, and terms negotiation and assist you\\nthrough the purchasing process.  \\nContact Global Procurement if you need assistance.  \\nOracle has entered into contracts with our preferred suppliers; using one of\\nour preferred suppliers accelerates the procurement process, removing the time\\nrequired to set up a supplier and negotiated contracts.\"),\n",
       "   Document(metadata={'Header 1': 'Non Billable Indepdt Contractor Labor', 'Header 2': 'Preferred Suppliers'}, page_content='## Preferred Suppliers  \\nTo expedite your purchase, utilize one of the preferred suppliers provided\\nbelow. If there are no preferred suppliers, refer to the [Procurement\\nContacts](https://apex.oraclecorp.com/pls/apex/#CM) for additional guidance.  \\nCountry  \\nAlgeria Andorra Antigua And Barbuda Argentina Armenia Aruba Australia Austria\\nAzerbaijan Bahamas Bahrain Bangladesh Barbados Belarus Belgium Belize Benin\\nBolivia Bosnia Bosnia And Herzegovina Botswana Brazil Brunei Darussalam\\nBulgaria Burkina Faso Cambodia Cameroon Canada Chad Chile China Colombia Congo\\nCosta Rica Croatia Cyprus Czech Republic Denmark Dominican Republic Ecuador\\nEgypt El Salvador Estonia Ethiopia Fiji Finland France Gabon Georgia Germany\\nGhana Greece Guam Guatemala Honduras Hong Kong Hungary Iceland India Indonesia\\nIreland Israel Italy Ivory Coast Jamaica Japan Jordan Kazakhstan Kenya Korea\\nKuwait Kyrgyzstan Laos Latvia Lebanon Lithuania Luxembourg Macao Macedonia -\\nProvisional Madagascar Malaysia Maldives Mali Malta Mauritius Mexico\\nMontenegro Morocco Mozambique Nepal Netherlands Netherlands Antilles New\\nZealand Nicaragua Niger Nigeria Norway Oman Pakistan Panama Paraguay Peru\\nPhilippines Poland Portugal Puerto Rico Qatar Romania Russia Rwanda Saint\\nKitts And Nevis San Marino Saudi Arabia Scotland Senegal Serbia Sierra Leone\\nSingapore Slovakia Slovenia South Africa South Asia Growth Economies Spain Sri\\nLanka St. Helena Suriname Sweden Switzerland Syrian Arab Republic Taiwan\\nTanzania, United Republic Of Thailand Trinidad And Tobago Tunisia Turkey Turks\\nAnd Caicos Islands Uganda Ukraine United Arab Emirates United Kingdom United\\nStates Uruguay Uzbekistan Venezuela Vietnam Virgin Islands (British) Zambia\\nZimbabwe  \\n* 4 Pr Consultoria Em Comunicação Ltda\\n* AA Piotr Wargocki\\n* ACCSIGHT\\n* Aggrandize Serviços de Tecnologia da Informação Ltda\\n* AxiaMetrics LLP\\n* Azpired Inc\\n* ClinStat GmbH\\n* Concilium Search LLC\\n* Digital & Cloud Solutions LLC\\n* Evolytics LLC\\n* Garitty Ventures LLC dba FPW Media\\n* Hays Professional Solutions GmbH\\n* Ideal Health Consultants Limited\\n* Luzcon Digital Ltda\\n* MSM MIRI STORFER MARKETING LTD\\n* Michael Hofmeister\\n* Micro Focus Software Inc.\\n* Presidio\\n* Progressive - Sthree Gmbh\\n* Riforce BV\\n* SMART CO CONSULTING LIMITED\\n* Sramek\\n* Staburo GmbH\\n* Synaxis Corporation\\n* The Red Agency Ltd (UK)\\n* VIP MARKETING\\n* Vanna Information Technologies India Pvt Ltd\\n* World Wide Technology, Inc\\n* YunoJuno Limited'),\n",
       "   Document(metadata={'Header 1': 'Non-Employee meetings or events', 'Header 2': 'Preferred Suppliers'}, page_content=\"## Preferred Suppliers  \\nTo expedite your purchase, utilize one of the preferred suppliers provided\\nbelow. If there are no preferred suppliers, refer to the [Procurement\\nContacts](https://apex.oraclecorp.com/pls/apex/#CM) for additional guidance.  \\nCountry  \\nAlgeria Andorra Antigua And Barbuda Argentina Armenia Aruba Australia Austria\\nAzerbaijan Bahamas Bahrain Bangladesh Barbados Belarus Belgium Belize Benin\\nBolivia Bosnia Bosnia And Herzegovina Botswana Brazil Brunei Darussalam\\nBulgaria Burkina Faso Cambodia Cameroon Canada Chad Chile China Colombia Congo\\nCosta Rica Croatia Cyprus Czech Republic Denmark Dominican Republic Ecuador\\nEgypt El Salvador Estonia Ethiopia Fiji Finland France Gabon Georgia Germany\\nGhana Greece Guam Guatemala Honduras Hong Kong Hungary Iceland India Indonesia\\nIreland Israel Italy Ivory Coast Jamaica Japan Jordan Kazakhstan Kenya Korea\\nKuwait Kyrgyzstan Laos Latvia Lebanon Lithuania Luxembourg Macao Macedonia -\\nProvisional Madagascar Malaysia Maldives Mali Malta Mauritius Mexico\\nMontenegro Morocco Mozambique Nepal Netherlands Netherlands Antilles New\\nZealand Nicaragua Niger Nigeria Norway Oman Pakistan Panama Paraguay Peru\\nPhilippines Poland Portugal Puerto Rico Qatar Romania Russia Rwanda Saint\\nKitts And Nevis San Marino Saudi Arabia Scotland Senegal Serbia Sierra Leone\\nSingapore Slovakia Slovenia South Africa South Asia Growth Economies Spain Sri\\nLanka St. Helena Suriname Sweden Switzerland Syrian Arab Republic Taiwan\\nTanzania, United Republic Of Thailand Trinidad And Tobago Tunisia Turkey Turks\\nAnd Caicos Islands Uganda Ukraine United Arab Emirates United Kingdom United\\nStates Uruguay Uzbekistan Venezuela Vietnam Virgin Islands (British) Zambia\\nZimbabwe  \\n* 225 Liberty Location LLC\\n* 4Wall Entertainment, Inc.\\n* 7th Avenue Nashville Hotel Owner, LLC\\n* AHEAD FZCO\\n* ALL CUBO EVENTOS LTDA\\n* ANA Intercontinental Hotel\\n* Abu Dhabi National Exhibitions Company\\n* Ad Produtos E Serviços Promocionais Eirele\\n* Asesorias TCC Spa\\n* Atenas Comunicacao Ltda\\n* Aventri\\n* BCT Entertainment, Inc\\n* BREATHE PRODUCTION LTD\\n* BW Events tech\\n* Bianculli & Costa Producoes E Comercio De Eletronicos Ltda\\n* Black Box Corporation\\n* Blackbrier Co\\n* Broadridge Investor Communication\\n* CE3 Design\\n* Canaletto Il Fornaio\\n* Cidreira Restaurante E Eventos Ltda\\n* City of Kansas City Missouri\\n* Cogs & Marvel USA Inc\\n* Contraste Total S.A. De C.V.\\n* DBA Slate\\n* Dakota Events, LLC\\n* Dallas Convention Center Hotel Development Corporation\\n* Domenico Catering & Events LLC\\n* Double Eagle Club\\n* Drai's Management Group LLC\\n* Eiffel Tower, Llc\\n* Elite Security Specialist LLC\\n* Enfoque en Sinergias Aplicadas S.A. de.V\\n* Enterprise Events Group\\n* FIERA MILANO CONGRESSI SPA\\n* Feeling Comunicacao Integrada Ltda\\n* Fern Exposition & Event Services\\n* Fuse Technical Group\\n* Future Insights Network Ltd\\n* GPJ JAPAC\\n* George P Johnson\\n* Grand Bay Hotel San Francisco\\n* Harlie Jole, LLC\\n* Heard Global\\n* Hello! Washington, DC Destination Management\\n* ICT AND STRATEGY S.R.L.\\n* ITC Administração e Hotelaria Ltda\\n* InVision Communications Incorporated\\n* Incidium Ltd\\n* Infosys Tech\\n* Kinetic Lighting\\n* LMG, LLC\\n* LV Stadium Events Company, LLC\\n* Lettuce Entertain You\\n* MCI Brasil Ltda.\\n* MCI Suisse\\n* MOMENTUM COMUNICAÇÃO LTDA.\\n* Madame Tussauds Las Vegas\\n* Mandalay Bay Resort and Casino\\n* NEXT BUSINESS EXHIBITIONS SL\\n* Occasions Caterers Inc\\n* Omni Hotels\\n* Open Data Science, Inc.\\n* Oscardepau Producoes Artisticas Ltda\\n* PENSIERO & PAROLE DI PIETRANTONI LUCIA\\n* POULTRY OPCO LIMITED-The Ned\\n* Portys\\n* Push Agency\\n* Rigging Technologies\\n* Rodrigues Producoes De Eventos Ltda\\n* Royal Garden Hotel\\n* Southwest Scenic Group, Inc.\\n* Stripview Entertainment LLC\\n* Super Push (Marketing Systems) Ltd\\n* Sweetwater Video Productions\\n* TAB Consulting, Inc dba 360 Events & Promotions\\n* Tao\\n* Tater Networks LLC\\n* The August Jackson Company\\n* The Ballantyne Hotel and Lodge\\n* The Joule dba 1530 Main LP\\n* The Smart Source\\n* UCF Hotel Venture dba Loews Royal Pacific Resort\\n* VCI Event Technology, Inc.\\n* Venetian Hotel\\n* Virgin Hotels Las Vegas\\n* Webevents LLC\\n* Wegweiser GmbH Berlin\\n* XpoNet dba xpodigital\\n* Zohar Sivan And Alkobi Eli-hazohar Pitronot Aitzuv Lea\"),\n",
       "   Document(metadata={'Header 1': 'Maintenance and Support', 'Header 2': 'Preferred Suppliers'}, page_content='## Preferred Suppliers  \\nTo expedite your purchase, utilize one of the preferred suppliers provided\\nbelow. If there are no preferred suppliers, refer to the [Procurement\\nContacts](https://apex.oraclecorp.com/pls/apex/#CM) for additional guidance.  \\nCountry  \\nAlgeria Andorra Antigua And Barbuda Argentina Armenia Aruba Australia Austria\\nAzerbaijan Bahamas Bahrain Bangladesh Barbados Belarus Belgium Belize Benin\\nBolivia Bosnia Bosnia And Herzegovina Botswana Brazil Brunei Darussalam\\nBulgaria Burkina Faso Cambodia Cameroon Canada Chad Chile China Colombia Congo\\nCosta Rica Croatia Cyprus Czech Republic Denmark Dominican Republic Ecuador\\nEgypt El Salvador Estonia Ethiopia Fiji Finland France Gabon Georgia Germany\\nGhana Greece Guam Guatemala Honduras Hong Kong Hungary Iceland India Indonesia\\nIreland Israel Italy Ivory Coast Jamaica Japan Jordan Kazakhstan Kenya Korea\\nKuwait Kyrgyzstan Laos Latvia Lebanon Lithuania Luxembourg Macao Macedonia -\\nProvisional Madagascar Malaysia Maldives Mali Malta Mauritius Mexico\\nMontenegro Morocco Mozambique Nepal Netherlands Netherlands Antilles New\\nZealand Nicaragua Niger Nigeria Norway Oman Pakistan Panama Paraguay Peru\\nPhilippines Poland Portugal Puerto Rico Qatar Romania Russia Rwanda Saint\\nKitts And Nevis San Marino Saudi Arabia Scotland Senegal Serbia Sierra Leone\\nSingapore Slovakia Slovenia South Africa South Asia Growth Economies Spain Sri\\nLanka St. Helena Suriname Sweden Switzerland Syrian Arab Republic Taiwan\\nTanzania, United Republic Of Thailand Trinidad And Tobago Tunisia Turkey Turks\\nAnd Caicos Islands Uganda Ukraine United Arab Emirates United Kingdom United\\nStates Uruguay Uzbekistan Venezuela Vietnam Virgin Islands (British) Zambia\\nZimbabwe')]},\n",
       " {'query_num': 'CMP_PROC_GUIDE_020',\n",
       "  'generated_answer': 'Yes, there are preferred sponsorship vendors that operate in both Europe and the USA. Some of the preferred suppliers that are listed for Europe and North America include Cogs & Marvel USA Inc, CPA Academy, Executive Platforms, Inc., Enterprise Events Group, EUROFORUM Deutschland GmbH, AHEAD FZC, Global Experience Specialists, Inc, Billington CyberSecurity, Thursday Nights, Fern Exposition & Event Services, and Oasis Summit LLC. These vendors are part of the preferred suppliers provided by Oracle for expediting purchases.',\n",
       "  'sources': [Document(metadata={'Header 1': 'Sponsorships Fees', 'Header 2': 'Preferred Suppliers'}, page_content=\"## Preferred Suppliers  \\nTo expedite your purchase, utilize one of the preferred suppliers provided\\nbelow. If there are no preferred suppliers, refer to the Procurement Contacts\\nfor additional guidance.  \\n| Country                                                      | Supplier                                                     |\\n| ------------------------------------------------------------ | ------------------------------------------------------------ |\\n| ### Africa<br/>- Algeria<br/>- Benin<br/>- Botswana<br/>- Burkina Faso<br/>- Cameroon<br/>- Chad<br/>- Congo<br/>- Egypt<br/>- Ethiopia<br/>- Gabon<br/>- Ghana<br/>- Ivory Coast<br/>- Kenya<br/>- Madagascar<br/>- Mali<br/>- Mauritius<br/>- Morocco<br/>- Mozambique<br/>- Niger<br/>- Nigeria<br/>- Rwanda<br/>- Senegal<br/>- Sierra Leone<br/>- South Africa<br/>- Tanzania, United Republic Of<br/>- Tunisia<br/>- Uganda<br/>- Zambia<br/>- Zimbabwe<br/><br/> | - Cogs & Marvel USA Inc<br/>- CPA Academy<br/>- Executive Platforms, Inc.<br/>- Enterprise Events Group<br/>- EUROFORUM Deutschland GmbH<br/>- AHEAD FZC<br/>- Global Experience Specialists, Inc<br/>- Billington CyberSecurity<br/>- Thursday Nights<br/>- Fern Exposition & Event Services<br/>- Oasis Summit LLC<br/>- Educause<br/>- Internet Society<br/>- Display Studios Inc<br/>- HIMSS Media, LLC<br/>- Informa Tech Holdings LLC<br/>- Lake Nona Institute<br/>- IMAGO TECHMEDIA LIMITED<br/>- Generis<br/>- Retail Industry Leaders Association<br/>- Informa Exhibitions US Construction & Real Estate, Inc.<br/>- Winsight, LLC<br/>- Image Technologies<br/>- Swift Scrl<br/>- WALT DISNEY PARKS & RESORTS U.S., INC.<br/>- Newcomer Media LLC<br/>- Bachiero Event Services<br/>- The August Jackson Company<br/>- CloserStill Media Ltd<br/>- CXO<br/>- HLTH LLC<br/>- NEXT BUSINESS EXHIBITIONS SL<br/>- Rigging Technologies<br/>- VMware User Group Inc<br/> |\\n| ### Asia<br/>- Armenia<br/>- Azerbaijan<br/>- Bahrain<br/>- Bangladesh<br/>- Brunei Darussalam<br/>- Cambodia<br/>- China<br/>- Georgia<br/>- India<br/>- Indonesia<br/>- Israel<br/>- Japan<br/>- Jordan<br/>- Kazakhstan<br/>- Korea<br/>- Kuwait<br/>- Kyrgyzstan<br/>- Laos<br/>- Lebanon<br/>- Macao<br/>- Malaysia<br/>- Maldives<br/>- Nepal<br/>- Oman<br/>- Pakistan<br/>- Philippines<br/>- Qatar<br/>- Saudi Arabia<br/>- Singapore<br/>- South Asia Growth Economies<br/>- Sri Lanka<br/>- Syrian Arab Republic<br/>- Taiwan<br/>- Thailand<br/>- Turkey<br/>- Uzbekistan<br/>- Vietnam<br/><br/> | - Cogs & Marvel USA Inc<br/>- CPA Academy<br/>- Executive Platforms, Inc.<br/>- Enterprise Events Group<br/>- EUROFORUM Deutschland GmbH<br/>- AHEAD FZC<br/>- Global Experience Specialists, Inc<br/>- Billington CyberSecurity<br/>- Thursday Nights<br/>- Fern Exposition & Event Services<br/>- Oasis Summit LLC<br/>- HLTH LLC<br/>- NEXT BUSINESS EXHIBITIONS SL<br/>- Rigging Technologies<br/>- VMware User Group Inc<br/>- America's Health Insurance Plans<br/>- The Cipher Brief<br/>- CenterPoint Marketing<br/>- Research Data Alliance Foundation<br/>- TERRAPINN HOLDINGS LTD<br/>- FedScoop LLC<br/> |\\n| ### Europe<br/>- Andorra<br/>- Austria<br/>- Belarus<br/>- Belgium<br/>- Bosnia<br/>- Bosnia And Herzegovina<br/>- Bulgaria<br/>- Croatia<br/>- Cyprus<br/>- Czech Republic<br/>- Denmark<br/>- Estonia<br/>- Finland<br/>- France<br/>- Germany<br/>- Greece<br/>- Hungary<br/>- Iceland<br/>- Ireland<br/>- Italy<br/>- Latvia<br/>- Lithuania<br/>- Luxembourg<br/>- Macedonia - Provisional<br/>- Malta<br/>- Montenegro<br/>- Netherlands<br/>- Norway<br/>- Poland<br/>- Portugal<br/>- Romania<br/>- Russia<br/>- San Marino<br/>- Scotland<br/>- Serbia<br/>- Slovakia<br/>- Slovenia<br/>- Spain<br/>- Sweden<br/>- Switzerland<br/>- Ukraine<br/>- United Kingdom<br/><br/> | - Cogs & Marvel USA Inc<br/>- CPA Academy<br/>- Executive Platforms, Inc.<br/>- Enterprise Events Group<br/>- EUROFORUM Deutschland GmbH<br/>- AHEAD FZC<br/>- Global Experience Specialists, Inc<br/>- Billington CyberSecurity<br/>- Thursday Nights<br/>- Fern Exposition & Event Services<br/>- Oasis Summit LLC<br/> |\\n| ### North America<br/>- Antigua And Barbuda<br/>- Aruba<br/>- Bahamas<br/>- Barbados<br/>- Belize<br/>- Canada<br/>- Costa Rica<br/>- Dominican Republic<br/>- El Salvador<br/>- Guatemala<br/>- Honduras<br/>- Jamaica<br/>- Mexico<br/>- Nicaragua<br/>- Panama<br/>- Puerto Rico<br/>- Saint Kitts And Nevis<br/>- Trinidad And Tobago<br/>- Turks And Caicos Islands<br/>- United States<br/>- Virgin Islands (British)<br/><br/> | - Cogs & Marvel USA Inc<br/>- CPA Academy<br/>- Executive Platforms, Inc.<br/>- Enterprise Events Group<br/>- EUROFORUM Deutschland GmbH<br/>- AHEAD FZC<br/>- Global Experience Specialists, Inc<br/>- Billington CyberSecurity<br/>- Thursday Nights<br/>- Fern Exposition & Event Services<br/>- Oasis Summit LLC<br/>- America's Health Insurance Plans<br/>- The Cipher Brief<br/>- CenterPoint Marketing<br/>- Research Data Alliance Foundation<br/>- TERRAPINN HOLDINGS LTD<br/>- FedScoop LLC<br/>- Upfront Ventures Management LLC<br/>- V8 Consulting Ltda<br/>- OVG Global Partnerships<br/>- Computer Methods International Corporation |\\n| ### South America<br/>- Argentina<br/>- Bolivia<br/>- Brazil<br/>- Chile<br/>- Colombia<br/>- Ecuador<br/>- Paraguay<br/>- Peru<br/>- Suriname<br/>- Uruguay<br/>- Venezuela<br/> | - HLTH LLC<br/>- NEXT BUSINESS EXHIBITIONS SL<br/>- Rigging Technologies<br/>- VMware User Group Inc<br/>- America's Health Insurance Plans<br/>- The Cipher Brief<br/>- CenterPoint Marketing<br/>- Research Data Alliance Foundation<br/>- TERRAPINN HOLDINGS LTD<br/>- FedScoop LLC<br/> |\\n| ### Oceania<br/>- Australia<br/>- Fiji<br/>- Guam<br/>- New Zealand | - TERRAPINN HOLDINGS LTD<br/>                                |  \\nUS and Canada ONLY: An Independent Contractor Evaluation is required in order\\nto protect Oracle from tax liabilities and any co-employment issues arising\\nfrom using billable and non-billable contractor resources in an employee-like\\nrelationship. For further assistance, contact cwp-namerica-\\nsupport_ww@oracle.com.  \\nOracle requires suppliers to agree to certain terms and conditions in writing\\nto mitigate Oracle's risk exposure. Standard contract documents can include a\\nmaster agreement, statement of work, or ordering document. If you need\\nassistance, reach out to your regional Procurement Contact.  \\nQuotes help document what the supplier will provide, the pricing, and scope of\\nyour requirements.  \\nGlobal Procurement is responsible for the policies and guidelines for all\\npurchase transactions. We have a team of Procurement professionals ready to\\nhelp with supplier selection, pricing, and terms negotiation and assist you\\nthrough the purchasing process.  \\nContact Global Procurement if you need assistance.  \\nOracle has entered into contracts with our preferred suppliers; using one of\\nour preferred suppliers accelerates the procurement process, removing the time\\nrequired to set up a supplier and negotiated contracts.\"),\n",
       "   Document(metadata={'Header 1': 'Non Billable Indepdt Contractor Labor', 'Header 2': 'Preferred Suppliers'}, page_content='## Preferred Suppliers  \\nTo expedite your purchase, utilize one of the preferred suppliers provided\\nbelow. If there are no preferred suppliers, refer to the [Procurement\\nContacts](https://apex.oraclecorp.com/pls/apex/#CM) for additional guidance.  \\nCountry  \\nAlgeria Andorra Antigua And Barbuda Argentina Armenia Aruba Australia Austria\\nAzerbaijan Bahamas Bahrain Bangladesh Barbados Belarus Belgium Belize Benin\\nBolivia Bosnia Bosnia And Herzegovina Botswana Brazil Brunei Darussalam\\nBulgaria Burkina Faso Cambodia Cameroon Canada Chad Chile China Colombia Congo\\nCosta Rica Croatia Cyprus Czech Republic Denmark Dominican Republic Ecuador\\nEgypt El Salvador Estonia Ethiopia Fiji Finland France Gabon Georgia Germany\\nGhana Greece Guam Guatemala Honduras Hong Kong Hungary Iceland India Indonesia\\nIreland Israel Italy Ivory Coast Jamaica Japan Jordan Kazakhstan Kenya Korea\\nKuwait Kyrgyzstan Laos Latvia Lebanon Lithuania Luxembourg Macao Macedonia -\\nProvisional Madagascar Malaysia Maldives Mali Malta Mauritius Mexico\\nMontenegro Morocco Mozambique Nepal Netherlands Netherlands Antilles New\\nZealand Nicaragua Niger Nigeria Norway Oman Pakistan Panama Paraguay Peru\\nPhilippines Poland Portugal Puerto Rico Qatar Romania Russia Rwanda Saint\\nKitts And Nevis San Marino Saudi Arabia Scotland Senegal Serbia Sierra Leone\\nSingapore Slovakia Slovenia South Africa South Asia Growth Economies Spain Sri\\nLanka St. Helena Suriname Sweden Switzerland Syrian Arab Republic Taiwan\\nTanzania, United Republic Of Thailand Trinidad And Tobago Tunisia Turkey Turks\\nAnd Caicos Islands Uganda Ukraine United Arab Emirates United Kingdom United\\nStates Uruguay Uzbekistan Venezuela Vietnam Virgin Islands (British) Zambia\\nZimbabwe  \\n* 4 Pr Consultoria Em Comunicação Ltda\\n* AA Piotr Wargocki\\n* ACCSIGHT\\n* Aggrandize Serviços de Tecnologia da Informação Ltda\\n* AxiaMetrics LLP\\n* Azpired Inc\\n* ClinStat GmbH\\n* Concilium Search LLC\\n* Digital & Cloud Solutions LLC\\n* Evolytics LLC\\n* Garitty Ventures LLC dba FPW Media\\n* Hays Professional Solutions GmbH\\n* Ideal Health Consultants Limited\\n* Luzcon Digital Ltda\\n* MSM MIRI STORFER MARKETING LTD\\n* Michael Hofmeister\\n* Micro Focus Software Inc.\\n* Presidio\\n* Progressive - Sthree Gmbh\\n* Riforce BV\\n* SMART CO CONSULTING LIMITED\\n* Sramek\\n* Staburo GmbH\\n* Synaxis Corporation\\n* The Red Agency Ltd (UK)\\n* VIP MARKETING\\n* Vanna Information Technologies India Pvt Ltd\\n* World Wide Technology, Inc\\n* YunoJuno Limited'),\n",
       "   Document(metadata={'Header 1': 'Non-Employee meetings or events', 'Header 2': 'Preferred Suppliers'}, page_content=\"## Preferred Suppliers  \\nTo expedite your purchase, utilize one of the preferred suppliers provided\\nbelow. If there are no preferred suppliers, refer to the [Procurement\\nContacts](https://apex.oraclecorp.com/pls/apex/#CM) for additional guidance.  \\nCountry  \\nAlgeria Andorra Antigua And Barbuda Argentina Armenia Aruba Australia Austria\\nAzerbaijan Bahamas Bahrain Bangladesh Barbados Belarus Belgium Belize Benin\\nBolivia Bosnia Bosnia And Herzegovina Botswana Brazil Brunei Darussalam\\nBulgaria Burkina Faso Cambodia Cameroon Canada Chad Chile China Colombia Congo\\nCosta Rica Croatia Cyprus Czech Republic Denmark Dominican Republic Ecuador\\nEgypt El Salvador Estonia Ethiopia Fiji Finland France Gabon Georgia Germany\\nGhana Greece Guam Guatemala Honduras Hong Kong Hungary Iceland India Indonesia\\nIreland Israel Italy Ivory Coast Jamaica Japan Jordan Kazakhstan Kenya Korea\\nKuwait Kyrgyzstan Laos Latvia Lebanon Lithuania Luxembourg Macao Macedonia -\\nProvisional Madagascar Malaysia Maldives Mali Malta Mauritius Mexico\\nMontenegro Morocco Mozambique Nepal Netherlands Netherlands Antilles New\\nZealand Nicaragua Niger Nigeria Norway Oman Pakistan Panama Paraguay Peru\\nPhilippines Poland Portugal Puerto Rico Qatar Romania Russia Rwanda Saint\\nKitts And Nevis San Marino Saudi Arabia Scotland Senegal Serbia Sierra Leone\\nSingapore Slovakia Slovenia South Africa South Asia Growth Economies Spain Sri\\nLanka St. Helena Suriname Sweden Switzerland Syrian Arab Republic Taiwan\\nTanzania, United Republic Of Thailand Trinidad And Tobago Tunisia Turkey Turks\\nAnd Caicos Islands Uganda Ukraine United Arab Emirates United Kingdom United\\nStates Uruguay Uzbekistan Venezuela Vietnam Virgin Islands (British) Zambia\\nZimbabwe  \\n* 225 Liberty Location LLC\\n* 4Wall Entertainment, Inc.\\n* 7th Avenue Nashville Hotel Owner, LLC\\n* AHEAD FZCO\\n* ALL CUBO EVENTOS LTDA\\n* ANA Intercontinental Hotel\\n* Abu Dhabi National Exhibitions Company\\n* Ad Produtos E Serviços Promocionais Eirele\\n* Asesorias TCC Spa\\n* Atenas Comunicacao Ltda\\n* Aventri\\n* BCT Entertainment, Inc\\n* BREATHE PRODUCTION LTD\\n* BW Events tech\\n* Bianculli & Costa Producoes E Comercio De Eletronicos Ltda\\n* Black Box Corporation\\n* Blackbrier Co\\n* Broadridge Investor Communication\\n* CE3 Design\\n* Canaletto Il Fornaio\\n* Cidreira Restaurante E Eventos Ltda\\n* City of Kansas City Missouri\\n* Cogs & Marvel USA Inc\\n* Contraste Total S.A. De C.V.\\n* DBA Slate\\n* Dakota Events, LLC\\n* Dallas Convention Center Hotel Development Corporation\\n* Domenico Catering & Events LLC\\n* Double Eagle Club\\n* Drai's Management Group LLC\\n* Eiffel Tower, Llc\\n* Elite Security Specialist LLC\\n* Enfoque en Sinergias Aplicadas S.A. de.V\\n* Enterprise Events Group\\n* FIERA MILANO CONGRESSI SPA\\n* Feeling Comunicacao Integrada Ltda\\n* Fern Exposition & Event Services\\n* Fuse Technical Group\\n* Future Insights Network Ltd\\n* GPJ JAPAC\\n* George P Johnson\\n* Grand Bay Hotel San Francisco\\n* Harlie Jole, LLC\\n* Heard Global\\n* Hello! Washington, DC Destination Management\\n* ICT AND STRATEGY S.R.L.\\n* ITC Administração e Hotelaria Ltda\\n* InVision Communications Incorporated\\n* Incidium Ltd\\n* Infosys Tech\\n* Kinetic Lighting\\n* LMG, LLC\\n* LV Stadium Events Company, LLC\\n* Lettuce Entertain You\\n* MCI Brasil Ltda.\\n* MCI Suisse\\n* MOMENTUM COMUNICAÇÃO LTDA.\\n* Madame Tussauds Las Vegas\\n* Mandalay Bay Resort and Casino\\n* NEXT BUSINESS EXHIBITIONS SL\\n* Occasions Caterers Inc\\n* Omni Hotels\\n* Open Data Science, Inc.\\n* Oscardepau Producoes Artisticas Ltda\\n* PENSIERO & PAROLE DI PIETRANTONI LUCIA\\n* POULTRY OPCO LIMITED-The Ned\\n* Portys\\n* Push Agency\\n* Rigging Technologies\\n* Rodrigues Producoes De Eventos Ltda\\n* Royal Garden Hotel\\n* Southwest Scenic Group, Inc.\\n* Stripview Entertainment LLC\\n* Super Push (Marketing Systems) Ltd\\n* Sweetwater Video Productions\\n* TAB Consulting, Inc dba 360 Events & Promotions\\n* Tao\\n* Tater Networks LLC\\n* The August Jackson Company\\n* The Ballantyne Hotel and Lodge\\n* The Joule dba 1530 Main LP\\n* The Smart Source\\n* UCF Hotel Venture dba Loews Royal Pacific Resort\\n* VCI Event Technology, Inc.\\n* Venetian Hotel\\n* Virgin Hotels Las Vegas\\n* Webevents LLC\\n* Wegweiser GmbH Berlin\\n* XpoNet dba xpodigital\\n* Zohar Sivan And Alkobi Eli-hazohar Pitronot Aitzuv Lea\"),\n",
       "   Document(metadata={'Header 1': 'Maintenance and Support', 'Header 2': 'Preferred Suppliers'}, page_content='## Preferred Suppliers  \\nTo expedite your purchase, utilize one of the preferred suppliers provided\\nbelow. If there are no preferred suppliers, refer to the [Procurement\\nContacts](https://apex.oraclecorp.com/pls/apex/#CM) for additional guidance.  \\nCountry  \\nAlgeria Andorra Antigua And Barbuda Argentina Armenia Aruba Australia Austria\\nAzerbaijan Bahamas Bahrain Bangladesh Barbados Belarus Belgium Belize Benin\\nBolivia Bosnia Bosnia And Herzegovina Botswana Brazil Brunei Darussalam\\nBulgaria Burkina Faso Cambodia Cameroon Canada Chad Chile China Colombia Congo\\nCosta Rica Croatia Cyprus Czech Republic Denmark Dominican Republic Ecuador\\nEgypt El Salvador Estonia Ethiopia Fiji Finland France Gabon Georgia Germany\\nGhana Greece Guam Guatemala Honduras Hong Kong Hungary Iceland India Indonesia\\nIreland Israel Italy Ivory Coast Jamaica Japan Jordan Kazakhstan Kenya Korea\\nKuwait Kyrgyzstan Laos Latvia Lebanon Lithuania Luxembourg Macao Macedonia -\\nProvisional Madagascar Malaysia Maldives Mali Malta Mauritius Mexico\\nMontenegro Morocco Mozambique Nepal Netherlands Netherlands Antilles New\\nZealand Nicaragua Niger Nigeria Norway Oman Pakistan Panama Paraguay Peru\\nPhilippines Poland Portugal Puerto Rico Qatar Romania Russia Rwanda Saint\\nKitts And Nevis San Marino Saudi Arabia Scotland Senegal Serbia Sierra Leone\\nSingapore Slovakia Slovenia South Africa South Asia Growth Economies Spain Sri\\nLanka St. Helena Suriname Sweden Switzerland Syrian Arab Republic Taiwan\\nTanzania, United Republic Of Thailand Trinidad And Tobago Tunisia Turkey Turks\\nAnd Caicos Islands Uganda Ukraine United Arab Emirates United Kingdom United\\nStates Uruguay Uzbekistan Venezuela Vietnam Virgin Islands (British) Zambia\\nZimbabwe')]}]"
      ]
     },
     "execution_count": 21,
     "metadata": {},
     "output_type": "execute_result"
    }
   ],
   "source": [
    "results"
   ]
  },
  {
   "cell_type": "code",
   "execution_count": 22,
   "metadata": {},
   "outputs": [],
   "source": [
    "df = queries.merge(pd.DataFrame(results), on=\"query_num\", how=\"inner\")\n",
    "assert len(df) == len(queries)  # Ensure that all queries have been processed"
   ]
  },
  {
   "cell_type": "markdown",
   "metadata": {},
   "source": [
    "Choose the LLM for evaluations"
   ]
  },
  {
   "cell_type": "code",
   "execution_count": 23,
   "metadata": {},
   "outputs": [],
   "source": [
    "evaluation_llm_family = os.environ[\"EVALUATION_LLM_FAMILY\"]\n",
    "evaluation_llm_model = os.environ[\"EVALUATION_LLM_MODEL\"]\n",
    "\n",
    "if evaluation_llm_family == \"OPENAI\":\n",
    "    Settings.eval_llm = OpenAI(temperature=0, model=evaluation_llm_model)\n"
   ]
  },
  {
   "cell_type": "code",
   "execution_count": 24,
   "metadata": {},
   "outputs": [],
   "source": [
    "eval_lidx_c = CorrectnessEvaluator(llm=Settings.eval_llm)\n",
    "\n",
    "runner = BatchEvalRunner(\n",
    "    {\"correctness\": eval_lidx_c},\n",
    "    workers=16,\n",
    ")\n",
    "\n",
    "LI_eval_results = await runner.aevaluate_responses(\n",
    "    queries=df[\"query\"].tolist(),\n",
    "    responses=[Response(response=x) for x in df[\"generated_answer\"].tolist()],\n",
    "    reference=[{\"reference\": x} for x in df[\"expected_answer\"].tolist()],\n",
    ")"
   ]
  },
  {
   "cell_type": "code",
   "execution_count": 25,
   "metadata": {},
   "outputs": [
    {
     "name": "stdout",
     "output_type": "stream",
     "text": [
      "Average score: 3.7222222222222223\n"
     ]
    }
   ],
   "source": [
    "df[\"correctness_result\"] = LI_eval_results[\"correctness\"]\n",
    "df[\"correctness_llm\"] = df[\"correctness_result\"].map(lambda x: x.score)\n",
    "df[\"feedback_llm\"] = df[\"correctness_result\"].map(lambda x: x.feedback)\n",
    "print(f\"\"\"Average score: {df[\"correctness_llm\"].mean()}\"\"\")"
   ]
  },
  {
   "cell_type": "code",
   "execution_count": 26,
   "metadata": {},
   "outputs": [
    {
     "name": "stderr",
     "output_type": "stream",
     "text": [
      "C:\\Users\\sthan\\AppData\\Local\\Temp\\ipykernel_17680\\1433010542.py:3: SettingWithCopyWarning: \n",
      "A value is trying to be set on a copy of a slice from a DataFrame.\n",
      "Try using .loc[row_indexer,col_indexer] = value instead\n",
      "\n",
      "See the caveats in the documentation: https://pandas.pydata.org/pandas-docs/stable/user_guide/indexing.html#returning-a-view-versus-a-copy\n",
      "  responses_df['correctness_human'] = responses_df['correctness_llm']\n",
      "C:\\Users\\sthan\\AppData\\Local\\Temp\\ipykernel_17680\\1433010542.py:5: SettingWithCopyWarning: \n",
      "A value is trying to be set on a copy of a slice from a DataFrame.\n",
      "Try using .loc[row_indexer,col_indexer] = value instead\n",
      "\n",
      "See the caveats in the documentation: https://pandas.pydata.org/pandas-docs/stable/user_guide/indexing.html#returning-a-view-versus-a-copy\n",
      "  responses_df['rag_strategy'] = rag_strategy\n",
      "C:\\Users\\sthan\\AppData\\Local\\Temp\\ipykernel_17680\\1433010542.py:6: SettingWithCopyWarning: \n",
      "A value is trying to be set on a copy of a slice from a DataFrame.\n",
      "Try using .loc[row_indexer,col_indexer] = value instead\n",
      "\n",
      "See the caveats in the documentation: https://pandas.pydata.org/pandas-docs/stable/user_guide/indexing.html#returning-a-view-versus-a-copy\n",
      "  responses_df['rag_strategy_desc'] = rag_strategy_desc\n",
      "C:\\Users\\sthan\\AppData\\Local\\Temp\\ipykernel_17680\\1433010542.py:7: SettingWithCopyWarning: \n",
      "A value is trying to be set on a copy of a slice from a DataFrame.\n",
      "Try using .loc[row_indexer,col_indexer] = value instead\n",
      "\n",
      "See the caveats in the documentation: https://pandas.pydata.org/pandas-docs/stable/user_guide/indexing.html#returning-a-view-versus-a-copy\n",
      "  responses_df['parameter_1'] = similarity_top_k\n",
      "C:\\Users\\sthan\\AppData\\Local\\Temp\\ipykernel_17680\\1433010542.py:9: SettingWithCopyWarning: \n",
      "A value is trying to be set on a copy of a slice from a DataFrame.\n",
      "Try using .loc[row_indexer,col_indexer] = value instead\n",
      "\n",
      "See the caveats in the documentation: https://pandas.pydata.org/pandas-docs/stable/user_guide/indexing.html#returning-a-view-versus-a-copy\n",
      "  responses_df['model'] = generation_string\n",
      "C:\\Users\\sthan\\AppData\\Local\\Temp\\ipykernel_17680\\1433010542.py:10: SettingWithCopyWarning: \n",
      "A value is trying to be set on a copy of a slice from a DataFrame.\n",
      "Try using .loc[row_indexer,col_indexer] = value instead\n",
      "\n",
      "See the caveats in the documentation: https://pandas.pydata.org/pandas-docs/stable/user_guide/indexing.html#returning-a-view-versus-a-copy\n",
      "  responses_df['embed_model'] = embedding_llm_model\n",
      "C:\\Users\\sthan\\AppData\\Local\\Temp\\ipykernel_17680\\1433010542.py:11: SettingWithCopyWarning: \n",
      "A value is trying to be set on a copy of a slice from a DataFrame.\n",
      "Try using .loc[row_indexer,col_indexer] = value instead\n",
      "\n",
      "See the caveats in the documentation: https://pandas.pydata.org/pandas-docs/stable/user_guide/indexing.html#returning-a-view-versus-a-copy\n",
      "  responses_df['eval_model'] = evaluation_llm_model\n",
      "C:\\Users\\sthan\\AppData\\Local\\Temp\\ipykernel_17680\\1433010542.py:12: SettingWithCopyWarning: \n",
      "A value is trying to be set on a copy of a slice from a DataFrame.\n",
      "Try using .loc[row_indexer,col_indexer] = value instead\n",
      "\n",
      "See the caveats in the documentation: https://pandas.pydata.org/pandas-docs/stable/user_guide/indexing.html#returning-a-view-versus-a-copy\n",
      "  responses_df['embed_dimensions'] = embedding_dimensions\n",
      "C:\\Users\\sthan\\AppData\\Local\\Temp\\ipykernel_17680\\1433010542.py:13: SettingWithCopyWarning: \n",
      "A value is trying to be set on a copy of a slice from a DataFrame.\n",
      "Try using .loc[row_indexer,col_indexer] = value instead\n",
      "\n",
      "See the caveats in the documentation: https://pandas.pydata.org/pandas-docs/stable/user_guide/indexing.html#returning-a-view-versus-a-copy\n",
      "  responses_df['reranker'] = \"\"\n",
      "C:\\Users\\sthan\\AppData\\Local\\Temp\\ipykernel_17680\\1433010542.py:14: SettingWithCopyWarning: \n",
      "A value is trying to be set on a copy of a slice from a DataFrame.\n",
      "Try using .loc[row_indexer,col_indexer] = value instead\n",
      "\n",
      "See the caveats in the documentation: https://pandas.pydata.org/pandas-docs/stable/user_guide/indexing.html#returning-a-view-versus-a-copy\n",
      "  responses_df['run_date'] = datetime.today().strftime('%Y-%m-%d')\n",
      "C:\\Users\\sthan\\AppData\\Local\\Temp\\ipykernel_17680\\1433010542.py:15: SettingWithCopyWarning: \n",
      "A value is trying to be set on a copy of a slice from a DataFrame.\n",
      "Try using .loc[row_indexer,col_indexer] = value instead\n",
      "\n",
      "See the caveats in the documentation: https://pandas.pydata.org/pandas-docs/stable/user_guide/indexing.html#returning-a-view-versus-a-copy\n",
      "  responses_df['eval_name'] = eval_name\n",
      "C:\\Users\\sthan\\AppData\\Local\\Temp\\ipykernel_17680\\1433010542.py:16: SettingWithCopyWarning: \n",
      "A value is trying to be set on a copy of a slice from a DataFrame.\n",
      "Try using .loc[row_indexer,col_indexer] = value instead\n",
      "\n",
      "See the caveats in the documentation: https://pandas.pydata.org/pandas-docs/stable/user_guide/indexing.html#returning-a-view-versus-a-copy\n",
      "  responses_df['batch_id'] = batch_id\n"
     ]
    }
   ],
   "source": [
    "responses_df = pd.DataFrame()\n",
    "responses_df = df[['query_num', 'query', 'expected_answer', 'generated_answer', 'correctness_llm']]\n",
    "responses_df['correctness_human'] = responses_df['correctness_llm']\n",
    "responses_df.loc[:, ['faithfulness_llm', 'faithfulness_human']] = \"\"\n",
    "responses_df['rag_strategy'] = rag_strategy\n",
    "responses_df['rag_strategy_desc'] = rag_strategy_desc\n",
    "responses_df['parameter_1'] = similarity_top_k\n",
    "responses_df.loc[:, ['parameter_2', 'parameter_3', 'parameter_4', 'parameter_5']] = \"\"\n",
    "responses_df['model'] = generation_string \n",
    "responses_df['embed_model'] = embedding_llm_model \n",
    "responses_df['eval_model'] = evaluation_llm_model\n",
    "responses_df['embed_dimensions'] = embedding_dimensions   \n",
    "responses_df['reranker'] = \"\"\n",
    "responses_df['run_date'] = datetime.today().strftime('%Y-%m-%d') \n",
    "responses_df['eval_name'] = eval_name\n",
    "responses_df['batch_id'] = batch_id"
   ]
  },
  {
   "cell_type": "markdown",
   "metadata": {},
   "source": [
    "Get Performance Metrics from Langsmith"
   ]
  },
  {
   "cell_type": "code",
   "execution_count": 27,
   "metadata": {},
   "outputs": [],
   "source": [
    "client = Client()\n",
    "runs = client.list_runs (\n",
    "    project_name=eval_name, \n",
    "    filter=f\"and(eq(metadata_key, 'batch_id'), eq(metadata_value, '{batch_id}'))\",\n",
    "    is_root=True\n",
    ")"
   ]
  },
  {
   "cell_type": "code",
   "execution_count": 28,
   "metadata": {},
   "outputs": [],
   "source": [
    "usage_data = []\n",
    "\n",
    "for run in runs:\n",
    "        \n",
    "    usage_data.append(\n",
    "        {\n",
    "            \"query_num\": run.extra[\"metadata\"][\"query_num\"],\n",
    "            \"total_tokens\": run.total_tokens,\n",
    "            \"prompt_tokens\": run.prompt_tokens,\n",
    "            \"completion_tokens\": run.completion_tokens,\n",
    "            \"total_cost\": f\"${run.total_cost:.4f}\"\n",
    "            if run.total_cost\n",
    "            else None,\n",
    "            \"prompt_cost\": f\"${run.prompt_cost:.4f}\"\n",
    "            if run.prompt_cost\n",
    "            else None,\n",
    "            \"completion_cost\": f\"${run.completion_cost:.4f}\"\n",
    "            if run.completion_cost\n",
    "            else None,\n",
    "            \"latency\": (run.end_time - run.start_time).total_seconds()\n",
    "            if run.end_time\n",
    "            else None,  # Pending runs have no end time\n",
    "            \"first_token_ms\": (run.first_token_time - run.start_time).total_seconds()*1000\n",
    "            if run.first_token_time\n",
    "            else None,  # Pending runs have no end time\n",
    "        }\n",
    "    )\n",
    "\n",
    "usage_df = pd.DataFrame(usage_data)"
   ]
  },
  {
   "cell_type": "code",
   "execution_count": 29,
   "metadata": {},
   "outputs": [],
   "source": [
    "responses_df = responses_df.merge(usage_df, on='query_num', how='left')"
   ]
  },
  {
   "cell_type": "code",
   "execution_count": 30,
   "metadata": {},
   "outputs": [],
   "source": [
    "correctness_sum = df['correctness_llm'].sum()\n",
    "correctness_mean = df['correctness_llm'].mean()\n",
    "\n",
    "# Create a new DataFrame for the summary\n",
    "summary_df = pd.DataFrame({\n",
    "    'Metric': ['Sum', 'Mean'],\n",
    "    'Value': [correctness_sum, correctness_mean]\n",
    "})"
   ]
  },
  {
   "cell_type": "code",
   "execution_count": 31,
   "metadata": {},
   "outputs": [
    {
     "name": "stderr",
     "output_type": "stream",
     "text": [
      "C:\\Users\\sthan\\AppData\\Local\\Temp\\ipykernel_17680\\948400607.py:3: SettingWithCopyWarning: \n",
      "A value is trying to be set on a copy of a slice from a DataFrame.\n",
      "Try using .loc[row_indexer,col_indexer] = value instead\n",
      "\n",
      "See the caveats in the documentation: https://pandas.pydata.org/pandas-docs/stable/user_guide/indexing.html#returning-a-view-versus-a-copy\n",
      "  correctness_df['correctness_human'] = correctness_df['correctness_llm']\n",
      "C:\\Users\\sthan\\AppData\\Local\\Temp\\ipykernel_17680\\948400607.py:4: SettingWithCopyWarning: \n",
      "A value is trying to be set on a copy of a slice from a DataFrame.\n",
      "Try using .loc[row_indexer,col_indexer] = value instead\n",
      "\n",
      "See the caveats in the documentation: https://pandas.pydata.org/pandas-docs/stable/user_guide/indexing.html#returning-a-view-versus-a-copy\n",
      "  correctness_df['feedback_human'] = \"\"\n",
      "C:\\Users\\sthan\\AppData\\Local\\Temp\\ipykernel_17680\\948400607.py:5: SettingWithCopyWarning: \n",
      "A value is trying to be set on a copy of a slice from a DataFrame.\n",
      "Try using .loc[row_indexer,col_indexer] = value instead\n",
      "\n",
      "See the caveats in the documentation: https://pandas.pydata.org/pandas-docs/stable/user_guide/indexing.html#returning-a-view-versus-a-copy\n",
      "  correctness_df['batch_id'] = batch_id\n"
     ]
    }
   ],
   "source": [
    "correctness_df = pd.DataFrame()\n",
    "correctness_df = df[['query_num', 'query', 'expected_answer', 'generated_answer', 'correctness_llm', 'feedback_llm']]\n",
    "correctness_df['correctness_human'] = correctness_df['correctness_llm']\n",
    "correctness_df['feedback_human'] = \"\"\n",
    "correctness_df['batch_id'] = batch_id"
   ]
  },
  {
   "cell_type": "code",
   "execution_count": 32,
   "metadata": {},
   "outputs": [
    {
     "name": "stderr",
     "output_type": "stream",
     "text": [
      "C:\\Users\\sthan\\AppData\\Local\\Temp\\ipykernel_17680\\2723284226.py:2: SettingWithCopyWarning: \n",
      "A value is trying to be set on a copy of a slice from a DataFrame.\n",
      "Try using .loc[row_indexer,col_indexer] = value instead\n",
      "\n",
      "See the caveats in the documentation: https://pandas.pydata.org/pandas-docs/stable/user_guide/indexing.html#returning-a-view-versus-a-copy\n",
      "  sources_df['batch_id'] = batch_id\n"
     ]
    }
   ],
   "source": [
    "sources_df = df[['query_num', 'query', 'sources']]\n",
    "sources_df['batch_id'] = batch_id"
   ]
  },
  {
   "cell_type": "code",
   "execution_count": 33,
   "metadata": {},
   "outputs": [],
   "source": [
    "with pd.ExcelWriter(output_file) as writer:\n",
    "   responses_df.to_excel(writer, sheet_name=\"Responses\", index=False)\n",
    "   sources_df.to_excel(writer, sheet_name=\"Sources\", index=False)\n",
    "   summary_df.to_excel(writer, sheet_name=\"Summary\", index=False)\n",
    "   correctness_df.to_excel(writer, sheet_name=\"Correctness\", index=False)"
   ]
  }
 ],
 "metadata": {
  "kernelspec": {
   "display_name": "base",
   "language": "python",
   "name": "python3"
  },
  "language_info": {
   "codemirror_mode": {
    "name": "ipython",
    "version": 3
   },
   "file_extension": ".py",
   "mimetype": "text/x-python",
   "name": "python",
   "nbconvert_exporter": "python",
   "pygments_lexer": "ipython3",
   "version": "3.11.5"
  }
 },
 "nbformat": 4,
 "nbformat_minor": 2
}
