{
 "cells": [
  {
   "cell_type": "markdown",
   "metadata": {},
   "source": [
    "S006 Semantic Chunking  for RAG (Cohere version)\n",
    "- Requires markdown documents\n",
    "- Use for Cohere only - using Cohere APIs for generation\n",
    "    - Preamble / Prompt from Cohere\n",
    "- Use LangChain Markdown parser to semantically chunk documents\n",
    "- Store the chunks in a vector database (along with necessary metadata)\n",
    "- Use retriever to fetch chunks from vector database\n",
    "- Optionally rerank the retrieved chunks\n",
    "- Modify these chunks to include metadata information \n",
    "- Pass the retrieved chunks to LLM for generation\n"
   ]
  },
  {
   "cell_type": "code",
   "execution_count": 1,
   "metadata": {},
   "outputs": [],
   "source": [
    "from langchain_core.documents import Document\n",
    "from langchain_text_splitters import MarkdownHeaderTextSplitter\n",
    "from langchain_community.document_loaders import TextLoader"
   ]
  },
  {
   "cell_type": "code",
   "execution_count": 2,
   "metadata": {},
   "outputs": [],
   "source": [
    "from datetime import datetime\n",
    "import json\n",
    "import os\n",
    "\n",
    "import cohere\n",
    "import nest_asyncio\n",
    "from llama_index.core.base.response.schema import Response\n",
    "from llama_index.core import Settings\n",
    "from llama_index.core.evaluation import (\n",
    "    BatchEvalRunner,    \n",
    "    CorrectnessEvaluator,\n",
    ")\n",
    "from llama_index.llms.cohere import Cohere\n",
    "from llama_index.llms.openai import OpenAI\n",
    "import openai\n",
    "import pandas as pd\n",
    "\n",
    "from evaluation_utils import threadpool_map\n",
    "\n",
    "from langchain_community.vectorstores import Chroma\n",
    "from langchain_core.documents import Document\n",
    "from langchain_text_splitters import MarkdownHeaderTextSplitter\n",
    "from langchain_community.document_loaders import TextLoader\n",
    "from langchain_community.document_loaders import DirectoryLoader\n",
    "from langchain_cohere import CohereEmbeddings\n",
    "\n",
    "nest_asyncio.apply()"
   ]
  },
  {
   "cell_type": "code",
   "execution_count": 3,
   "metadata": {},
   "outputs": [],
   "source": [
    "from config import set_environment\n",
    "set_environment()"
   ]
  },
  {
   "cell_type": "markdown",
   "metadata": {},
   "source": [
    "Choose the LLM for generation"
   ]
  },
  {
   "cell_type": "code",
   "execution_count": 4,
   "metadata": {},
   "outputs": [],
   "source": [
    "generation_llm_family = os.environ[\"GENERATION_LLM_FAMILY\"]\n",
    "generation_llm_model = os.environ[\"GENERATION_LLM_MODEL\"]\n",
    "\n",
    "co = cohere.Client(api_key=os.environ[\"COHERE_API_KEY\"])\n",
    "\n",
    "if generation_llm_family == \"COHERE\":\n",
    "    Settings.llm = Cohere(api_key=os.environ[\"COHERE_API_KEY\"], model=generation_llm_model,temperature=0)"
   ]
  },
  {
   "cell_type": "markdown",
   "metadata": {},
   "source": [
    "Choose the LLM for embedding"
   ]
  },
  {
   "cell_type": "code",
   "execution_count": 5,
   "metadata": {},
   "outputs": [],
   "source": [
    "embedding_llm_family = os.environ[\"EMBEDDING_LLM_FAMILY\"]\n",
    "embedding_llm_model = os.environ[\"EMBEDDING_LLM_MODEL\"]\n",
    "embedding_dimensions = int(os.environ[\"EMBEDDING_DIMESIONS\"])\n",
    "\n",
    "if embedding_llm_family == \"COHERE\":\n",
    "    embeddings_model = CohereEmbeddings()\n"
   ]
  },
  {
   "cell_type": "code",
   "execution_count": 6,
   "metadata": {},
   "outputs": [],
   "source": [
    "eval_name = os.environ[\"EVAL_NAME\"]\n",
    "eval_directory = os.environ[\"EVAL_DIRECTORY\"]\n",
    "eval_file = os.environ[\"EVAL_FILE\"]\n",
    "eval_questions = os.environ[\"EVAL_QUESTIONS\"]\n",
    "eval_results_dir = os.environ[\"EVAL_RESULTS_DIR\"]\n",
    "eval_quick_test = os.environ[\"EVAL_QUICK_TEST\"]\n",
    "\n",
    "rag_strategy = os.environ[\"RAG_STRATEGY\"]\n",
    "similarity_top_k = int(os.environ[\"SIMILARITY_TOP_K\"]) \n",
    "\n",
    "prompt_template = os.environ[\"RAG_PROMPT_TEMPLATE\"]"
   ]
  },
  {
   "cell_type": "markdown",
   "metadata": {},
   "source": [
    "Pick the strategy"
   ]
  },
  {
   "cell_type": "code",
   "execution_count": 7,
   "metadata": {},
   "outputs": [],
   "source": [
    "if rag_strategy == \"S006_00\":\n",
    "    isReRank = False\n",
    "    rag_strategy_desc = \"Semantic_Coh\"\n",
    "    run_id = f\"{eval_name}_{rag_strategy}_GM_{generation_llm_model}_EM_{embedding_llm_model}_K_{similarity_top_k}_{datetime.today().strftime('%Y-%m-%d')}\"\n",
    "elif rag_strategy == \"S006_01\": \n",
    "    isReRank = True\n",
    "    rag_strategy_desc = \"Semantic_Coh_Rerank\"\n",
    "    reranker = os.environ[\"RERANKER\"]\n",
    "    reranker_model = os.environ[\"RERANKER_MODEL\"]\n",
    "    rerank_top_n = int(os.environ[\"RERANK_TOP_N\"])\n",
    "    run_id = f\"{eval_name}_{rag_strategy}_GM_{generation_llm_model}_EM_{embedding_llm_model}_K_{similarity_top_k}_RR_{reranker}_N_{rerank_top_n}_{datetime.today().strftime('%Y-%m-%d')}\"\n",
    "\n",
    "output_file = f\"{eval_results_dir}/{run_id}.xlsx\""
   ]
  },
  {
   "cell_type": "markdown",
   "metadata": {},
   "source": [
    "Read the documents, create chunks, calculate embeddings, store in a vector database"
   ]
  },
  {
   "cell_type": "code",
   "execution_count": 8,
   "metadata": {},
   "outputs": [],
   "source": [
    "loader = DirectoryLoader(eval_directory, glob=\"**/*.md\", loader_cls=TextLoader)\n",
    "text_data = loader.load()\n",
    "page_contents = [item.page_content for item in text_data]\n",
    "text_concatenated = \" \".join(page_contents)\n",
    "\n",
    "headers_to_split_on = [\n",
    "    (\"#\", \"Header 1\"),\n",
    "    (\"##\", \"Header 2\"),\n",
    "    (\"###\", \"Header 3\"),\n",
    "    (\"####\", \"Header 4\"),\n",
    "    (\"####\", \"Header 5\")\n",
    "]\n",
    "\n",
    "markdown_splitter = MarkdownHeaderTextSplitter(headers_to_split_on, strip_headers=False)\n",
    "md_header_splits = markdown_splitter.split_text(text_concatenated)"
   ]
  },
  {
   "cell_type": "code",
   "execution_count": 9,
   "metadata": {},
   "outputs": [],
   "source": [
    "# Embed\n",
    "vectorstore = Chroma.from_documents(documents=md_header_splits, \n",
    "                                    embedding=embeddings_model)\n",
    "\n",
    "retriever = vectorstore.as_retriever(search_kwargs={\"k\": similarity_top_k})"
   ]
  },
  {
   "cell_type": "code",
   "execution_count": 10,
   "metadata": {},
   "outputs": [],
   "source": [
    "import re\n",
    "\n",
    "def replace_title_in_text(text, title):\n",
    "    # Create a regex pattern to match one or more # followed by the title\n",
    "    pattern = re.compile(rf'#+\\s+{re.escape(title)}')\n",
    "    # Replace all matches with the title\n",
    "    result = pattern.sub(title, text)\n",
    "    return result"
   ]
  },
  {
   "cell_type": "code",
   "execution_count": 11,
   "metadata": {},
   "outputs": [],
   "source": [
    "def format_documents(retrieved_chunks, isRerank):\n",
    "    docs = []\n",
    "    \n",
    "    for chunk in retrieved_chunks:\n",
    "\n",
    "        header_1 = chunk.metadata.get(\"Header 1\", \"\")\n",
    "        header_2 = chunk.metadata.get(\"Header 2\", \"\")\n",
    "        header_3 = chunk.metadata.get(\"Header 3\", \"\")\n",
    "        header_4 = chunk.metadata.get(\"Header 4\", \"\")\n",
    "        header_5 = chunk.metadata.get(\"Header 5\", \"\")\n",
    "\n",
    "        headers = [header_1, header_2, header_3, header_4, header_5]\n",
    "        parents = []\n",
    "\n",
    "        for header in headers:\n",
    "            if header == \"\":\n",
    "                break\n",
    "            parents.append(header)\n",
    "    \n",
    "        # Identify the title as the last non-empty header\n",
    "        title = parents[-1] if parents else \"Untitled\"\n",
    "        text = replace_title_in_text(chunk.page_content, title)\n",
    "        \n",
    "        if not isRerank:\n",
    "            parents = [parents][::-1]\n",
    "        \n",
    "        parents_concat = '\\n'.join(parents[0])\n",
    "\n",
    "        if isRerank:\n",
    "            result = (f\"\"\"## Text of this document:\\n{text}\\n\"\"\"\n",
    "                    f\"## This document is contained under the following titles:\\n{parents_concat}\\n\"\n",
    "        )\n",
    "        else:\n",
    "            result = (\n",
    "                    f\"## Relevant Document Title:\\n{title}\\n\"\n",
    "                    f\"## Document Text:\\n{text}\\n\"\n",
    "                    f\"## This document is contained under the following sections:\\n{parents_concat}\\n\"\n",
    "            ) \n",
    "        \n",
    "        docs.append({\n",
    "            \"title\": title,\n",
    "            \"snippet\": result,\n",
    "        })\n",
    "\n",
    "    return docs\n"
   ]
  },
  {
   "cell_type": "markdown",
   "metadata": {},
   "source": [
    "Quick Test"
   ]
  },
  {
   "cell_type": "code",
   "execution_count": 12,
   "metadata": {},
   "outputs": [
    {
     "name": "stdout",
     "output_type": "stream",
     "text": [
      "[Document(page_content='## Standard Plan  \\n| Service                                      | Details                                                      |\\n| -------------------------------------------- | ------------------------------------------------------------ |\\n| Preventive exam                              | You pay $0 every calendar year                               |\\n| Prescription glasses                         | $15 copay                                                    |\\n| Frames allowance                             | $155<br>20% savings on the amount of allowance               |\\n| Frames frequency                             | Every other calendar year                                    |\\n| Lens type                                    | Single vision, lined bifocal, lined trifocal, standard progressive lenses, impact-resistant lenses for dependent children |\\n| Contacts allowance*<br />Every calendar year | $145 allowance for contact lenses and contact lens fitting and evaluation exam. Copay does not apply. |  \\n*Contact lens exam includes fitting and evaluation.', metadata={'Header 1': 'Vision', 'Header 2': 'Standard Plan'}), Document(page_content='## VSP KidsCare Plan  \\nIncluded with the Standard Plan — provides children up to age 26 with two eye exams, one pair of glasses and replacement lenses once per calendar year.', metadata={'Header 1': 'Vision', 'Header 2': 'VSP KidsCare Plan'}), Document(page_content='# Vision  \\nVision coverage is offered through VSP. You can see any provider, but if you see an out-of-network provider, the plan will reimburse you up to a certain amount.  \\nPlan participants are eligible for a variety of savings through VSP, including discounts on additional pairs of eyeglasses, sunglasses and LASIK surgery.', metadata={'Header 1': 'Vision'}), Document(page_content='## Need to find a VSP vision provider?  \\nContact VSP at [www.vsp.com](http://www.vsp.com) or call 800-877-7195', metadata={'Header 1': 'Vision', 'Header 2': 'Need to find a VSP vision provider?'}), Document(page_content='### Take Advantage of Transcarent Benefits for Other Covered Conditions  \\nIn addition to the required surgical procedures listed on the previous page, BCI medical plan participants can also take advantage of the Transcarent benefits for other covered conditions and services. Using Transcarent’s top-rated facilities for non-emergency surgeries will save money while you receive expert-led medical care. In addition to covering the cost of surgery, travel benefits for you and a companion may be available when you need to travel more than 100 miles for care.', metadata={'Header 1': 'Medical', 'Header 2': 'Transcarent Surgery Care', 'Header 3': 'Take Advantage of Transcarent Benefits for Other Covered Conditions'}), Document(page_content='# Enrolling a Domestic Partner?  \\nIf you are enrolling a domestic partner as a dependent for medical, dental and/or vision coverage, you must submit both of the following:  \\n- A completed and notarized Affidavit of Domestic Partnership, and\\n- Proof of joint financial dependency by providing one of the following with both names on the document:\\n- Mortgage statement\\n- Rental/lease agreement\\n- Credit card statement\\n- Bank statement\\n- Property tax statement from last 12 months  \\nUpload your documentation using the Document Upload feature in the online enrollment system at [myACI.albertsons.com](http://myACI.albertsons.com).  \\nUnder federal tax law, if you elect to have your domestic partner or children of your domestic partner covered under your medical, dental and/or vision plan(s), the additional cost of their coverage, less any after-tax payments by you, will be treated as income for your federal (and in some cases, state) tax purposes. Consult with a tax professional for more information.', metadata={'Header 1': 'Enrolling a Domestic Partner?'}), Document(page_content='# After You Enroll  \\nIf you are enrolling new dependents under your medical, dental or vision coverage, you must submit documentation verifying their eligibility for coverage under Albertsons plans.  \\nDownload a [Dependent Verification Requirements Flyer](#).  \\nCompleted verification documents can be submitted with a cover page that includes your name, associate ID, last four digits of your SSN and daytime telephone number. You can upload using the online enrollment system at [myACI.albertsons.com](http://myACI.albertsons.com). From the **Me** page, click on the **Benefits** tile, then click on the **Pending Actions** tile. Select the name of the family member to whom the documentation applies and follow the onscreen instructions to upload the document.  \\nAll verification documents must be submitted within 31 days of your coverage effective date, or your dependents will be dropped from coverage as of your original coverage effective date.', metadata={'Header 1': 'After You Enroll'}), Document(page_content='## Covered Events  \\n| Accident Insurance | Critical Illness Insurance       | Hospital Indemnity Insurance   |\\n| ------------------ | -------------------------------- | ------------------------------ |\\n| - Fractures        | - Cancer                         | - Hospital admission and stays |\\n| - Dislocations     | - Heart attack                   | - ICU confinement              |\\n| - Burns            | - Stroke                         |                                |\\n| - Eye injuries     | - Kidney failure                 |                                |\\n| - Lacerations      | - Coronary artery bypass surgery |                                |\\n| - Coma             | - Major organ transplant         |                                |', metadata={'Header 1': 'Aflac Voluntary Plans', 'Header 2': 'Covered Events'}), Document(page_content='## Surgery and Specialty Care Benefits  \\nIf you are enrolled in a BCI medical plan, you and your dependents have access to several programs that work together to help you make confident decisions around a new diagnosis, surgery, changes in your medication, chronic conditions or cancer diagnosis.', metadata={'Header 1': 'Medical', 'Header 2': 'Surgery and Specialty Care Benefits'}), Document(page_content='### Same Coverage Applies  \\nCertain healthcare providers offer virtual visits as part of their clinical practice. If you have an appointment with your primary care physician or another member of your care team by phone or video, that visit is covered under the medical plan just like an in-person visit, subject to your standard copay or coinsurance and deductible.', metadata={'Header 1': 'Medical', 'Header 2': 'Telemedicine – Convenient and Affordable Expert Care', 'Header 3': 'Same Coverage Applies'})]\n"
     ]
    }
   ],
   "source": [
    "import pprint\n",
    "\n",
    "retrieved_chunks = retriever.invoke(eval_quick_test)\n",
    "documents = []\n",
    "\n",
    "if isReRank:\n",
    "    documents=format_documents(retrieved_chunks, True)\n",
    "    results = co.rerank(\n",
    "            model=reranker_model,\n",
    "            query=eval_quick_test,\n",
    "            documents=documents, \n",
    "            top_n=int(rerank_top_n), \n",
    "            rank_fields = ['snippet'],\n",
    "            return_documents=True,\n",
    "        )\n",
    "    top_indices = [doc.index for doc in results.results]\n",
    "    reranked_chunks = [retrieved_chunks[i] for i in top_indices if i < len(retrieved_chunks)]\n",
    "    documents=format_documents(reranked_chunks, False)\n",
    "\n",
    "    # Printing the new dictionary\n",
    "    print(reranked_chunks)\n",
    "else:\n",
    "    documents=format_documents(retrieved_chunks, False)\n",
    "\n"
   ]
  },
  {
   "cell_type": "code",
   "execution_count": 13,
   "metadata": {},
   "outputs": [
    {
     "name": "stdout",
     "output_type": "stream",
     "text": [
      "According to the Standard Plan, bifocals are covered. The plan provides a frames allowance of $155 every other calendar year.\n",
      "In addition to the benefits offered by the Standard Plan mentioned above, the VSP KidsCare Plan provides children up to age 26 with two eye exams and one pair of glasses per calendar year. The glasses are eligible for a $15 copayment.\n",
      "If you require further information on the vision plans, contact VSP using the following link: http://www.vsp.com or by telephone: 800-877-7195.\n",
      "[{'snippet': '## Relevant Document Title:\\n'\n",
      "             'Standard Plan\\n'\n",
      "             '## Document Text:\\n'\n",
      "             'Standard Plan  \\n'\n",
      "             '| Service                                      | '\n",
      "             'Details                                                      |\\n'\n",
      "             '| -------------------------------------------- | '\n",
      "             '------------------------------------------------------------ |\\n'\n",
      "             '| Preventive exam                              | You pay $0 '\n",
      "             'every calendar year                               |\\n'\n",
      "             '| Prescription glasses                         | $15 '\n",
      "             'copay                                                    |\\n'\n",
      "             '| Frames allowance                             | $155<br>20% '\n",
      "             'savings on the amount of allowance               |\\n'\n",
      "             '| Frames frequency                             | Every other '\n",
      "             'calendar year                                    |\\n'\n",
      "             '| Lens type                                    | Single vision, '\n",
      "             'lined bifocal, lined trifocal, standard progressive lenses, '\n",
      "             'impact-resistant lenses for dependent children |\\n'\n",
      "             '| Contacts allowance*<br />Every calendar year | $145 allowance '\n",
      "             'for contact lenses and contact lens fitting and evaluation exam. '\n",
      "             'Copay does not apply. |  \\n'\n",
      "             '*Contact lens exam includes fitting and evaluation.\\n'\n",
      "             '## This document is contained under the following sections:\\n'\n",
      "             'Vision\\n'\n",
      "             'Standard Plan\\n',\n",
      "  'title': 'Standard Plan'},\n",
      " {'snippet': '## Relevant Document Title:\\n'\n",
      "             'VSP KidsCare Plan\\n'\n",
      "             '## Document Text:\\n'\n",
      "             'VSP KidsCare Plan  \\n'\n",
      "             'Included with the Standard Plan — provides children up to age 26 '\n",
      "             'with two eye exams, one pair of glasses and replacement lenses '\n",
      "             'once per calendar year.\\n'\n",
      "             '## This document is contained under the following sections:\\n'\n",
      "             'Vision\\n'\n",
      "             'VSP KidsCare Plan\\n',\n",
      "  'title': 'VSP KidsCare Plan'},\n",
      " {'snippet': '## Relevant Document Title:\\n'\n",
      "             'Vision\\n'\n",
      "             '## Document Text:\\n'\n",
      "             'Vision  \\n'\n",
      "             'Vision coverage is offered through VSP. You can see any '\n",
      "             'provider, but if you see an out-of-network provider, the plan '\n",
      "             'will reimburse you up to a certain amount.  \\n'\n",
      "             'Plan participants are eligible for a variety of savings through '\n",
      "             'VSP, including discounts on additional pairs of eyeglasses, '\n",
      "             'sunglasses and LASIK surgery.\\n'\n",
      "             '## This document is contained under the following sections:\\n'\n",
      "             'Vision\\n',\n",
      "  'title': 'Vision'},\n",
      " {'snippet': '## Relevant Document Title:\\n'\n",
      "             'Need to find a VSP vision provider?\\n'\n",
      "             '## Document Text:\\n'\n",
      "             'Need to find a VSP vision provider?  \\n'\n",
      "             'Contact VSP at [www.vsp.com](http://www.vsp.com) or call '\n",
      "             '800-877-7195\\n'\n",
      "             '## This document is contained under the following sections:\\n'\n",
      "             'Vision\\n'\n",
      "             'Need to find a VSP vision provider?\\n',\n",
      "  'title': 'Need to find a VSP vision provider?'},\n",
      " {'snippet': '## Relevant Document Title:\\n'\n",
      "             'Take Advantage of Transcarent Benefits for Other Covered '\n",
      "             'Conditions\\n'\n",
      "             '## Document Text:\\n'\n",
      "             'Take Advantage of Transcarent Benefits for Other Covered '\n",
      "             'Conditions  \\n'\n",
      "             'In addition to the required surgical procedures listed on the '\n",
      "             'previous page, BCI medical plan participants can also take '\n",
      "             'advantage of the Transcarent benefits for other covered '\n",
      "             'conditions and services. Using Transcarent’s top-rated '\n",
      "             'facilities for non-emergency surgeries will save money while you '\n",
      "             'receive expert-led medical care. In addition to covering the '\n",
      "             'cost of surgery, travel benefits for you and a companion may be '\n",
      "             'available when you need to travel more than 100 miles for care.\\n'\n",
      "             '## This document is contained under the following sections:\\n'\n",
      "             'Medical\\n'\n",
      "             'Transcarent Surgery Care\\n'\n",
      "             'Take Advantage of Transcarent Benefits for Other Covered '\n",
      "             'Conditions\\n',\n",
      "  'title': 'Take Advantage of Transcarent Benefits for Other Covered '\n",
      "           'Conditions'},\n",
      " {'snippet': '## Relevant Document Title:\\n'\n",
      "             'Enrolling a Domestic Partner?\\n'\n",
      "             '## Document Text:\\n'\n",
      "             'Enrolling a Domestic Partner?  \\n'\n",
      "             'If you are enrolling a domestic partner as a dependent for '\n",
      "             'medical, dental and/or vision coverage, you must submit both of '\n",
      "             'the following:  \\n'\n",
      "             '- A completed and notarized Affidavit of Domestic Partnership, '\n",
      "             'and\\n'\n",
      "             '- Proof of joint financial dependency by providing one of the '\n",
      "             'following with both names on the document:\\n'\n",
      "             '- Mortgage statement\\n'\n",
      "             '- Rental/lease agreement\\n'\n",
      "             '- Credit card statement\\n'\n",
      "             '- Bank statement\\n'\n",
      "             '- Property tax statement from last 12 months  \\n'\n",
      "             'Upload your documentation using the Document Upload feature in '\n",
      "             'the online enrollment system at '\n",
      "             '[myACI.albertsons.com](http://myACI.albertsons.com).  \\n'\n",
      "             'Under federal tax law, if you elect to have your domestic '\n",
      "             'partner or children of your domestic partner covered under your '\n",
      "             'medical, dental and/or vision plan(s), the additional cost of '\n",
      "             'their coverage, less any after-tax payments by you, will be '\n",
      "             'treated as income for your federal (and in some cases, state) '\n",
      "             'tax purposes. Consult with a tax professional for more '\n",
      "             'information.\\n'\n",
      "             '## This document is contained under the following sections:\\n'\n",
      "             'Enrolling a Domestic Partner?\\n',\n",
      "  'title': 'Enrolling a Domestic Partner?'},\n",
      " {'snippet': '## Relevant Document Title:\\n'\n",
      "             'After You Enroll\\n'\n",
      "             '## Document Text:\\n'\n",
      "             'After You Enroll  \\n'\n",
      "             'If you are enrolling new dependents under your medical, dental '\n",
      "             'or vision coverage, you must submit documentation verifying '\n",
      "             'their eligibility for coverage under Albertsons plans.  \\n'\n",
      "             'Download a [Dependent Verification Requirements Flyer](#).  \\n'\n",
      "             'Completed verification documents can be submitted with a cover '\n",
      "             'page that includes your name, associate ID, last four digits of '\n",
      "             'your SSN and daytime telephone number. You can upload using the '\n",
      "             'online enrollment system at '\n",
      "             '[myACI.albertsons.com](http://myACI.albertsons.com). From the '\n",
      "             '**Me** page, click on the **Benefits** tile, then click on the '\n",
      "             '**Pending Actions** tile. Select the name of the family member '\n",
      "             'to whom the documentation applies and follow the onscreen '\n",
      "             'instructions to upload the document.  \\n'\n",
      "             'All verification documents must be submitted within 31 days of '\n",
      "             'your coverage effective date, or your dependents will be dropped '\n",
      "             'from coverage as of your original coverage effective date.\\n'\n",
      "             '## This document is contained under the following sections:\\n'\n",
      "             'After You Enroll\\n',\n",
      "  'title': 'After You Enroll'},\n",
      " {'snippet': '## Relevant Document Title:\\n'\n",
      "             'Covered Events\\n'\n",
      "             '## Document Text:\\n'\n",
      "             'Covered Events  \\n'\n",
      "             '| Accident Insurance | Critical Illness Insurance       | '\n",
      "             'Hospital Indemnity Insurance   |\\n'\n",
      "             '| ------------------ | -------------------------------- | '\n",
      "             '------------------------------ |\\n'\n",
      "             '| - Fractures        | - Cancer                         | - '\n",
      "             'Hospital admission and stays |\\n'\n",
      "             '| - Dislocations     | - Heart attack                   | - ICU '\n",
      "             'confinement              |\\n'\n",
      "             '| - Burns            | - Stroke                         '\n",
      "             '|                                |\\n'\n",
      "             '| - Eye injuries     | - Kidney failure                 '\n",
      "             '|                                |\\n'\n",
      "             '| - Lacerations      | - Coronary artery bypass surgery '\n",
      "             '|                                |\\n'\n",
      "             '| - Coma             | - Major organ transplant         '\n",
      "             '|                                |\\n'\n",
      "             '## This document is contained under the following sections:\\n'\n",
      "             'Aflac Voluntary Plans\\n'\n",
      "             'Covered Events\\n',\n",
      "  'title': 'Covered Events'},\n",
      " {'snippet': '## Relevant Document Title:\\n'\n",
      "             'Surgery and Specialty Care Benefits\\n'\n",
      "             '## Document Text:\\n'\n",
      "             'Surgery and Specialty Care Benefits  \\n'\n",
      "             'If you are enrolled in a BCI medical plan, you and your '\n",
      "             'dependents have access to several programs that work together to '\n",
      "             'help you make confident decisions around a new diagnosis, '\n",
      "             'surgery, changes in your medication, chronic conditions or '\n",
      "             'cancer diagnosis.\\n'\n",
      "             '## This document is contained under the following sections:\\n'\n",
      "             'Medical\\n'\n",
      "             'Surgery and Specialty Care Benefits\\n',\n",
      "  'title': 'Surgery and Specialty Care Benefits'},\n",
      " {'snippet': '## Relevant Document Title:\\n'\n",
      "             'Same Coverage Applies\\n'\n",
      "             '## Document Text:\\n'\n",
      "             'Same Coverage Applies  \\n'\n",
      "             'Certain healthcare providers offer virtual visits as part of '\n",
      "             'their clinical practice. If you have an appointment with your '\n",
      "             'primary care physician or another member of your care team by '\n",
      "             'phone or video, that visit is covered under the medical plan '\n",
      "             'just like an in-person visit, subject to your standard copay or '\n",
      "             'coinsurance and deductible.\\n'\n",
      "             '## This document is contained under the following sections:\\n'\n",
      "             'Medical\\n'\n",
      "             'Telemedicine – Convenient and Affordable Expert Care\\n'\n",
      "             'Same Coverage Applies\\n',\n",
      "  'title': 'Same Coverage Applies'}]\n"
     ]
    }
   ],
   "source": [
    "resp = co.chat(\n",
    "                message=eval_quick_test,\n",
    "                documents=documents,\n",
    "                preamble=prompt_template,\n",
    "                model=generation_llm_model,\n",
    "                temperature=0.0\n",
    "            )\n",
    "print(resp.text)\n",
    "pprint.pprint(documents)"
   ]
  },
  {
   "cell_type": "code",
   "execution_count": 14,
   "metadata": {},
   "outputs": [],
   "source": [
    "# Run the RAG pipeline, including retrieval and generation\n",
    "\n",
    "def run_rag_pipeline(row):\n",
    "    \n",
    "    # Retrieve the top n chunks \n",
    "    retrieved_chunks = retriever.invoke(row[\"query\"])\n",
    "    documents = []\n",
    "    \n",
    "    if isReRank:\n",
    "        documents = format_documents(retrieved_chunks, True)\n",
    "        results = co.rerank(\n",
    "            model=reranker_model,\n",
    "            query=row[\"query\"],\n",
    "            documents=documents, \n",
    "            top_n=int(rerank_top_n), \n",
    "            rank_fields = ['snippet'],\n",
    "            return_documents=False,\n",
    "        )\n",
    "        top_indices = [doc.index for doc in results.results]\n",
    "        reranked_chunks = [retrieved_chunks[i] for i in top_indices if i < len(retrieved_chunks)]\n",
    "        documents=format_documents(reranked_chunks, False)\n",
    "    else:\n",
    "        documents =format_documents(retrieved_chunks, False)\n",
    "    \n",
    "    # Generate the response (retry as necessary)\n",
    "    successful = False\n",
    "    while not successful:\n",
    "        try:\n",
    "            resp = co.chat(\n",
    "                message=row[\"query\"],\n",
    "                documents=documents,\n",
    "                preamble=prompt_template,\n",
    "                model=generation_llm_model,\n",
    "                temperature=0.0\n",
    "            )\n",
    "            completion = resp.text\n",
    "            if isinstance(completion, str):\n",
    "                successful = True \n",
    "        except:\n",
    "            continue\n",
    "\n",
    "    return {\n",
    "        \"query_num\": row[\"query_num\"],\n",
    "        \"sources\": documents,\n",
    "        \"response\": resp,\n",
    "        \"generated_answer\": completion,\n",
    "    }\n",
    "\n"
   ]
  },
  {
   "cell_type": "code",
   "execution_count": 15,
   "metadata": {},
   "outputs": [],
   "source": [
    "# Load the evaluation questions\n",
    "queries = pd.read_excel(eval_questions)\n",
    "if isReRank:        \n",
    "    queries[\"rerank_top_n\"] = rerank_top_n"
   ]
  },
  {
   "cell_type": "code",
   "execution_count": 16,
   "metadata": {},
   "outputs": [
    {
     "name": "stderr",
     "output_type": "stream",
     "text": [
      "100%|██████████| 25/25 [00:17<00:00,  1.41it/s]\n"
     ]
    }
   ],
   "source": [
    "results = threadpool_map(run_rag_pipeline, [{\"row\": item[1]} for item in list(queries.iterrows())])"
   ]
  },
  {
   "cell_type": "code",
   "execution_count": 17,
   "metadata": {},
   "outputs": [
    {
     "ename": "AttributeError",
     "evalue": "'ApiError' object has no attribute 'keys'",
     "output_type": "error",
     "traceback": [
      "\u001b[1;31m---------------------------------------------------------------------------\u001b[0m",
      "\u001b[1;31mAttributeError\u001b[0m                            Traceback (most recent call last)",
      "Cell \u001b[1;32mIn[17], line 1\u001b[0m\n\u001b[1;32m----> 1\u001b[0m df \u001b[38;5;241m=\u001b[39m queries\u001b[38;5;241m.\u001b[39mmerge(pd\u001b[38;5;241m.\u001b[39mDataFrame(results), on\u001b[38;5;241m=\u001b[39m\u001b[38;5;124m\"\u001b[39m\u001b[38;5;124mquery_num\u001b[39m\u001b[38;5;124m\"\u001b[39m, how\u001b[38;5;241m=\u001b[39m\u001b[38;5;124m\"\u001b[39m\u001b[38;5;124minner\u001b[39m\u001b[38;5;124m\"\u001b[39m)\n\u001b[0;32m      2\u001b[0m \u001b[38;5;28;01massert\u001b[39;00m \u001b[38;5;28mlen\u001b[39m(df) \u001b[38;5;241m==\u001b[39m \u001b[38;5;28mlen\u001b[39m(queries)\n",
      "File \u001b[1;32mc:\\Users\\sthan\\anaconda3\\Lib\\site-packages\\pandas\\core\\frame.py:806\u001b[0m, in \u001b[0;36mDataFrame.__init__\u001b[1;34m(self, data, index, columns, dtype, copy)\u001b[0m\n\u001b[0;32m    804\u001b[0m     \u001b[38;5;28;01mif\u001b[39;00m columns \u001b[38;5;129;01mis\u001b[39;00m \u001b[38;5;129;01mnot\u001b[39;00m \u001b[38;5;28;01mNone\u001b[39;00m:\n\u001b[0;32m    805\u001b[0m         columns \u001b[38;5;241m=\u001b[39m ensure_index(columns)\n\u001b[1;32m--> 806\u001b[0m     arrays, columns, index \u001b[38;5;241m=\u001b[39m nested_data_to_arrays(\n\u001b[0;32m    807\u001b[0m         \u001b[38;5;66;03m# error: Argument 3 to \"nested_data_to_arrays\" has incompatible\u001b[39;00m\n\u001b[0;32m    808\u001b[0m         \u001b[38;5;66;03m# type \"Optional[Collection[Any]]\"; expected \"Optional[Index]\"\u001b[39;00m\n\u001b[0;32m    809\u001b[0m         data,\n\u001b[0;32m    810\u001b[0m         columns,\n\u001b[0;32m    811\u001b[0m         index,  \u001b[38;5;66;03m# type: ignore[arg-type]\u001b[39;00m\n\u001b[0;32m    812\u001b[0m         dtype,\n\u001b[0;32m    813\u001b[0m     )\n\u001b[0;32m    814\u001b[0m     mgr \u001b[38;5;241m=\u001b[39m arrays_to_mgr(\n\u001b[0;32m    815\u001b[0m         arrays,\n\u001b[0;32m    816\u001b[0m         columns,\n\u001b[1;32m   (...)\u001b[0m\n\u001b[0;32m    819\u001b[0m         typ\u001b[38;5;241m=\u001b[39mmanager,\n\u001b[0;32m    820\u001b[0m     )\n\u001b[0;32m    821\u001b[0m \u001b[38;5;28;01melse\u001b[39;00m:\n",
      "File \u001b[1;32mc:\\Users\\sthan\\anaconda3\\Lib\\site-packages\\pandas\\core\\internals\\construction.py:520\u001b[0m, in \u001b[0;36mnested_data_to_arrays\u001b[1;34m(data, columns, index, dtype)\u001b[0m\n\u001b[0;32m    517\u001b[0m \u001b[38;5;28;01mif\u001b[39;00m is_named_tuple(data[\u001b[38;5;241m0\u001b[39m]) \u001b[38;5;129;01mand\u001b[39;00m columns \u001b[38;5;129;01mis\u001b[39;00m \u001b[38;5;28;01mNone\u001b[39;00m:\n\u001b[0;32m    518\u001b[0m     columns \u001b[38;5;241m=\u001b[39m ensure_index(data[\u001b[38;5;241m0\u001b[39m]\u001b[38;5;241m.\u001b[39m_fields)\n\u001b[1;32m--> 520\u001b[0m arrays, columns \u001b[38;5;241m=\u001b[39m to_arrays(data, columns, dtype\u001b[38;5;241m=\u001b[39mdtype)\n\u001b[0;32m    521\u001b[0m columns \u001b[38;5;241m=\u001b[39m ensure_index(columns)\n\u001b[0;32m    523\u001b[0m \u001b[38;5;28;01mif\u001b[39;00m index \u001b[38;5;129;01mis\u001b[39;00m \u001b[38;5;28;01mNone\u001b[39;00m:\n",
      "File \u001b[1;32mc:\\Users\\sthan\\anaconda3\\Lib\\site-packages\\pandas\\core\\internals\\construction.py:837\u001b[0m, in \u001b[0;36mto_arrays\u001b[1;34m(data, columns, dtype)\u001b[0m\n\u001b[0;32m    835\u001b[0m     arr \u001b[38;5;241m=\u001b[39m _list_to_arrays(data)\n\u001b[0;32m    836\u001b[0m \u001b[38;5;28;01melif\u001b[39;00m \u001b[38;5;28misinstance\u001b[39m(data[\u001b[38;5;241m0\u001b[39m], abc\u001b[38;5;241m.\u001b[39mMapping):\n\u001b[1;32m--> 837\u001b[0m     arr, columns \u001b[38;5;241m=\u001b[39m _list_of_dict_to_arrays(data, columns)\n\u001b[0;32m    838\u001b[0m \u001b[38;5;28;01melif\u001b[39;00m \u001b[38;5;28misinstance\u001b[39m(data[\u001b[38;5;241m0\u001b[39m], ABCSeries):\n\u001b[0;32m    839\u001b[0m     arr, columns \u001b[38;5;241m=\u001b[39m _list_of_series_to_arrays(data, columns)\n",
      "File \u001b[1;32mc:\\Users\\sthan\\anaconda3\\Lib\\site-packages\\pandas\\core\\internals\\construction.py:917\u001b[0m, in \u001b[0;36m_list_of_dict_to_arrays\u001b[1;34m(data, columns)\u001b[0m\n\u001b[0;32m    915\u001b[0m     gen \u001b[38;5;241m=\u001b[39m (\u001b[38;5;28mlist\u001b[39m(x\u001b[38;5;241m.\u001b[39mkeys()) \u001b[38;5;28;01mfor\u001b[39;00m x \u001b[38;5;129;01min\u001b[39;00m data)\n\u001b[0;32m    916\u001b[0m     sort \u001b[38;5;241m=\u001b[39m \u001b[38;5;129;01mnot\u001b[39;00m \u001b[38;5;28many\u001b[39m(\u001b[38;5;28misinstance\u001b[39m(d, \u001b[38;5;28mdict\u001b[39m) \u001b[38;5;28;01mfor\u001b[39;00m d \u001b[38;5;129;01min\u001b[39;00m data)\n\u001b[1;32m--> 917\u001b[0m     pre_cols \u001b[38;5;241m=\u001b[39m lib\u001b[38;5;241m.\u001b[39mfast_unique_multiple_list_gen(gen, sort\u001b[38;5;241m=\u001b[39msort)\n\u001b[0;32m    918\u001b[0m     columns \u001b[38;5;241m=\u001b[39m ensure_index(pre_cols)\n\u001b[0;32m    920\u001b[0m \u001b[38;5;66;03m# assure that they are of the base dict class and not of derived\u001b[39;00m\n\u001b[0;32m    921\u001b[0m \u001b[38;5;66;03m# classes\u001b[39;00m\n",
      "File \u001b[1;32mlib.pyx:393\u001b[0m, in \u001b[0;36mpandas._libs.lib.fast_unique_multiple_list_gen\u001b[1;34m()\u001b[0m\n",
      "File \u001b[1;32mc:\\Users\\sthan\\anaconda3\\Lib\\site-packages\\pandas\\core\\internals\\construction.py:915\u001b[0m, in \u001b[0;36m<genexpr>\u001b[1;34m(.0)\u001b[0m\n\u001b[0;32m    895\u001b[0m \u001b[38;5;250m\u001b[39m\u001b[38;5;124;03m\"\"\"\u001b[39;00m\n\u001b[0;32m    896\u001b[0m \u001b[38;5;124;03mConvert list of dicts to numpy arrays\u001b[39;00m\n\u001b[0;32m    897\u001b[0m \n\u001b[1;32m   (...)\u001b[0m\n\u001b[0;32m    912\u001b[0m \u001b[38;5;124;03mcolumns : Index\u001b[39;00m\n\u001b[0;32m    913\u001b[0m \u001b[38;5;124;03m\"\"\"\u001b[39;00m\n\u001b[0;32m    914\u001b[0m \u001b[38;5;28;01mif\u001b[39;00m columns \u001b[38;5;129;01mis\u001b[39;00m \u001b[38;5;28;01mNone\u001b[39;00m:\n\u001b[1;32m--> 915\u001b[0m     gen \u001b[38;5;241m=\u001b[39m (\u001b[38;5;28mlist\u001b[39m(x\u001b[38;5;241m.\u001b[39mkeys()) \u001b[38;5;28;01mfor\u001b[39;00m x \u001b[38;5;129;01min\u001b[39;00m data)\n\u001b[0;32m    916\u001b[0m     sort \u001b[38;5;241m=\u001b[39m \u001b[38;5;129;01mnot\u001b[39;00m \u001b[38;5;28many\u001b[39m(\u001b[38;5;28misinstance\u001b[39m(d, \u001b[38;5;28mdict\u001b[39m) \u001b[38;5;28;01mfor\u001b[39;00m d \u001b[38;5;129;01min\u001b[39;00m data)\n\u001b[0;32m    917\u001b[0m     pre_cols \u001b[38;5;241m=\u001b[39m lib\u001b[38;5;241m.\u001b[39mfast_unique_multiple_list_gen(gen, sort\u001b[38;5;241m=\u001b[39msort)\n",
      "\u001b[1;31mAttributeError\u001b[0m: 'ApiError' object has no attribute 'keys'"
     ]
    }
   ],
   "source": [
    "df = queries.merge(pd.DataFrame(results), on=\"query_num\", how=\"inner\")\n",
    "assert len(df) == len(queries)  # Ensure that all queries have been processed"
   ]
  },
  {
   "cell_type": "markdown",
   "metadata": {},
   "source": [
    "Choose the LLM for evaluations"
   ]
  },
  {
   "cell_type": "code",
   "execution_count": null,
   "metadata": {},
   "outputs": [],
   "source": [
    "evaluation_llm_family = os.environ[\"EVALUATION_LLM_FAMILY\"]\n",
    "evaluation_llm_model = os.environ[\"EVALUATION_LLM_MODEL\"]\n",
    "\n",
    "if evaluation_llm_family == \"OPENAI\":\n",
    "    Settings.eval_llm = OpenAI(temperature=0, model=evaluation_llm_model)"
   ]
  },
  {
   "cell_type": "code",
   "execution_count": null,
   "metadata": {},
   "outputs": [],
   "source": [
    "eval_lidx_c = CorrectnessEvaluator(llm=Settings.eval_llm)\n",
    "\n",
    "runner = BatchEvalRunner(\n",
    "    {\"correctness\": eval_lidx_c},\n",
    "    workers=16,\n",
    ")\n",
    "\n",
    "LI_eval_results = await runner.aevaluate_responses(\n",
    "    queries=df[\"query\"].tolist(),\n",
    "    responses=[Response(response=x) for x in df[\"generated_answer\"].tolist()],\n",
    "    reference=[{\"reference\": x} for x in df[\"expected_answer\"].tolist()],\n",
    ")"
   ]
  },
  {
   "cell_type": "code",
   "execution_count": null,
   "metadata": {},
   "outputs": [],
   "source": [
    "df[\"correctness_result\"] = LI_eval_results[\"correctness\"]\n",
    "df[\"correctness_llm\"] = df[\"correctness_result\"].map(lambda x: x.score)\n",
    "df[\"feedback_llm\"] = df[\"correctness_result\"].map(lambda x: x.feedback)\n",
    "print(f\"\"\"Average score: {df[\"correctness_llm\"].mean()}\"\"\")"
   ]
  },
  {
   "cell_type": "code",
   "execution_count": null,
   "metadata": {},
   "outputs": [],
   "source": [
    "responses_df = pd.DataFrame()\n",
    "responses_df = df[['query_num', 'query', 'expected_answer', 'generated_answer', 'correctness_llm']]\n",
    "responses_df['correctness_human'] = responses_df['correctness_llm']\n",
    "responses_df.loc[:, ['faithfulness_llm', 'faithfulness_human']] = \"\"\n",
    "responses_df['rag_strategy'] = rag_strategy\n",
    "responses_df['rag_strategy_desc'] = rag_strategy_desc\n",
    "responses_df['parameter_1'] = similarity_top_k\n",
    "responses_df.loc[:, ['parameter_2', 'parameter_3', 'parameter_4', 'parameter_5']] = \"\"\n",
    "responses_df['model'] = generation_llm_model \n",
    "responses_df['embed_model'] = embedding_llm_model \n",
    "responses_df['eval_model'] = evaluation_llm_model\n",
    "responses_df['embed_dimensions'] = embedding_dimensions   \n",
    "if rag_strategy ==\"S006_00\":\n",
    "   responses_df['reranker'] = \"\"\n",
    "elif rag_strategy == \"S006_01\":\n",
    "    responses_df['reranker'] = reranker_model\n",
    "responses_df['run_date'] = datetime.today().strftime('%Y-%m-%d') \n",
    "responses_df['eval_name'] = eval_name"
   ]
  },
  {
   "cell_type": "code",
   "execution_count": null,
   "metadata": {},
   "outputs": [],
   "source": [
    "columns_to_set_none = [\n",
    "    'total_tokens',\n",
    "    'prompt_tokens',\n",
    "    'completion_tokens',\n",
    "    'total_cost',\n",
    "    'prompt_cost',\n",
    "    'completion_cost',\n",
    "    'latency',\n",
    "    'first_token_ms'\n",
    "]\n",
    "\n",
    "# Set the specified columns to None\n",
    "responses_df.loc[:, columns_to_set_none] = None"
   ]
  },
  {
   "cell_type": "code",
   "execution_count": null,
   "metadata": {},
   "outputs": [],
   "source": [
    "correctness_sum = df['correctness_llm'].sum()\n",
    "correctness_mean = df['correctness_llm'].mean()\n",
    "\n",
    "# Create a new DataFrame for the summary\n",
    "summary_df = pd.DataFrame({\n",
    "    'Metric': ['Sum', 'Mean'],\n",
    "    'Value': [correctness_sum, correctness_mean]\n",
    "})"
   ]
  },
  {
   "cell_type": "code",
   "execution_count": null,
   "metadata": {},
   "outputs": [],
   "source": [
    "correctness_df = pd.DataFrame()\n",
    "correctness_df = df[['query_num', 'query', 'expected_answer', 'generated_answer', 'correctness_llm', 'feedback_llm']]\n",
    "correctness_df['correctness_human'] = correctness_df['correctness_llm']\n",
    "correctness_df['feedback_human'] = \"\""
   ]
  },
  {
   "cell_type": "code",
   "execution_count": null,
   "metadata": {},
   "outputs": [],
   "source": [
    "sources_df = df[['query_num', 'query', 'sources']]"
   ]
  },
  {
   "cell_type": "code",
   "execution_count": null,
   "metadata": {},
   "outputs": [],
   "source": [
    "with pd.ExcelWriter(output_file) as writer:\n",
    "   responses_df.to_excel(writer, sheet_name=\"Responses\", index=False)\n",
    "   sources_df.to_excel(writer, sheet_name=\"Sources\", index=False)\n",
    "   summary_df.to_excel(writer, sheet_name=\"Summary\", index=False)\n",
    "   correctness_df.to_excel(writer, sheet_name=\"Correctness\", index=False)"
   ]
  }
 ],
 "metadata": {
  "kernelspec": {
   "display_name": "base",
   "language": "python",
   "name": "python3"
  },
  "language_info": {
   "codemirror_mode": {
    "name": "ipython",
    "version": 3
   },
   "file_extension": ".py",
   "mimetype": "text/x-python",
   "name": "python",
   "nbconvert_exporter": "python",
   "pygments_lexer": "ipython3",
   "version": "3.11.7"
  }
 },
 "nbformat": 4,
 "nbformat_minor": 2
}
