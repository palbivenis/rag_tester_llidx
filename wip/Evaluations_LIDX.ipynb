{
 "cells": [
  {
   "cell_type": "markdown",
   "metadata": {},
   "source": [
    "### Evaluations - LlamaIndex ###\n",
    "- Template to set up evaluations using LlamaIndex native evaluators\n",
    "- "
   ]
  },
  {
   "cell_type": "code",
   "execution_count": 26,
   "metadata": {},
   "outputs": [],
   "source": [
    "# Fetch API keys from config.py\n",
    "import os\n",
    "from config import set_environment \n",
    "set_environment()\n",
    "\n",
    "import logging\n",
    "import sys\n",
    "#logging.basicConfig(stream=sys.stdout, level=logging.INFO)\n",
    "#logging.getLogger().addHandler(logging.StreamHandler(stream=sys.stdout))\n",
    "\n",
    "# Only for notebook\n",
    "import nest_asyncio\n",
    "nest_asyncio.apply()"
   ]
  },
  {
   "cell_type": "code",
   "execution_count": 27,
   "metadata": {},
   "outputs": [],
   "source": [
    "from llama_index.core import Settings\n",
    "\n",
    "from llama_index.core import SimpleDirectoryReader\n",
    "from llama_index.core.node_parser import SentenceSplitter\n",
    "from llama_index.core import VectorStoreIndex\n",
    "from llama_index.core.retrievers import VectorIndexRetriever\n",
    "from llama_index.core.query_engine import RetrieverQueryEngine\n",
    "from llama_index.core.postprocessor import SimilarityPostprocessor, KeywordNodePostprocessor\n",
    "from llama_index.core import get_response_synthesizer\n",
    "\n",
    "import pandas as pd"
   ]
  },
  {
   "cell_type": "markdown",
   "metadata": {},
   "source": [
    "Set the parameters for the run here"
   ]
  },
  {
   "cell_type": "code",
   "execution_count": 28,
   "metadata": {},
   "outputs": [],
   "source": [
    "# Node Parser\n",
    "chunk_size = 1024\n",
    "chunk_overlap = 50\n",
    "\n",
    "# Retriever Settings\n",
    "similarity_top_k = 3\n",
    "\n",
    "# Context Post Processor Settings\n",
    "required_key_words = [\"\"]\n",
    "excluded_key_words = [\"\"]\n",
    "similarity_cutoff = 0.2\n",
    "\n",
    "# Response Synthesis - Minimal \n",
    "# This seems to work best for our data sets so far\n",
    "response_mode_list = [\"minimal\"] \n",
    "\n",
    "# Response Synthesis - Full (Various additional processing of the LLM response )\n",
    "# Doesn't seem to improve the answers for our data sets\n",
    "#response_mode_list = [\"minimal\", \"refine\", \"compact\", \"tree_summarize\", \"simple_summarize\", \"accumulate\", \"compact_accumulate\"]\n",
    "\n"
   ]
  },
  {
   "cell_type": "markdown",
   "metadata": {},
   "source": [
    "Pick the LLM for generation"
   ]
  },
  {
   "cell_type": "code",
   "execution_count": 29,
   "metadata": {},
   "outputs": [],
   "source": [
    "from llama_index.llms.openai import OpenAI\n",
    "from llama_index.embeddings.openai import OpenAIEmbedding\n",
    "\n",
    "Settings.embed_model = OpenAIEmbedding(model=\"text-embedding-3-large\",dimensions=512,)\n",
    "Settings.llm = OpenAI(temperature=0, model=\"gpt-4\")"
   ]
  },
  {
   "cell_type": "code",
   "execution_count": null,
   "metadata": {},
   "outputs": [],
   "source": [
    "from llama_index.llms.cohere import Cohere\n",
    "from llama_index.core import ServiceContext\n",
    "from llama_index.embeddings.cohere import CohereEmbedding\n",
    "\n",
    "Settings.llm = Cohere(api_key=os.environ[\"COHERE_API_KEY\"], model=\"command-r\")\n",
    "Settings.embed_model = CohereEmbedding(\n",
    "    cohere_api_key=os.environ[\"COHERE_API_KEY\"],\n",
    "    model_name=\"embed-english-v3.0\",\n",
    "    input_type=\"search_query\",\n",
    ")"
   ]
  },
  {
   "cell_type": "markdown",
   "metadata": {},
   "source": [
    "Pick the LLM for evaluation"
   ]
  },
  {
   "cell_type": "code",
   "execution_count": 30,
   "metadata": {},
   "outputs": [],
   "source": [
    "Settings.eval_llm = OpenAI(temperature=0, model=\"gpt-4-0125-preview\")\n",
    "Settings.eval_model = \"gpt-4-0125-preview\""
   ]
  },
  {
   "cell_type": "markdown",
   "metadata": {},
   "source": [
    "Read the documents, create chunks, calculate embeddings, store in a vector database"
   ]
  },
  {
   "cell_type": "code",
   "execution_count": 31,
   "metadata": {},
   "outputs": [
    {
     "data": {
      "application/vnd.jupyter.widget-view+json": {
       "model_id": "e2d55127dc10408781ac738a9492d458",
       "version_major": 2,
       "version_minor": 0
      },
      "text/plain": [
       "Generating embeddings:   0%|          | 0/186 [00:00<?, ?it/s]"
      ]
     },
     "metadata": {},
     "output_type": "display_data"
    }
   ],
   "source": [
    "reader = SimpleDirectoryReader(\"data\")\n",
    "documents = reader.load_data()\n",
    "\n",
    "node_parser = SentenceSplitter(chunk_size=chunk_size, chunk_overlap = chunk_overlap)\n",
    "nodes = node_parser.get_nodes_from_documents(documents)\n",
    "# set node ids to be a constant\n",
    "for idx, node in enumerate(nodes):\n",
    "    node.id_ = f\"node-{idx}\"\n",
    "\n",
    "index = VectorStoreIndex(nodes, embed_model=Settings.embed_model, show_progress=True)"
   ]
  },
  {
   "cell_type": "markdown",
   "metadata": {},
   "source": [
    "Set up retrieval and response generation"
   ]
  },
  {
   "cell_type": "code",
   "execution_count": 32,
   "metadata": {},
   "outputs": [],
   "source": [
    "retriever = VectorIndexRetriever(\n",
    "    index=index,\n",
    "    similarity_top_k=similarity_top_k\n",
    ")\n",
    "\n",
    "node_postprocessors = [\n",
    "    #KeywordNodePostprocessor(\n",
    "    #   required_keywords=required_key_words, exclude_keywords=excluded_key_words\n",
    "    #),\n",
    "    SimilarityPostprocessor(similarity_cutoff=similarity_cutoff) \n",
    "]\n",
    "\n",
    "# This is the most basic type of response generation. Send the retrieved chunks to the LLM and display the receieved response\n",
    "\n",
    "query_engine_minimal = RetrieverQueryEngine(\n",
    "    retriever=retriever,\n",
    "    node_postprocessors=node_postprocessors\n",
    ")"
   ]
  },
  {
   "cell_type": "markdown",
   "metadata": {},
   "source": [
    "- Set up the query engine(s)"
   ]
  },
  {
   "cell_type": "code",
   "execution_count": 33,
   "metadata": {},
   "outputs": [],
   "source": [
    "def generate_answer(value, response_mode):\n",
    "    return query_engine_minimal.query(value)\n",
    "    "
   ]
  },
  {
   "cell_type": "markdown",
   "metadata": {},
   "source": [
    "- Read a set of questions from an excel file\n",
    "- Generate responses (answers)"
   ]
  },
  {
   "cell_type": "code",
   "execution_count": null,
   "metadata": {},
   "outputs": [],
   "source": [
    "questions_path = 'questions/ORCL_UTD_SPD_Questions.xlsx' \n",
    "df = pd.read_excel(questions_path, sheet_name='final')"
   ]
  },
  {
   "cell_type": "markdown",
   "metadata": {},
   "source": [
    "### Use Llamaindex inbuilt evaluators ####"
   ]
  },
  {
   "cell_type": "code",
   "execution_count": 34,
   "metadata": {},
   "outputs": [],
   "source": [
    "from llama_index.core.evaluation import (\n",
    "    CorrectnessEvaluator,\n",
    "    SemanticSimilarityEvaluator,\n",
    "    RelevancyEvaluator,\n",
    "    FaithfulnessEvaluator,\n",
    "    AnswerRelevancyEvaluator,\n",
    "    ContextRelevancyEvaluator,\n",
    "    EvaluationResult,\n",
    ")"
   ]
  },
  {
   "cell_type": "code",
   "execution_count": 35,
   "metadata": {},
   "outputs": [],
   "source": [
    "user_input = \"is aromatherapy covered\"\n",
    "response_object = query_engine_minimal.query(user_input)\n",
    "reference = \"No, aromatherapy is not covered under the Oracle America, Inc. Flexible Benefit Plan. It is listed under the category of alternative treatments that are not covered.\""
   ]
  },
  {
   "cell_type": "code",
   "execution_count": 36,
   "metadata": {},
   "outputs": [],
   "source": [
    "def print_evaluation_result(evaluation_result:EvaluationResult):\n",
    "    print(\"query -> \" + str(evaluation_result.query))\n",
    "    print(\"contexts -> \" + str(evaluation_result.contexts))\n",
    "    print(\"response -> \" + str(evaluation_result.response))\n",
    "    print(\"passing -> \" + str(evaluation_result.passing))\n",
    "    print(\"feedback -> \" + str(evaluation_result.feedback))\n",
    "    print(\"score -> \" + str(evaluation_result.score))\n",
    "    print(\"pairwise_source -> \" + str(evaluation_result.pairwise_source))\n",
    "    print(\"invalid_result -> \" + str(evaluation_result.invalid_result))\n",
    "    print(\"invalid_reason -> \" + str(evaluation_result.invalid_reason))"
   ]
  },
  {
   "cell_type": "markdown",
   "metadata": {},
   "source": [
    "#### Correctness Evaluator ####\n",
    "- Evaluate the relevance and correctness of a generated answer against a reference answer."
   ]
  },
  {
   "cell_type": "code",
   "execution_count": 37,
   "metadata": {},
   "outputs": [
    {
     "name": "stdout",
     "output_type": "stream",
     "text": [
      "query -> is aromatherapy covered\n",
      "contexts -> None\n",
      "response -> No, aromatherapy is not covered.\n",
      "passing -> True\n",
      "feedback -> The generated answer directly addresses the user query with a clear and correct response, matching the essential information provided in the reference answer.\n",
      "score -> 5.0\n",
      "pairwise_source -> None\n",
      "invalid_result -> False\n",
      "invalid_reason -> None\n"
     ]
    }
   ],
   "source": [
    "evaluator = CorrectnessEvaluator(llm=Settings.eval_llm)\n",
    "evaluation_result = evaluator.evaluate_response(\n",
    "    query=user_input, response=response_object, reference = reference\n",
    ")\n",
    "\n",
    "print_evaluation_result(evaluation_result=evaluation_result)"
   ]
  },
  {
   "cell_type": "markdown",
   "metadata": {},
   "source": [
    "#### Faithfulness Evaluator ####\n",
    "- Measure if the response from a query engine matches any source nodes."
   ]
  },
  {
   "cell_type": "code",
   "execution_count": 38,
   "metadata": {},
   "outputs": [
    {
     "name": "stdout",
     "output_type": "stream",
     "text": [
      "query -> None\n",
      "contexts -> ['2024 ACME  America, Inc. Flexible Benefit Plan Document and SPD                                                                                                                                                                    81  \\n      \\nALTERNATIVE TREATMENTS  \\n• Acupuncture treatment or therapy designed to provide the Covered Person continued well -being, or \\nmaintain the optimum state of health, while minimizing recurrence of the clinical status.  Acupuncture \\ntreatment to address chronic pain, disease, or injury is  a Covered Health Services. For more information, \\nrefer to Acupuncture in Covered Health Services.  \\n• Acupressure  \\n• Aromatherapy  \\n• Christian Science Provider  \\n• Controlled Substances (Non -FDA Approved)  \\n• Holistic or Homeopathic Care  \\n• Hypnotism  \\n• Marijuana used for recreational use  \\n• Marijuana used for medical use - even if allowed by state law and used to treat a diagnosed medical \\ncondition  \\n• Massage Therapy  \\n• Rolfing  \\n• Services Received By a Naturopath  \\n• Wilderness, adventure, camping, outdoor and other similar programs  \\n• Other Forms of Alternative Treatment As Defined By the Office of Alternative Medicine of The National \\nInstitutes of Health  \\n  \\nAUTISM SPECTRUM DISORDER  \\nAny treatments or other specialized services designed for Autism Spectrum Disorder that are not backed by credible \\nresearch demonstrating that the services or supplies have a measurable and beneficial health outcome and \\ntherefore considered Experimental, I nvestigational or Unproven Services and are not Covered Health Services.  \\n  \\nExclusions – Autism Spectrum Disorder  \\n• Nutritional Supplements  \\n• Services and Programs provided in a school setting   \\n• Tuition for Services and Programs provided in a school setting  \\n• Services Performed By a Non -Authorized or Non -Qualified Provider  \\n• Supplies or Equipment Associated with Treatments  \\n• Therapies and Modalities o  Cleansing Therapy o  Dolphin Therapy o  ECT Therapy o  Floortime \\nApproach/Therapy o  Music Therapy  \\n o  Relationship Development Intervention (RDI)  \\n  \\nCOMFORT AND CONVENIENCE  \\n• Beauty and barber services  \\n• Devices and computers to assist in communications and speech, except for speech aid devices and \\ntracheoesophageal voice devices  \\n• Telephone or Television  \\n• Remodel home to accommodate a medical need. Exclusions include, but are not limited to: o Ramps', '2024 ACME  America, Inc. Flexible Benefit Plan Document and SPD                                                                                                                                                                    84  \\n    \\nEXPERIMENTAL, INVESTIGATIONAL OR UNPROVEN SERVICES  \\nExperimental, Investigational or Unproven Services are excluded – even when the Experimental, Investigational or \\nUnproven Services is the only available treatment for a particular condition.  \\n  \\nFOOT CARE  \\n• Routine foot care services that are not covered include cutting or removal of corns and calluses; nail \\ntrimming or cutting; and debriding (removal of dead skin or underlying tissue).  \\n• Hygienic and preventative maintenance including cleaning and soaking feet, applying skin creams in order \\nto maintain skin tone and any other service not performed to treat a localized illness, injury, or symptom \\ninvolving the foot.  \\n• Treatment of subluxation (joint or bone dislocation) of the foot shoe or shoe orthotics not prescribed by \\nPhysician.  \\n  \\nGENDER DYSPHORIA  \\nThe following treatments relating to gender dysphoria are excluded:  \\n  \\n• Cosmetic procedures, including the following:  \\n• Abdominoplasty  \\n• Lipofilling  \\n• Liposuction  \\n• Excision of excessive skin and subcutaneous tissue  \\n• Implants (calf, gluteal, hip, pectoral)  \\n• Monsplasty or Mons reduction (except as may be necessary as a part of genital reconstructive surgery) \\n  Skin resurfacing (dermabrasion, chemical peel)  \\n• Mastopexy  \\n• Body contouring, such as lipoplasty  \\n• Penile Transplant  \\n• Uterine Transplant  \\n• Reversions of prior gender affirming surgeries in the absence of medical complications.    \\n  \\nNote: Covered Health Services provided to treat gender dysphoria may be performed outside of the United States, \\nbut will be paid as out -of-network benefits.  \\n  \\nHABILITATIVE  \\nHabilitative services for maintenance/preventive treatment.  \\n  \\nMARIJUANA  \\nRefer to – “Alternative Treatments - Controlled Substance”    \\nRecreational and medical uses of marijuana are not Covered Health Services. This Exclusion applies even if \\npermissible by state law and it is used to treat a diagnosed medical condition.  \\n  \\nMEDICAL SUPPLIES AND APPLIANCES  \\n• Devices used specifically as safety items or to affect performance in sports -related activities – including a \\nnasal cannula, connector, and mask.  \\n• Medical Supplies (prescribed or not prescribed by a Physician). Excluded supplies include:  \\no Ace Bandages', '2024 ACME  America, Inc. Flexible Benefit Plan Document and SPD                                                                                                                                                                    39  \\n      \\n• Nausea resulting from Chemotherapy, Post Operation, or Pregnancy  \\n  \\nMaintenance Acupuncture is not a Covered Health Service. See Exclusions.  \\n  \\nALLERGY TESTING  \\nCharges associated with allergy diagnosis  \\n  \\nALLERGY TREATMENT  \\nCharges associated with treating allergy conditions  \\n  \\nAMBULANCE SERVICE – AIR AND GROUND (EMERGENCY)  \\nEmergency ground or air ambulance transportation of Covered Person, to the nearest Hospital where Emergency \\nHealth Services can be performed (or in the case of an organ transplant, to the Hospital where the transplant will \\noccur). The ambulance must be fro m a licensed ambulance service.  \\n  \\nAMBULANCE SERVICE – AIR AND GROUND (NON -EMERGENCY)  \\nIMPORTANT: Prior Authorization is required.  \\nNon-Emergency ground or air ambulance transportation of Covered Person, to a health care facility by a licensed \\nambulance service, and the transport is deemed appropriate and Medically Necessary by UnitedHealthcare – and \\nwhen the Covered Person is transpor ted:  \\n• from a Non -Network Hospital to a Network Hospital;   \\n• to a Hospital that offers a high care level that is not available at the original Hospital;  \\n• to a more cost -effective acute care facility;  \\n• in the case of an organ transplant, to the Hospital where the transplant will occur; or \\n   from an acute \\nfacility to a sub -acute setting.  \\n  \\nEligible Expenses for Air Ambulance transport provided by a Non -Network Provider will be determined as described \\nin the definition of Eligible Expenses.  \\n    \\nANESTHETICS AND OXYGEN  \\nRelated charges for Inpatient and Outpatient services.  \\n  \\nARTIFICIAL LIMBS AND EYES  \\nIMPORTANT: Prior Authorization is required for prosthetic device exceeding $1,000   \\nProsthetic devices and surgical implants are covered when used consistent with accepted medical practice and \\napproved for use by the FDA. Repair or replacement is also covered, unless necessitated by misuse or loss.  \\n  \\nAUTISM SPECTRUM DISORDER (AUTISM)   \\nIMPORTANT: Prior Authorization is required.  \\n  \\nThe benefits described in this section include the medical and Mental Health Services for Autism Spectrum \\nDisorders (and covered diagnosis – see below). See Exclusions.']\n",
      "response -> No, aromatherapy is not covered.\n",
      "passing -> True\n",
      "feedback -> YES\n",
      "score -> 1.0\n",
      "pairwise_source -> None\n",
      "invalid_result -> False\n",
      "invalid_reason -> None\n"
     ]
    }
   ],
   "source": [
    "evaluator = FaithfulnessEvaluator(llm=Settings.eval_llm)\n",
    "evaluation_result = evaluator.evaluate_response(\n",
    "    query=user_input, response=response_object\n",
    ")\n",
    "\n",
    "print_evaluation_result(evaluation_result=evaluation_result)"
   ]
  },
  {
   "cell_type": "markdown",
   "metadata": {},
   "source": [
    "#### Relevancy Evaluator ####\n",
    "- Measure if the response + source nodes match the query."
   ]
  },
  {
   "cell_type": "code",
   "execution_count": null,
   "metadata": {},
   "outputs": [],
   "source": [
    "evaluator = RelevancyEvaluator(llm=Settings.eval_llm)\n",
    "evaluation_result = evaluator.evaluate_response(\n",
    "    query=user_input, response=response_object\n",
    ")\n",
    "\n",
    "print_evaluation_result(evaluation_result=evaluation_result)"
   ]
  },
  {
   "cell_type": "markdown",
   "metadata": {},
   "source": [
    "#### Semantic Similarity Evaluator ####\n",
    "- Calculates the similarity score between embeddings of the generated answer and the reference answer."
   ]
  },
  {
   "cell_type": "code",
   "execution_count": null,
   "metadata": {},
   "outputs": [],
   "source": [
    "evaluator = SemanticSimilarityEvaluator()\n",
    "evaluation_result = evaluator.evaluate_response(\n",
    "    query=user_input, response=response_object, reference = reference\n",
    ")\n",
    "\n",
    "print_evaluation_result(evaluation_result=evaluation_result)"
   ]
  },
  {
   "cell_type": "markdown",
   "metadata": {},
   "source": [
    "#### Answer Relevancy Evaluator ####\n",
    "- Measure the relevancy of the answer to the query"
   ]
  },
  {
   "cell_type": "code",
   "execution_count": null,
   "metadata": {},
   "outputs": [],
   "source": [
    "evaluator = AnswerRelevancyEvaluator(llm=Settings.eval_llm)\n",
    "evaluation_result = evaluator.evaluate_response(\n",
    "    query=user_input, response=response_object, reference = reference\n",
    ")\n",
    "\n",
    "print_evaluation_result(evaluation_result=evaluation_result)"
   ]
  },
  {
   "cell_type": "markdown",
   "metadata": {},
   "source": [
    "#### Context Relevancy Evaluator ####\n",
    "- Measure the relevancy of the context to the query"
   ]
  },
  {
   "cell_type": "code",
   "execution_count": null,
   "metadata": {},
   "outputs": [],
   "source": [
    "evaluator = ContextRelevancyEvaluator(llm=Settings.eval_llm)\n",
    "evaluation_result = evaluator.evaluate_response(\n",
    "    query=user_input, response=response_object, reference = reference\n",
    ")\n",
    "\n",
    "print_evaluation_result(evaluation_result=evaluation_result)"
   ]
  }
 ],
 "metadata": {
  "kernelspec": {
   "display_name": "base",
   "language": "python",
   "name": "python3"
  },
  "language_info": {
   "codemirror_mode": {
    "name": "ipython",
    "version": 3
   },
   "file_extension": ".py",
   "mimetype": "text/x-python",
   "name": "python",
   "nbconvert_exporter": "python",
   "pygments_lexer": "ipython3",
   "version": "3.11.5"
  }
 },
 "nbformat": 4,
 "nbformat_minor": 2
}
