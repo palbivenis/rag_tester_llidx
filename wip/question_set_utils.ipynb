{
 "cells": [
  {
   "cell_type": "markdown",
   "metadata": {},
   "source": [
    "Creating eval data set in format required by Llamaindex Evaluators"
   ]
  },
  {
   "cell_type": "code",
   "execution_count": 1,
   "metadata": {},
   "outputs": [
    {
     "data": {
      "text/plain": [
       "'../datasets/acme_spd/questions/ACME_SPD_Questions_Mini.json'"
      ]
     },
     "execution_count": 1,
     "metadata": {},
     "output_type": "execute_result"
    }
   ],
   "source": [
    "import pandas as pd\n",
    "import json\n",
    "\n",
    "# Load the Excel file\n",
    "excel_path = '../datasets/acme_spd/questions/ACME_SPD_Questions_Mini.xlsx'\n",
    "df = pd.read_excel(excel_path)\n",
    "\n",
    "# Initialize the dictionaries for queries and responses\n",
    "queries = {}\n",
    "responses = {}\n",
    "\n",
    "# Iterate over the rows of the dataframe and populate the dictionaries\n",
    "for index, row in df.iterrows():\n",
    "    \n",
    "    query_id = row['query_num']  # Assuming the ID column exists\n",
    "    # Append a newline character at the end of each query and response\n",
    "    queries[query_id] = row['query'] + '\\n'  # Assuming the Query column exists\n",
    "    responses[query_id] = row['expected_answer'] + '\\n'  # Assuming the Response column exists\n",
    "\n",
    "# Structure the data as required\n",
    "data_structure = {\n",
    "    \"queries\": queries,\n",
    "    \"responses\": responses\n",
    "}\n",
    "\n",
    "# Convert to JSON format and save\n",
    "json_path = '../datasets/acme_spd/questions/ACME_SPD_Questions_Mini.json'\n",
    "with open(json_path, 'w', encoding='utf-8') as json_file:\n",
    "    json.dump(data_structure, json_file, ensure_ascii=False, indent=4)\n",
    "\n",
    "json_path\n"
   ]
  },
  {
   "cell_type": "code",
   "execution_count": 5,
   "metadata": {},
   "outputs": [
    {
     "name": "stdout",
     "output_type": "stream",
     "text": [
      "          query_num                      query  \\\n",
      "0  ACME_UTD_SPD_001    Are bifocals covered \\n   \n",
      "1  ACME_UTD_SPD_002  Is aromatherapy covered\\n   \n",
      "\n",
      "                                     expected_answer  \n",
      "0  Bifocals are included in the list of covered h...  \n",
      "1  No, aromatherapy is not covered under the ACME...  \n"
     ]
    }
   ],
   "source": [
    "import pandas as pd\n",
    "\n",
    "def create_responses_dataframe(file_path):\n",
    "    # Load the JSON file\n",
    "    with open(file_path, 'r') as file:\n",
    "        data = pd.read_json(file)\n",
    "    \n",
    "    # Extract queries and responses into separate DataFrames\n",
    "    queries_df = pd.DataFrame(list(data['queries'].items()), columns=['query_num', 'query'])\n",
    "    responses_df = pd.DataFrame(list(data['responses'].items()), columns=['query_num', 'expected_answer'])\n",
    "    \n",
    "    # Merge the two DataFrames on query_num\n",
    "    merged_df = pd.merge(queries_df, responses_df, on='query_num')\n",
    "    \n",
    "    return merged_df\n",
    "\n",
    "# Specify the path to the JSON file\n",
    "file_path = './questions/ACME_UTD_SPD_Questions_Micro.json'  # Updated to the actual path based on the uploaded file\n",
    "\n",
    "# Call the function and assign the output to the variable responses_df\n",
    "responses_df = create_responses_dataframe(file_path)\n",
    "\n",
    "# Display the DataFrame\n",
    "print(responses_df)\n",
    "\n"
   ]
  }
 ],
 "metadata": {
  "kernelspec": {
   "display_name": "base",
   "language": "python",
   "name": "python3"
  },
  "language_info": {
   "codemirror_mode": {
    "name": "ipython",
    "version": 3
   },
   "file_extension": ".py",
   "mimetype": "text/x-python",
   "name": "python",
   "nbconvert_exporter": "python",
   "pygments_lexer": "ipython3",
   "version": "3.11.5"
  }
 },
 "nbformat": 4,
 "nbformat_minor": 2
}
