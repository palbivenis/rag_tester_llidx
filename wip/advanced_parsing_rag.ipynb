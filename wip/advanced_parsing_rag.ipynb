{
 "cells": [
  {
   "cell_type": "markdown",
   "metadata": {},
   "source": [
    "### Advanced Parser ###\n",
    "- Use Llamaparse to parse pdf into markdown"
   ]
  },
  {
   "cell_type": "code",
   "execution_count": 1,
   "metadata": {},
   "outputs": [],
   "source": [
    "# Fetch API keys from config.py\n",
    "import os\n",
    "from config import set_environment \n",
    "set_environment()\n",
    "\n",
    "import logging\n",
    "import sys\n",
    "#logging.basicConfig(stream=sys.stdout, level=logging.INFO)\n",
    "#logging.getLogger().addHandler(logging.StreamHandler(stream=sys.stdout))\n",
    "\n",
    "# Only for notebook\n",
    "import nest_asyncio\n",
    "nest_asyncio.apply()"
   ]
  },
  {
   "cell_type": "code",
   "execution_count": 2,
   "metadata": {},
   "outputs": [],
   "source": [
    "from llama_index.core import Settings\n",
    "from llama_index.core import VectorStoreIndex\n",
    "from llama_parse import LlamaParse\n",
    "from llama_index.core.node_parser import MarkdownElementNodeParser\n",
    "from datetime import datetime\n",
    "import pandas as pd\n",
    "import numpy as np"
   ]
  },
  {
   "cell_type": "markdown",
   "metadata": {},
   "source": [
    "Choose the LLM"
   ]
  },
  {
   "cell_type": "code",
   "execution_count": 3,
   "metadata": {},
   "outputs": [],
   "source": [
    "from llama_index.llms.openai import OpenAI\n",
    "from llama_index.embeddings.openai import OpenAIEmbedding\n",
    "\n",
    "#Settings.embed_model = OpenAIEmbedding(model=\"text-embedding-3-large\",dimensions=512,)\n",
    "#Settings.llm = OpenAI(temperature=0, model=\"gpt-4\")\n",
    "#Settings.model = \"GPT-4\""
   ]
  },
  {
   "cell_type": "code",
   "execution_count": 4,
   "metadata": {
    "tags": []
   },
   "outputs": [],
   "source": [
    "from llama_index.llms.cohere import Cohere\n",
    "from llama_index.embeddings.cohere import CohereEmbedding\n",
    "\n",
    "Settings.llm = Cohere(api_key=os.environ[\"COHERE_API_KEY\"], model=\"command-r\")\n",
    "Settings.embed_model = CohereEmbedding(\n",
    "    cohere_api_key=os.environ[\"COHERE_API_KEY\"],\n",
    "    model_name=\"embed-english-v3.0\",\n",
    "    input_type=\"search_query\",\n",
    ")\n",
    "Settings.model = \"COMMAND-R\""
   ]
  },
  {
   "cell_type": "markdown",
   "metadata": {},
   "source": [
    "Set the parameters for the run here"
   ]
  },
  {
   "cell_type": "code",
   "execution_count": 5,
   "metadata": {},
   "outputs": [],
   "source": [
    "\n",
    "# Retriever Settings\n",
    "similarity_top_k = 4\n",
    "\n",
    "# Context Post Processor Settings\n",
    "similarity_cutoff = 0.2\n",
    "\n",
    "rag_strategy = \"S005\" \n",
    "rag_strategy_desc = \"Advanced PDF Parser\"\n",
    "\n",
    "eval_name = \"ACME_UTD_SPD_ALL\" \n",
    "eval_files = \"./data/ACME_SPD.pdf\" \n",
    "eval_questions = \"./questions/ACME_UTD_SPD_Questions_All.json\"\n",
    "\n",
    "parsing_instruction=\"\"\"\n",
    "This document is a benefits coverage policy document.\n",
    "When a benefits/coverage/exclusion is described in the document ammend to it add a text in the following benefits string format (where coverage could be an exclusion).\n",
    "\n",
    "For {nameofcondition} and in this condition {whenDoesThecoverageApply} the coverage is {coverageDescription}. \n",
    "                                        \n",
    "If the document contain a benefits TABLE that describe coverage amounts, do not ouput it as a table, but instead as a list of benefits string.\n",
    "                                       \n",
    "\"\"\"\n",
    "\n",
    "run_id = f\"{eval_name}_{rag_strategy}_M_{Settings.model}_K_{similarity_top_k}_{datetime.today().strftime('%Y-%m-%d')}\""
   ]
  },
  {
   "cell_type": "markdown",
   "metadata": {},
   "source": [
    "Set up Token Counting"
   ]
  },
  {
   "cell_type": "code",
   "execution_count": 6,
   "metadata": {},
   "outputs": [],
   "source": [
    "import tiktoken\n",
    "from llama_index.core.callbacks import CallbackManager, TokenCountingHandler\n",
    "\n",
    "token_counter = TokenCountingHandler(\n",
    "    tokenizer=tiktoken.encoding_for_model(\"gpt-4\").encode\n",
    ")\n",
    "\n",
    "Settings.callback_manager = CallbackManager([token_counter])\n",
    "tokencount_df = pd.DataFrame()"
   ]
  },
  {
   "cell_type": "markdown",
   "metadata": {},
   "source": [
    "Read the documents, create chunks, calculate embeddings, store in a vector database"
   ]
  },
  {
   "cell_type": "code",
   "execution_count": 7,
   "metadata": {},
   "outputs": [
    {
     "name": "stdout",
     "output_type": "stream",
     "text": [
      "Started parsing the file under job_id 0b1e5c13-f3e0-470a-9236-1ff667fd948b\n",
      "Embeddings have been explicitly disabled. Using MockEmbedding.\n"
     ]
    },
    {
     "name": "stderr",
     "output_type": "stream",
     "text": [
      "0it [00:00, ?it/s]\n",
      "0it [00:00, ?it/s]\n"
     ]
    }
   ],
   "source": [
    "documents = LlamaParse(result_type=\"markdown\",parsing_instruction= parsing_instruction).load_data(eval_files)\n",
    "node_parser = MarkdownElementNodeParser(llm=Settings.llm, num_workers=8)\n",
    "nodes = node_parser.get_nodes_from_documents(documents)\n",
    "base_nodes, objects = node_parser.get_nodes_and_objects(nodes)\n",
    "recursive_index = VectorStoreIndex(nodes=base_nodes+objects)"
   ]
  },
  {
   "cell_type": "code",
   "execution_count": 8,
   "metadata": {},
   "outputs": [],
   "source": [
    "tokencount_df['document_tokens'] = [token_counter.total_embedding_token_count]\n",
    "token_counter.reset_counts()"
   ]
  },
  {
   "cell_type": "markdown",
   "metadata": {},
   "source": [
    "Set up retrieval and response generation"
   ]
  },
  {
   "cell_type": "code",
   "execution_count": 9,
   "metadata": {},
   "outputs": [],
   "source": [
    "query_engine = recursive_index.as_query_engine(similarity_top_k=similarity_top_k)"
   ]
  },
  {
   "cell_type": "markdown",
   "metadata": {},
   "source": [
    "Quick test of response generation"
   ]
  },
  {
   "cell_type": "code",
   "execution_count": 10,
   "metadata": {},
   "outputs": [
    {
     "name": "stdout",
     "output_type": "stream",
     "text": [
      "Response ---\n",
      "Yes, bifocals are covered. Under the section 'Benefits', it states that 'For Two Pairs of Lenses In Lieu Of Bifocals, the coverage is VSP will pay or deny claims within 30 calendar days of the receipt of the claim from the individual or their authorized representative.' It is also mentioned that VSP pays in full for any necessary spectacle lenses, which includes bifocals.\n",
      "\n",
      "**Node ID:** 826ec402-0e8c-46eb-9737-04e3bdb10af1\n",
      "**Similarity:** 0.4531044297653135\n",
      "**Text:** How Benefits Eligibility is Determined\n",
      "\n",
      "Your benefits eligibility for vision is based on a Calendar Year accumulation, even when You switch vision plans. Please contact VSP at 1-800-877-7195, or access the VSP website at www.vsp.com to obtain information on the date You last received an examination and/or purchased glasses (frames & lenses) and/or contacts and the date You will next be eligible to receive services.\n",
      "\n",
      "Benefits:\n",
      "\n",
      "- For vision and in this condition when You switch vision plans the coverage is based on a Calendar Year accumulation.\n",
      "\n",
      " VISION - CLAIM PROCEDURES\n",
      "\n",
      "If You receive services from a non-VSP provider, You must follow these steps:\n",
      "\n",
      "- Pay the provider the full amount of the bill and request a copy of the bill that shows the amount of the eye exam, lens type, and frame\n",
      "- Visit the Benefits section of www.vsp.com to begin Your claim.\n",
      "- Complete the claim form. Make sure You have a copy of Your itemized receipt or statement that includes:\n",
      "- Doctor name or office name\n",
      "- Name of Patient\n",
      "- Date of Service\n",
      "- Each service received and the amount paid\n",
      "- After completing the claim form, You may attach Your receipt(s) or print and mail copies of Your claim form and receipt(s) to:\n",
      "Vision Service Plan (VSP)\n",
      "PO Box 495918\n",
      "Cincinnati, OH 45249-5918\n",
      "\n",
      " VISION - PLAN EXCLUSIONS (WHAT IS NOT COVERED)\n",
      "\n",
      "VSP pays in full any necessary spectacle lenses, including single vision, bifocal, trifocal or other more complex and expensive lenses necessary for Your visual welfare. You may elect lenses or lens characteristics that are not necessary for Your visual welfare, but you will pay for those cosmetic options. For example, You would be responsible for the costs for the following elective services and supplies:\n",
      "\n",
      "- Blended or Progressive Multifocal Lenses (except standard progressive lenses)\n",
      "- Cosmetic Lenses\n",
      "- Frames In Excess of The Plan Allowance\n",
      "- Optional Cosmetic Processes\n",
      "- Oversize, Coated Or Laminated Lenses\n",
      "- Certain Limitations On Low Vision Care\n",
      "- Any Supplemental Tests or Fittings Associated With Contact Lenses\n",
      "- Exam or Eye-Wear Required By An Employer As a Condition of Employment\n",
      "- Medical or Surgical Treatment\n",
      "- Non-Prescription Lenses (except following LASIK/PRK surgery)\n",
      "- Vision Training\n",
      "- Services During Periods of Ineligibility (e.g., services received outside the normal interval)\n",
      "---\n",
      " Benefits Coverage Policy Document\n",
      "\n",
      " Benefits Coverage Policy Document\n",
      "\n",
      " Benefits:\n",
      "\n",
      "- For Two Pairs of Lenses In Lieu Of Bifocals, the coverage is VSP will pay or deny claims within 30 calendar days of the receipt of the claim from the individual or their authorized representative.\n",
      "- For Contact Lenses Solution and Miscellaneous Supplies, the coverage is If VSP denies Your claim in whole or in part, the notification of the claims decision will state the reason why Your claim was denied and reference the specific plan provision(s) on which the denial is based.\n",
      "- For Low Level Prescription Lenses (i.e., any prescription under 0.5 diopters), the coverage is VSP will conduct a full and fair review of Your appeal. Deference will not be given to initial denials, and VSP’s review will look at the claim anew.\n",
      "\n",
      " Request for Appeals:\n",
      "\n",
      "If an eligible Employee’s or Dependent’s claim for benefits is denied by VSP in whole or in part, VSP will notify the individual in writing of the reason or reasons for the denial. Within one hundred eighty (180) days after receipt of such notice of denial of a claim, individual may make written request to VSP for a full review of such denial.\n",
      "\n",
      "The request should contain sufficient information to identify the individual for whom a claim for benefits was denied, including:\n",
      "\n",
      "- The Employee’s name and address\n",
      "- The patient’s name, age and relationship to the Employee\n",
      "- The Employee’s Member Identification Number\n",
      "- The name of the Provider of services and claim number\n",
      "\n",
      "The individual may state the reasons that he or she believes that the claim denial was in error. The individual may also provide any pertinent documents to be reviewed.\n",
      "\n",
      "VSP will review the claim and give the individual the opportunity to review pertinent documents, submit any statements, documents, or written arguments in support of the claim, and appear personally to present materials or arguments.\n",
      "\n",
      "The individual or individual’s authorized representative should submit all requests for appeals to:\n",
      "\n",
      "Vision Service Plan (VSP) Attn: Appeals Dept P.O. Box 2350 Rancho Cordova, CA 95741\n",
      "---\n",
      " Benefits Coverage Policy\n",
      "\n",
      " Benefits Coverage Policy\n",
      "\n",
      "For denial of claim appeals, the following procedures will be followed:\n",
      "\n",
      "- For {initial denial of claim} and in this condition {whenDoesThecoverageApply} the coverage is {the person who made the initial decision to deny Your claim will not be a subordinate of the person who is reviewing the appeal}.\n",
      "**Metadata:** {}\n",
      "~~~~\n",
      "**Node ID:** b73d4d1b-2896-4844-b47e-893ffa3619d7\n",
      "**Similarity:** 0.3843125498425119\n",
      "**Text:** - For travel or transportation expenses for health services provided in a foreign country, unless required as Emergency Services the coverage is not provided under the UnitedHealthcare EPO Plan and UnitedHealthcare Harvard Pilgrim Plans.\n",
      "- For Non-Network benefits provided in a foreign country the coverage is covered under the UnitedHealthcare PPO and HSA Medical Plans – Plan Non-Network benefits apply.\n",
      "---\n",
      " Benefits Coverage Policy Document\n",
      "\n",
      " Vision Coverage:\n",
      "\n",
      "- For eye-glasses, contact lenses, surgery, and other related treatment that is intended to correct nearsightedness, farsightedness, presbyopia, and astigmatism including procedures such as radial keratotomy, laser, and other refractive eye surgery, the coverage is provided.\n",
      "\n",
      " All Other Exclusions:\n",
      "\n",
      "- Autopsies and other coroner services and transportation services for a corpse are not covered.\n",
      "- Charges for missed appointments, room or facility reservations, completion of claim forms, and record processing are not covered.\n",
      "- Diagnostic tests delivered in other than a Physician's office or health care facility, and self-administered home diagnostic tests are not covered.\n",
      "- Expenses for health services and supplies that do not meet the definition of a Covered Health Service, are received after coverage ends, or exceed Eligible Expenses are not covered.\n",
      "- No benefits are provided if a Non-Network Provider waives, does not pursue, or fails to collect the Copayment, Coinsurance, or any Deductible for a particular health service.\n",
      "- Intracellular micronutrient testing, foreign language and sign language interpretation services, and long-term storage of blood, umbilical cord, or other material are not covered.\n",
      "- Health services related to a non-Covered Health Service are excluded, except for services to treat complications that arise from the non-Covered Health Service.\n",
      "\n",
      "For more details, refer to the 2024ACME America, Inc. Flexible Benefit Plan Document and SPD.\n",
      "---\n",
      " Benefits Coverage Policy Document\n",
      "\n",
      " Benefits Coverage Policy Document\n",
      "\n",
      "For the purpose of this exclusion, a \"complication\" is an unexpected or unanticipated condition that is superimposed on an existing disease and that affects or modifies the prognosis of the original disease or condition. Examples of a \"complication\" are bleeding or infections, following a Cosmetic Procedure, that require hospitalization.\n",
      "\n",
      " Benefits:\n",
      "\n",
      "- For complications and in this condition whenDoesThecoverageApply the coverage is coverageDescription.\n",
      "\n",
      "Physical, psychiatric or psychological exams, testing, all forms of vaccinations and immunizations or treatments when:\n",
      "\n",
      "- Required solely for purposes of education, sports or camp, travel, career or employment, insurance, marriage or adoption; or as a result of incarceration.\n",
      "- Conducted for purposes of medical research. This exclusion does not apply to Covered Health Services provided during a Clinical Trial for which Benefits are provided as described under Clinical Trials.\n",
      "- Related to judicial or administrative proceedings or orders. This exclusion does not apply to services that are determined to be Medically Necessary.\n",
      "- Required to obtain or maintain a license of any type.\n",
      "\n",
      "Services resulting from accidental bodily injuries arising out of a motor vehicle accident to the extent the services are payable under a medical expense payment provision of an automobile insurance policy.\n",
      "\n",
      " Benefits:\n",
      "\n",
      "- For accidental bodily injuries arising out of a motor vehicle accident, the coverage is payable under a medical expense payment provision of an automobile insurance policy.\n",
      "\n",
      "UnitedHealthcare Medical Plans - Claims Procedures\n",
      "\n",
      "This section provides You with information about:\n",
      "\n",
      "- How and when to file a claim\n",
      "- Covered Heath Services received by a Network Provider: You do not have to file a claim. UnitedHealthcare pays these providers directly.\n",
      "- Covered Health Services received by a Non-Network Provider: You are responsible for filing a claim.\n",
      "\n",
      "UnitedHealthcare will pay Network Providers directly for Covered Health Services. If a Network Provider bills You for any Covered Health Service, contact UnitedHealthcare at the number on Your ID card. However, You are responsible for paying Copayments, Deductibles, or Coinsurance to a Network Provider at the time of service, or when You receive a bill from the Provider. When You receive a Covered Health Service from a Non-Network Provider, You are responsible for requesting payment from UnitedHealthcare.\n",
      "\n",
      "You must file the claim in a format that contains all of the information in the section “Filing a Claim.”\n",
      "\n",
      " Benefits:\n",
      "\n",
      "- For Covered Health Services received by a Network Provider, UnitedHealthcare pays the providers directly.\n",
      "- For Covered Health Services received by a Non-Network Provider, You are responsible for filing a claim.\n",
      "\n",
      "FILING A CLAIM\n",
      "\n",
      "You MUST submit a request for payment of benefits within one year after the date of the service. If You do not provide this information to UnitedHealthcare within one year of the date of service, benefits for that health service will be denied or reduced, at UnitedHealthcare’s discretion. If Your claim is for an Inpatient stay, the date of service is the date Your Inpatient stay ends. The time limit does not apply if You are legally incapacitated.\n",
      "**Metadata:** {}\n",
      "~~~~\n",
      "**Node ID:** d715f4ff-3023-406b-9589-bab7075f3159\n",
      "**Similarity:** 0.3841733053332144\n",
      "**Text:** For orthognathic surgery, when charges are for surgery required for direct treatment of a skeletal anomaly of either the maxilla or mandible, the coverage is provided if the skeletal anomaly causes a functional medical impairment such as inability to incise solid foods, choking on incompletely masticated solid foods, damage to soft tissue during mastication, speech impediment determined to be due to the jaw deformity, or malnutrition and weight loss due to inadequate intake secondary to the jaw deformity. Prior Authorization is required.\n",
      "\n",
      "2024ACME America, Inc. Flexible Benefit Plan Document and SPD\n",
      "---\n",
      " Benefits Coverage Policy\n",
      "\n",
      " Benefits Coverage Policy Document\n",
      "\n",
      " Orthotics Coverage\n",
      "\n",
      "For orthotics and in this condition when prescribed by a Physician for treatment of severe systemic disease, such as for diabetes, or due to a severe injury, the coverage is braces that stabilize an injured body part and braces to treat curvature of the spine as a Covered Health Service. Coverage for flat feet is available if Medically Necessary and is supported by documentation by the Physician. New and replacement devices are limited to one every other Calendar Year or when required by a change to the prescription. Benefits are not provided for orthotics for routine care, such as for fallen arches or comfort.\n",
      "\n",
      " Cranial Orthotic Devices Coverage\n",
      "\n",
      "For cranial orthotic devices and in this condition for the treatment of craniofacial asymmetry in infants 3-18 months of age with severe nonsynostotic positional plagiocephaly or craniosynostosis following surgical correction, the coverage is available when associated with a medical condition that is being treated by a Physician.\n",
      "\n",
      " Ostomy Supplies Coverage\n",
      "\n",
      "For ostomy supplies, the coverage includes pouches, face plates, belts, irrigation sleeves, bags, catheters, and skin barriers.\n",
      "\n",
      " Outpatient Pre-Admission Testing Coverage\n",
      "\n",
      "For Outpatient Laboratory and X-Rays related to pre-admission testing performed by a Hospital, Surgery Center, Licensed Diagnostic Lab, or Physician within seven days of a scheduled surgery, the coverage is available.\n",
      "\n",
      " Outpatient Surgery, Diagnostic, and Therapeutic Services Coverage\n",
      "\n",
      "Covered Health Services received on an Outpatient basis at a Hospital or Alternate Facility are covered.\n",
      "---\n",
      " Benefits Coverage Policy\n",
      "\n",
      " Benefits Coverage Policy\n",
      "\n",
      " Outpatient Surgery & Related Services\n",
      "\n",
      "For surgery and related services, the coverage is for Covered Health Services received on an outpatient basis at a Hospital or Alternate Facility.\n",
      "\n",
      " Outpatient Lab, X-Ray, and Diagnostic Services\n",
      "\n",
      "For lab, X-ray, and diagnostic services, the coverage is for services received on an outpatient basis at a Hospital or Alternate Facility or in a Physician's office. Benefits include:\n",
      "\n",
      "- The facility charge and the charge for supplies and equipment\n",
      "- Physician services for radiologists, anesthesiologists, and pathologists\n",
      "- Genetic Testing ordered by a Physician resulting in available medical treatment options following Genetic Counseling\n",
      "- Presumptive Drug Tests and Definitive Drug Tests - limited to 18 tests each per calendar year\n",
      "\n",
      " Outpatient Lab, X-Ray, and Major Diagnostics - CT, PET Scans, MRI, MRA, and Nuclear Medicine\n",
      "\n",
      "For lab, X-ray, and major diagnostic services including CT scans, PET scans, MRI, MRA, and nuclear medicine, the coverage is for services received on an outpatient basis at a Hospital or Alternate Facility. Benefits include:\n",
      "\n",
      "- The facility charge and the charge for supplies and equipment\n",
      "- Physician services for radiologists, anesthesiologists, and pathologists\n",
      "\n",
      " Outpatient Surgery\n",
      "\n",
      "The Plan pays for Covered Health Services for surgery and related services received on an outpatient basis at a Hospital or Alternate Facility. Prior Authorization is required for all outpatient surgeries.\n",
      "---\n",
      "Benefits under this section include only the facility charge and the charge for supplies and equipment. Benefits for the surgeon fees and facility-based Physician's fees related to outpatient surgery are described under Physician Fees for Surgical and Medical Services. When these services are performed in a Physician's office, Benefits are described under Physician's Office Services.\n",
      "\n",
      "For OUTPATIENT THERAPEUTIC and in this condition Prior Authorization is required, the coverage is The Plan pays for Covered Health Services for therapeutic treatments received on an outpatient basis at a Hospital or Alternate Facility, including dialysis (both hemodialysis and peritoneal dialysis), intravenous chemotherapy or other intravenous infusion therapy, and other treatments not listed above. Benefits under this section include the facility charge, and the charge for required services, supplies and equipment. Benefits for facility-based Physician's fees related to these services are described under Physician Fees for Surgical and Medical Services. When these services are performed in a Physician's office, benefits are described under Physician's Office Services.\n",
      "\n",
      "For PALLIATIVE CARE SERVICES and in this condition the coverage is The Palliative Care benefit provides Covered Health Services under the Plan that seeks to prevent or relieve the physical and emotional distress produced by a life-threatening medical condition or its treatment. Services include covered benefits as stated in the Plan.\n",
      "**Metadata:** {}\n",
      "~~~~\n",
      "**Node ID:** 1213e9e8-f205-4c23-b9fb-1896681aaa6e\n",
      "**Similarity:** 0.35773320280285353\n",
      "**Text:** Reshaping a nose with a prominent “bump” would be a good example of a Cosmetic Procedure because appearance would be improved, but there would be no effect on function like breathing.\n",
      "\n",
      "2024ACME America, Inc. Flexible Benefit Plan Document and SPD\n",
      "---\n",
      " Benefits Coverage Policy\n",
      "\n",
      " Reconstructive\n",
      "\n",
      "IMPORTANT: Prior Authorization is required.\n",
      "\n",
      "Some services are considered cosmetic in some circumstances and reconstructive in others. This means that there may be situations in which the primary purpose of the service is to make a body part work better, whereas in other situations, the purpose would be to improve appearance and function (such as vision) is not affected. A good example is upper eyelid surgery. At times, this procedure will improve vision, while on other occasions improvement in appearance is the primary purpose of the procedure.\n",
      "\n",
      "Benefits:\n",
      "\n",
      "- For reconstructive procedures such as breast reconstruction following a mastectomy and reconstruction of the non-affected breast to achieve symmetry, the coverage is provided.\n",
      "- Other services mandated by the Women’s Health and Cancer Rights Act of 1998, including breast prostheses and treatment of complications, are provided in the same manner and at the same level as those for any Covered Health Service.\n",
      "\n",
      " Rehabilitation Services and Habilitative Services\n",
      "\n",
      " Rehabilitation Services - Outpatient Therapy and Manipulative Treatment\n",
      "\n",
      "The Plan provides short-term outpatient rehabilitation services limited to the following types of therapy:\n",
      "\n",
      "- Physical therapy.\n",
      "- Occupational therapy.\n",
      "- Manipulative Treatment.\n",
      "- Speech therapy.\n",
      "- Post-cochlear implant aural therapy.\n",
      "- Vision therapy.\n",
      "- Cognitive rehabilitation therapy following a post-traumatic brain injury or cerebral vascular accident.\n",
      "- Pulmonary rehabilitation therapy.\n",
      "- Cardiac rehabilitation therapy.\n",
      "\n",
      "Benefits under this section include rehabilitation services provided in a Physician’s office or on an outpatient basis at a Hospital or Alternate Facility. Rehabilitative services provided in a Covered Person’s home by a Home Health Agency are provided as described under Home Health Care. Rehabilitative services provided in a Covered Person’s home other than by a Home Health Agency are provided as described under this section.\n",
      "\n",
      "Benefits can be denied or shortened for Covered Persons who are not progressing in goal-directed rehabilitation services or if rehabilitation goals have previously been met. Benefits under this section are not available for maintenance/preventive treatment.\n",
      "\n",
      "Benefits:\n",
      "\n",
      "- For outpatient rehabilitation services, the coverage is provided for speech therapy, physical therapy, occupational therapy, manipulative treatment, post-cochlear implant aural therapy, vision therapy, cognitive rehabilitation therapy, pulmonary rehabilitation therapy, and cardiac rehabilitation therapy.\n",
      "\n",
      " Habilitative Services\n",
      "\n",
      "For the purpose of this benefit, \"habilitative services\" means Medically Necessary skilled health care services that help a person keep, learn or improve skills and functioning for daily living. Habilitative services are skilled when all of the following are true:\n",
      "\n",
      "Benefits:\n",
      "\n",
      "- Habilitative services coverage is provided for Medically Necessary skilled health care services that help a person keep, learn, or improve skills and functioning for daily living.\n",
      "---\n",
      "- For habilitative services provided for Covered Persons with a disabling condition, the coverage is as follows:\n",
      "- For habilitative services to be covered, the treatment must be administered by a licensed speech-language pathologist, licensed audiologist, licensed occupational therapist, licensed physical therapist, or Physician.\n",
      "- The initial or continued treatment must be proven and not Experimental, Investigational, or Unproven.\n",
      "- Benefits for habilitative services do not apply to services that are solely educational in nature or otherwise paid under state or federal law for purely educational services. Custodial Care, respite care, day care, therapeutic recreation, vocational training, and Residential Treatment are not habilitative services. A service that does not help the Covered Person to meet functional goals in a treatment plan within a prescribed time frame is not a habilitative service.\n",
      "- The Plan may require that a treatment plan be provided, request medical records, clinical notes, or other necessary data to allow the Plan to substantiate that initial or continued medical treatment is needed. When the treating Provider anticipates that continued treatment is or will be required to permit the Covered Person to achieve demonstrable progress, the Plan may request a treatment plan consisting of diagnosis, proposed treatment by type, frequency, anticipated duration of treatment, the anticipated goals of treatment, and how frequently the treatment plan will be updated.\n",
      "- For Durable Medical Equipment and prosthetic devices used as a component of habilitative services, the coverage is as follows:\n",
      "- Benefits are limited to 60 visits per calendar year for physical therapy.\n",
      "- Benefits are limited to 60 visits per calendar year for occupational therapy.\n",
      "- Benefits are limited to 60 visits per calendar year for speech therapy.\n",
      "- Benefits are limited to 20 visits per calendar year for Spinal Manipulation.\n",
      "- These visit limits apply to Network Benefits and Non-Network benefits combined. Additional visits above the Calendar Year limit require clinical review and approval.\n",
      "**Metadata:** {}\n",
      "~~~~\n",
      "\n"
     ]
    }
   ],
   "source": [
    "response = query_engine.query(\"Are bifocals covered\")\n",
    "print(f\"Response ---{chr(10)}{response.response}{chr(10)}\")\n",
    "\n",
    "text_md = \"\"\n",
    "for n in response.source_nodes:\n",
    "    \n",
    "    text_md += (\n",
    "        f\"**Node ID:** {n.node.node_id}{chr(10)}\"\n",
    "        f\"**Similarity:** {n.score}{chr(10)}\"\n",
    "        f\"**Text:** {n.node.get_content()}{chr(10)}\"\n",
    "        f\"**Metadata:** {n.node.metadata}{chr(10)}\"\n",
    "        f\"~~~~{chr(10)}\"\n",
    "    )\n",
    "print(text_md)\n"
   ]
  },
  {
   "cell_type": "markdown",
   "metadata": {},
   "source": [
    "- Read the evalution question set (along with expected answers)\n",
    "- This is structured in Llamaindex's format for batch evaluations\n",
    "- Also, load into a data frame (which we will write back to an excel file with responses, evaluations etc.)"
   ]
  },
  {
   "cell_type": "code",
   "execution_count": 11,
   "metadata": {},
   "outputs": [],
   "source": [
    "with open(eval_questions, 'r') as file:\n",
    "    data = pd.read_json(file,encoding=\"utf8\" )\n",
    "     \n",
    "    queries_df = pd.DataFrame(list(data['queries'].items()), columns=['query_num', 'query'])\n",
    "    responses_df = pd.DataFrame(list(data['responses'].items()), columns=['query_num', 'expected_answer'])\n",
    "    \n",
    "    responses_df = pd.merge(queries_df, responses_df, on='query_num')\n"
   ]
  },
  {
   "cell_type": "code",
   "execution_count": 12,
   "metadata": {},
   "outputs": [],
   "source": [
    "from llama_index.core.evaluation.eval_utils import (\n",
    "    get_responses,\n",
    ")\n",
    "from llama_index.core.evaluation import QueryResponseDataset"
   ]
  },
  {
   "cell_type": "markdown",
   "metadata": {},
   "source": [
    "Send the questions to the query engine in bulk"
   ]
  },
  {
   "cell_type": "code",
   "execution_count": 13,
   "metadata": {},
   "outputs": [
    {
     "name": "stderr",
     "output_type": "stream",
     "text": [
      "c:\\Users\\sthan\\anaconda3\\Lib\\site-packages\\llama_index\\core\\evaluation\\dataset_generation.py:109: DeprecationWarning: Call to deprecated class QueryResponseDataset. (Deprecated in favor of `LabelledRagDataset` which should be used instead.)\n",
      "  return cls(**data)\n",
      "100%|██████████| 82/82 [00:55<00:00,  1.48it/s] \n"
     ]
    }
   ],
   "source": [
    "eval_dataset = QueryResponseDataset.from_json(eval_questions)\n",
    "eval_qs = eval_dataset.questions\n",
    "ref_response_strs = [r for (_, r) in eval_dataset.qr_pairs]\n",
    "pred_responses = get_responses(\n",
    "    eval_qs, query_engine, show_progress=True\n",
    ")\n",
    "pred_response_strs = [str(p) for p in pred_responses]"
   ]
  },
  {
   "cell_type": "code",
   "execution_count": 14,
   "metadata": {},
   "outputs": [],
   "source": [
    "from evaluation_utils import get_eval_results_df, get_summary_scores_df, get_answers_source_nodes\n",
    "\n",
    "answers, sources = get_answers_source_nodes(pred_responses)\n",
    "\n",
    "responses_df['generated_answer'] = answers\n",
    "\n",
    "sources_df = pd.DataFrame()\n",
    "sources_df['query_num'] = responses_df['query_num']\n",
    "sources_df['query'] = responses_df['query']\n",
    "sources_df = sources_df.join(pd.DataFrame(sources)[0].str.split(\"~~~~\", expand=True))\n",
    "\n",
    "tokencount_df['answer_tokens' ] = [token_counter.total_llm_token_count]\n",
    "token_counter.reset_counts()"
   ]
  },
  {
   "cell_type": "code",
   "execution_count": 15,
   "metadata": {},
   "outputs": [],
   "source": [
    "with pd.ExcelWriter(f\"./evaluation/{run_id}.xlsx\") as writer:\n",
    "   responses_df.to_excel(writer, sheet_name=\"Responses\", index=False)\n",
    "   sources_df.to_excel(writer, sheet_name=\"Sources\", index=False)\n",
    "   tokencount_df.to_excel(writer, sheet_name=\"Token Counts\", index=False)"
   ]
  },
  {
   "cell_type": "markdown",
   "metadata": {},
   "source": [
    "Choose the LLM for evaluations"
   ]
  },
  {
   "cell_type": "code",
   "execution_count": 16,
   "metadata": {},
   "outputs": [],
   "source": [
    "Settings.eval_llm = OpenAI(temperature=0, model=\"gpt-4-0125-preview\")\n",
    "Settings.eval_model = \"gpt-4-0125-preview\""
   ]
  },
  {
   "cell_type": "markdown",
   "metadata": {},
   "source": [
    "Setup Evaluations"
   ]
  },
  {
   "cell_type": "code",
   "execution_count": 17,
   "metadata": {},
   "outputs": [
    {
     "name": "stderr",
     "output_type": "stream",
     "text": [
      "c:\\Users\\sthan\\anaconda3\\Lib\\site-packages\\deepeval\\__init__.py:41: UserWarning: You are using deepeval version 0.21.13, however version 0.21.21 is available. You should consider upgrading via the \"pip install --upgrade deepeval\" command.\n",
      "  warnings.warn(\n"
     ]
    }
   ],
   "source": [
    "from llama_index.core.evaluation.eval_utils import (\n",
    "    get_responses,\n",
    ")\n",
    "from llama_index.core.evaluation import BatchEvalRunner\n",
    "\n",
    "from llama_index.core.evaluation import (\n",
    "    CorrectnessEvaluator,\n",
    ")\n",
    "from deepeval.integrations.llama_index import (\n",
    "    DeepEvalAnswerRelevancyEvaluator,\n",
    "    DeepEvalFaithfulnessEvaluator,\n",
    "    DeepEvalContextualRelevancyEvaluator,\n",
    "    DeepEvalBiasEvaluator,\n",
    "    DeepEvalToxicityEvaluator,\n",
    ")\n",
    "\n",
    "eval_lidx_c = CorrectnessEvaluator(llm=Settings.eval_llm)\n",
    "eval_deval_f = DeepEvalFaithfulnessEvaluator(threshold=0.5, model=Settings.eval_model,include_reason=True)\n",
    "eval_deval_ar = DeepEvalAnswerRelevancyEvaluator( threshold=0.5, model=Settings.eval_model,include_reason=True)\n",
    "eval_deval_cr = DeepEvalContextualRelevancyEvaluator(threshold=0.5, model=Settings.eval_model,include_reason=True)\n",
    "eval_deval_b = DeepEvalBiasEvaluator(threshold=0.5, model=Settings.eval_model,include_reason=True)\n",
    "eval_deval_t = DeepEvalToxicityEvaluator(threshold=0.5, model=Settings.eval_model,include_reason=True)"
   ]
  },
  {
   "cell_type": "code",
   "execution_count": 18,
   "metadata": {},
   "outputs": [],
   "source": [
    "# For large eval sets (30+ questions)\n",
    "evaluator_dict_essential = {\n",
    "    \"Correctness\": eval_lidx_c,\n",
    "    \"Faithfulness\": eval_deval_f\n",
    "}\n",
    "\n",
    "# For troubleshooting \n",
    "evaluator_dict_extended = {\n",
    "    \"Correctness\": eval_lidx_c,\n",
    "    \"Faithfulness\": eval_deval_f,\n",
    "    \"Context_Relevancy\": eval_deval_cr\n",
    "}\n",
    "\n",
    "# For small sets (< 10 questions)\n",
    "evaluator_dict_full = {\n",
    "    \"Correctness\": eval_lidx_c,\n",
    "    \"Faithfulness\": eval_deval_f,\n",
    "    \"Answer_Relevancy\": eval_deval_ar,\n",
    "    \"Context_Relevancy\": eval_deval_cr,\n",
    "    \"Bias\": eval_deval_b,\n",
    "    \"Toxicity\": eval_deval_t ,\n",
    "}\n",
    "\n",
    "# Pick the list of evaluators to run\n",
    "evaluator_dict = evaluator_dict_essential\n",
    "\n",
    "# Make sure this list matches the chosenevaluator_dict \n",
    "evaluators = [\"Correctness\", \"Faithfulness\" ] \n",
    "\n",
    "batch_runner = BatchEvalRunner(evaluator_dict, workers=8)"
   ]
  },
  {
   "cell_type": "markdown",
   "metadata": {},
   "source": [
    "Run evaluations"
   ]
  },
  {
   "cell_type": "code",
   "execution_count": 19,
   "metadata": {},
   "outputs": [
    {
     "data": {
      "application/vnd.jupyter.widget-view+json": {
       "model_id": "bf5f6af4d1624fef9bc7e2fb56c36d14",
       "version_major": 2,
       "version_minor": 0
      },
      "text/plain": [
       "Output()"
      ]
     },
     "metadata": {},
     "output_type": "display_data"
    },
    {
     "data": {
      "application/vnd.jupyter.widget-view+json": {
       "model_id": "da1cf85d50cb415ea9eafd393a46cc80",
       "version_major": 2,
       "version_minor": 0
      },
      "text/plain": [
       "Output()"
      ]
     },
     "metadata": {},
     "output_type": "display_data"
    },
    {
     "data": {
      "application/vnd.jupyter.widget-view+json": {
       "model_id": "4ed9358d436b4e249e09b13a70d9b355",
       "version_major": 2,
       "version_minor": 0
      },
      "text/plain": [
       "Output()"
      ]
     },
     "metadata": {},
     "output_type": "display_data"
    },
    {
     "data": {
      "application/vnd.jupyter.widget-view+json": {
       "model_id": "3e8a5296377544f3a157ad48a57b180b",
       "version_major": 2,
       "version_minor": 0
      },
      "text/plain": [
       "Output()"
      ]
     },
     "metadata": {},
     "output_type": "display_data"
    },
    {
     "data": {
      "application/vnd.jupyter.widget-view+json": {
       "model_id": "6836ea30bc314bb39d8211a7ec88cb63",
       "version_major": 2,
       "version_minor": 0
      },
      "text/plain": [
       "Output()"
      ]
     },
     "metadata": {},
     "output_type": "display_data"
    },
    {
     "data": {
      "application/vnd.jupyter.widget-view+json": {
       "model_id": "a281553f2e274ab9a4ec8ed693a3a2b5",
       "version_major": 2,
       "version_minor": 0
      },
      "text/plain": [
       "Output()"
      ]
     },
     "metadata": {},
     "output_type": "display_data"
    },
    {
     "data": {
      "application/vnd.jupyter.widget-view+json": {
       "model_id": "c3654b11e7bb4ed79fb76550cb27728b",
       "version_major": 2,
       "version_minor": 0
      },
      "text/plain": [
       "Output()"
      ]
     },
     "metadata": {},
     "output_type": "display_data"
    },
    {
     "data": {
      "application/vnd.jupyter.widget-view+json": {
       "model_id": "1c1a40811ab24704b5953069f32132e0",
       "version_major": 2,
       "version_minor": 0
      },
      "text/plain": [
       "Output()"
      ]
     },
     "metadata": {},
     "output_type": "display_data"
    },
    {
     "data": {
      "application/vnd.jupyter.widget-view+json": {
       "model_id": "35e19934f87b478983536a6b1fdf7551",
       "version_major": 2,
       "version_minor": 0
      },
      "text/plain": [
       "Output()"
      ]
     },
     "metadata": {},
     "output_type": "display_data"
    },
    {
     "data": {
      "application/vnd.jupyter.widget-view+json": {
       "model_id": "e3ad80ae8fb649a688ff6c07c148d4bf",
       "version_major": 2,
       "version_minor": 0
      },
      "text/plain": [
       "Output()"
      ]
     },
     "metadata": {},
     "output_type": "display_data"
    },
    {
     "data": {
      "application/vnd.jupyter.widget-view+json": {
       "model_id": "435cd610c0364646879c8a1743374870",
       "version_major": 2,
       "version_minor": 0
      },
      "text/plain": [
       "Output()"
      ]
     },
     "metadata": {},
     "output_type": "display_data"
    },
    {
     "data": {
      "application/vnd.jupyter.widget-view+json": {
       "model_id": "002abdf3ce8349659fd07c395696afad",
       "version_major": 2,
       "version_minor": 0
      },
      "text/plain": [
       "Output()"
      ]
     },
     "metadata": {},
     "output_type": "display_data"
    },
    {
     "data": {
      "application/vnd.jupyter.widget-view+json": {
       "model_id": "52b0ac68e10547d58eeb12db3ba6dcad",
       "version_major": 2,
       "version_minor": 0
      },
      "text/plain": [
       "Output()"
      ]
     },
     "metadata": {},
     "output_type": "display_data"
    },
    {
     "data": {
      "application/vnd.jupyter.widget-view+json": {
       "model_id": "5749b2740e0e48debba7a1e6d2e0969a",
       "version_major": 2,
       "version_minor": 0
      },
      "text/plain": [
       "Output()"
      ]
     },
     "metadata": {},
     "output_type": "display_data"
    },
    {
     "data": {
      "application/vnd.jupyter.widget-view+json": {
       "model_id": "03ab97dd82384fc69893516c036b9d25",
       "version_major": 2,
       "version_minor": 0
      },
      "text/plain": [
       "Output()"
      ]
     },
     "metadata": {},
     "output_type": "display_data"
    },
    {
     "data": {
      "application/vnd.jupyter.widget-view+json": {
       "model_id": "8c90eb2b4ce34d2bb8db2532c47bcd16",
       "version_major": 2,
       "version_minor": 0
      },
      "text/plain": [
       "Output()"
      ]
     },
     "metadata": {},
     "output_type": "display_data"
    },
    {
     "data": {
      "application/vnd.jupyter.widget-view+json": {
       "model_id": "4330d190998049cfb5f0da1288ed3670",
       "version_major": 2,
       "version_minor": 0
      },
      "text/plain": [
       "Output()"
      ]
     },
     "metadata": {},
     "output_type": "display_data"
    },
    {
     "data": {
      "application/vnd.jupyter.widget-view+json": {
       "model_id": "3ab914c2f9c84b8d951b18a3864fab87",
       "version_major": 2,
       "version_minor": 0
      },
      "text/plain": [
       "Output()"
      ]
     },
     "metadata": {},
     "output_type": "display_data"
    },
    {
     "data": {
      "application/vnd.jupyter.widget-view+json": {
       "model_id": "2fd597c46a3c45ed851fdcc314d4fdf3",
       "version_major": 2,
       "version_minor": 0
      },
      "text/plain": [
       "Output()"
      ]
     },
     "metadata": {},
     "output_type": "display_data"
    },
    {
     "data": {
      "application/vnd.jupyter.widget-view+json": {
       "model_id": "42c08ac458ba4183b72a8106e8bd715c",
       "version_major": 2,
       "version_minor": 0
      },
      "text/plain": [
       "Output()"
      ]
     },
     "metadata": {},
     "output_type": "display_data"
    },
    {
     "data": {
      "application/vnd.jupyter.widget-view+json": {
       "model_id": "5a6f8a330cc1470c9468ac426e7e29bb",
       "version_major": 2,
       "version_minor": 0
      },
      "text/plain": [
       "Output()"
      ]
     },
     "metadata": {},
     "output_type": "display_data"
    },
    {
     "data": {
      "application/vnd.jupyter.widget-view+json": {
       "model_id": "ebc33fb2eb0c4dfb94d9166e5baca645",
       "version_major": 2,
       "version_minor": 0
      },
      "text/plain": [
       "Output()"
      ]
     },
     "metadata": {},
     "output_type": "display_data"
    },
    {
     "data": {
      "application/vnd.jupyter.widget-view+json": {
       "model_id": "f225cf5e627a4e7bb8826b8ddf831575",
       "version_major": 2,
       "version_minor": 0
      },
      "text/plain": [
       "Output()"
      ]
     },
     "metadata": {},
     "output_type": "display_data"
    },
    {
     "data": {
      "application/vnd.jupyter.widget-view+json": {
       "model_id": "069a92d8c96e4a1badb59fdc53e36e82",
       "version_major": 2,
       "version_minor": 0
      },
      "text/plain": [
       "Output()"
      ]
     },
     "metadata": {},
     "output_type": "display_data"
    },
    {
     "data": {
      "application/vnd.jupyter.widget-view+json": {
       "model_id": "09df49e753494a78859e8641044fdbbd",
       "version_major": 2,
       "version_minor": 0
      },
      "text/plain": [
       "Output()"
      ]
     },
     "metadata": {},
     "output_type": "display_data"
    },
    {
     "data": {
      "application/vnd.jupyter.widget-view+json": {
       "model_id": "57504156e04242adabce808dead775ed",
       "version_major": 2,
       "version_minor": 0
      },
      "text/plain": [
       "Output()"
      ]
     },
     "metadata": {},
     "output_type": "display_data"
    },
    {
     "data": {
      "application/vnd.jupyter.widget-view+json": {
       "model_id": "0c7846495c114ba188d709560e3de63e",
       "version_major": 2,
       "version_minor": 0
      },
      "text/plain": [
       "Output()"
      ]
     },
     "metadata": {},
     "output_type": "display_data"
    },
    {
     "data": {
      "application/vnd.jupyter.widget-view+json": {
       "model_id": "d3d35855834749c2a8737d8ef5843044",
       "version_major": 2,
       "version_minor": 0
      },
      "text/plain": [
       "Output()"
      ]
     },
     "metadata": {},
     "output_type": "display_data"
    },
    {
     "data": {
      "application/vnd.jupyter.widget-view+json": {
       "model_id": "4c25a9ae573340b59e8c3a2a8b68142b",
       "version_major": 2,
       "version_minor": 0
      },
      "text/plain": [
       "Output()"
      ]
     },
     "metadata": {},
     "output_type": "display_data"
    },
    {
     "data": {
      "application/vnd.jupyter.widget-view+json": {
       "model_id": "d4893df9c1c9480c957a4adf073069b0",
       "version_major": 2,
       "version_minor": 0
      },
      "text/plain": [
       "Output()"
      ]
     },
     "metadata": {},
     "output_type": "display_data"
    },
    {
     "data": {
      "application/vnd.jupyter.widget-view+json": {
       "model_id": "44bb6dde76cf4e508203c6cf2dbf8f3c",
       "version_major": 2,
       "version_minor": 0
      },
      "text/plain": [
       "Output()"
      ]
     },
     "metadata": {},
     "output_type": "display_data"
    },
    {
     "data": {
      "application/vnd.jupyter.widget-view+json": {
       "model_id": "879a4adb5ee445d580a567db13e02abf",
       "version_major": 2,
       "version_minor": 0
      },
      "text/plain": [
       "Output()"
      ]
     },
     "metadata": {},
     "output_type": "display_data"
    },
    {
     "data": {
      "application/vnd.jupyter.widget-view+json": {
       "model_id": "320aae68ca3f40b89dc3a9c1d39f9dcf",
       "version_major": 2,
       "version_minor": 0
      },
      "text/plain": [
       "Output()"
      ]
     },
     "metadata": {},
     "output_type": "display_data"
    },
    {
     "data": {
      "application/vnd.jupyter.widget-view+json": {
       "model_id": "0dd539abbf2345ec8092929967e23951",
       "version_major": 2,
       "version_minor": 0
      },
      "text/plain": [
       "Output()"
      ]
     },
     "metadata": {},
     "output_type": "display_data"
    },
    {
     "data": {
      "application/vnd.jupyter.widget-view+json": {
       "model_id": "5013f1ef196144fb8334d5d828ddb806",
       "version_major": 2,
       "version_minor": 0
      },
      "text/plain": [
       "Output()"
      ]
     },
     "metadata": {},
     "output_type": "display_data"
    },
    {
     "data": {
      "application/vnd.jupyter.widget-view+json": {
       "model_id": "46384f8b85664d46803da03abb23c666",
       "version_major": 2,
       "version_minor": 0
      },
      "text/plain": [
       "Output()"
      ]
     },
     "metadata": {},
     "output_type": "display_data"
    },
    {
     "data": {
      "application/vnd.jupyter.widget-view+json": {
       "model_id": "4e85631180364b69afd1a038b9b744b6",
       "version_major": 2,
       "version_minor": 0
      },
      "text/plain": [
       "Output()"
      ]
     },
     "metadata": {},
     "output_type": "display_data"
    },
    {
     "data": {
      "application/vnd.jupyter.widget-view+json": {
       "model_id": "5a1117f0d0504c18bf8420a542d17ec8",
       "version_major": 2,
       "version_minor": 0
      },
      "text/plain": [
       "Output()"
      ]
     },
     "metadata": {},
     "output_type": "display_data"
    },
    {
     "data": {
      "application/vnd.jupyter.widget-view+json": {
       "model_id": "45a9893a74384bafb5282e628e130509",
       "version_major": 2,
       "version_minor": 0
      },
      "text/plain": [
       "Output()"
      ]
     },
     "metadata": {},
     "output_type": "display_data"
    },
    {
     "data": {
      "application/vnd.jupyter.widget-view+json": {
       "model_id": "528d7dc0f6ea42b188d3a49528b4a964",
       "version_major": 2,
       "version_minor": 0
      },
      "text/plain": [
       "Output()"
      ]
     },
     "metadata": {},
     "output_type": "display_data"
    },
    {
     "data": {
      "application/vnd.jupyter.widget-view+json": {
       "model_id": "da664e51e2554acb8cafa35d71534eae",
       "version_major": 2,
       "version_minor": 0
      },
      "text/plain": [
       "Output()"
      ]
     },
     "metadata": {},
     "output_type": "display_data"
    },
    {
     "data": {
      "application/vnd.jupyter.widget-view+json": {
       "model_id": "6c323b207bed453083cf32f87b09bb50",
       "version_major": 2,
       "version_minor": 0
      },
      "text/plain": [
       "Output()"
      ]
     },
     "metadata": {},
     "output_type": "display_data"
    },
    {
     "data": {
      "application/vnd.jupyter.widget-view+json": {
       "model_id": "2de61969892d4d4e83360b9f2c533cb7",
       "version_major": 2,
       "version_minor": 0
      },
      "text/plain": [
       "Output()"
      ]
     },
     "metadata": {},
     "output_type": "display_data"
    },
    {
     "data": {
      "application/vnd.jupyter.widget-view+json": {
       "model_id": "e5a5056ac7194b92ae6fac4fa18438a3",
       "version_major": 2,
       "version_minor": 0
      },
      "text/plain": [
       "Output()"
      ]
     },
     "metadata": {},
     "output_type": "display_data"
    },
    {
     "data": {
      "application/vnd.jupyter.widget-view+json": {
       "model_id": "28c5b9d7bfdc4bcab50a39ec411d1858",
       "version_major": 2,
       "version_minor": 0
      },
      "text/plain": [
       "Output()"
      ]
     },
     "metadata": {},
     "output_type": "display_data"
    },
    {
     "data": {
      "application/vnd.jupyter.widget-view+json": {
       "model_id": "095299744ae04fd9ae9f62f1eda73d83",
       "version_major": 2,
       "version_minor": 0
      },
      "text/plain": [
       "Output()"
      ]
     },
     "metadata": {},
     "output_type": "display_data"
    },
    {
     "data": {
      "application/vnd.jupyter.widget-view+json": {
       "model_id": "15a3569d96d14d899b6c09f6544348fd",
       "version_major": 2,
       "version_minor": 0
      },
      "text/plain": [
       "Output()"
      ]
     },
     "metadata": {},
     "output_type": "display_data"
    },
    {
     "data": {
      "application/vnd.jupyter.widget-view+json": {
       "model_id": "dbfe2579f01645a2824fecc5fd95ea7c",
       "version_major": 2,
       "version_minor": 0
      },
      "text/plain": [
       "Output()"
      ]
     },
     "metadata": {},
     "output_type": "display_data"
    },
    {
     "data": {
      "application/vnd.jupyter.widget-view+json": {
       "model_id": "8f97c231d9914003b35feead617f0a33",
       "version_major": 2,
       "version_minor": 0
      },
      "text/plain": [
       "Output()"
      ]
     },
     "metadata": {},
     "output_type": "display_data"
    },
    {
     "data": {
      "application/vnd.jupyter.widget-view+json": {
       "model_id": "0f37d22920fc495da3480c8a55f2650e",
       "version_major": 2,
       "version_minor": 0
      },
      "text/plain": [
       "Output()"
      ]
     },
     "metadata": {},
     "output_type": "display_data"
    },
    {
     "data": {
      "application/vnd.jupyter.widget-view+json": {
       "model_id": "cba6908642d64b3daad2d8ad562c2a27",
       "version_major": 2,
       "version_minor": 0
      },
      "text/plain": [
       "Output()"
      ]
     },
     "metadata": {},
     "output_type": "display_data"
    },
    {
     "data": {
      "application/vnd.jupyter.widget-view+json": {
       "model_id": "8f2e0db5411d4e81bf61d6f32528878e",
       "version_major": 2,
       "version_minor": 0
      },
      "text/plain": [
       "Output()"
      ]
     },
     "metadata": {},
     "output_type": "display_data"
    },
    {
     "data": {
      "application/vnd.jupyter.widget-view+json": {
       "model_id": "a9e81e963cb949d2a19d51f6625ff531",
       "version_major": 2,
       "version_minor": 0
      },
      "text/plain": [
       "Output()"
      ]
     },
     "metadata": {},
     "output_type": "display_data"
    },
    {
     "data": {
      "application/vnd.jupyter.widget-view+json": {
       "model_id": "43734ad47ba0438f9858d9b2aa6dad15",
       "version_major": 2,
       "version_minor": 0
      },
      "text/plain": [
       "Output()"
      ]
     },
     "metadata": {},
     "output_type": "display_data"
    },
    {
     "data": {
      "application/vnd.jupyter.widget-view+json": {
       "model_id": "b8177ccb36d74a74a626ae2a5d88aef6",
       "version_major": 2,
       "version_minor": 0
      },
      "text/plain": [
       "Output()"
      ]
     },
     "metadata": {},
     "output_type": "display_data"
    },
    {
     "data": {
      "application/vnd.jupyter.widget-view+json": {
       "model_id": "e6f7f4c9c9a443b28fbc168d574c9762",
       "version_major": 2,
       "version_minor": 0
      },
      "text/plain": [
       "Output()"
      ]
     },
     "metadata": {},
     "output_type": "display_data"
    },
    {
     "data": {
      "application/vnd.jupyter.widget-view+json": {
       "model_id": "7f40cbbec582420c862a586e292be938",
       "version_major": 2,
       "version_minor": 0
      },
      "text/plain": [
       "Output()"
      ]
     },
     "metadata": {},
     "output_type": "display_data"
    },
    {
     "data": {
      "application/vnd.jupyter.widget-view+json": {
       "model_id": "d72126d9e946483e878b7bb7ae27c62f",
       "version_major": 2,
       "version_minor": 0
      },
      "text/plain": [
       "Output()"
      ]
     },
     "metadata": {},
     "output_type": "display_data"
    },
    {
     "data": {
      "application/vnd.jupyter.widget-view+json": {
       "model_id": "6580c1f3b54548569749d8343cbed160",
       "version_major": 2,
       "version_minor": 0
      },
      "text/plain": [
       "Output()"
      ]
     },
     "metadata": {},
     "output_type": "display_data"
    },
    {
     "data": {
      "application/vnd.jupyter.widget-view+json": {
       "model_id": "4e020809b7a9451eae441c8ecdf4804f",
       "version_major": 2,
       "version_minor": 0
      },
      "text/plain": [
       "Output()"
      ]
     },
     "metadata": {},
     "output_type": "display_data"
    },
    {
     "data": {
      "application/vnd.jupyter.widget-view+json": {
       "model_id": "11ae54f5935c481193dd205b8c648c57",
       "version_major": 2,
       "version_minor": 0
      },
      "text/plain": [
       "Output()"
      ]
     },
     "metadata": {},
     "output_type": "display_data"
    },
    {
     "data": {
      "application/vnd.jupyter.widget-view+json": {
       "model_id": "a8344e9c427f4654a5ba3d6e8bd72a5a",
       "version_major": 2,
       "version_minor": 0
      },
      "text/plain": [
       "Output()"
      ]
     },
     "metadata": {},
     "output_type": "display_data"
    },
    {
     "data": {
      "application/vnd.jupyter.widget-view+json": {
       "model_id": "aec0cf360f3d4bef80d87e9f201581b0",
       "version_major": 2,
       "version_minor": 0
      },
      "text/plain": [
       "Output()"
      ]
     },
     "metadata": {},
     "output_type": "display_data"
    },
    {
     "data": {
      "application/vnd.jupyter.widget-view+json": {
       "model_id": "03747125a7e947319ffe4a8cb76faf49",
       "version_major": 2,
       "version_minor": 0
      },
      "text/plain": [
       "Output()"
      ]
     },
     "metadata": {},
     "output_type": "display_data"
    },
    {
     "data": {
      "application/vnd.jupyter.widget-view+json": {
       "model_id": "53ec60f8e9364b2184ff259312d18f3b",
       "version_major": 2,
       "version_minor": 0
      },
      "text/plain": [
       "Output()"
      ]
     },
     "metadata": {},
     "output_type": "display_data"
    },
    {
     "data": {
      "application/vnd.jupyter.widget-view+json": {
       "model_id": "cb0a80bf67ef4c7caf1e4f6aa6db1a19",
       "version_major": 2,
       "version_minor": 0
      },
      "text/plain": [
       "Output()"
      ]
     },
     "metadata": {},
     "output_type": "display_data"
    },
    {
     "data": {
      "application/vnd.jupyter.widget-view+json": {
       "model_id": "3e91ad0402544b01912daca43800cfe6",
       "version_major": 2,
       "version_minor": 0
      },
      "text/plain": [
       "Output()"
      ]
     },
     "metadata": {},
     "output_type": "display_data"
    },
    {
     "data": {
      "application/vnd.jupyter.widget-view+json": {
       "model_id": "7f704060bcf548babf436cd1dcf5742f",
       "version_major": 2,
       "version_minor": 0
      },
      "text/plain": [
       "Output()"
      ]
     },
     "metadata": {},
     "output_type": "display_data"
    },
    {
     "data": {
      "application/vnd.jupyter.widget-view+json": {
       "model_id": "ae80c377e2cb47c8bfdd8a39588c95a5",
       "version_major": 2,
       "version_minor": 0
      },
      "text/plain": [
       "Output()"
      ]
     },
     "metadata": {},
     "output_type": "display_data"
    },
    {
     "data": {
      "application/vnd.jupyter.widget-view+json": {
       "model_id": "59963e6cc8764e2ba668a240e1dea036",
       "version_major": 2,
       "version_minor": 0
      },
      "text/plain": [
       "Output()"
      ]
     },
     "metadata": {},
     "output_type": "display_data"
    },
    {
     "data": {
      "application/vnd.jupyter.widget-view+json": {
       "model_id": "4792bced8b8c4c4baac3c2830b1170a6",
       "version_major": 2,
       "version_minor": 0
      },
      "text/plain": [
       "Output()"
      ]
     },
     "metadata": {},
     "output_type": "display_data"
    },
    {
     "data": {
      "application/vnd.jupyter.widget-view+json": {
       "model_id": "2ef1639b5c8c4fd1a051645a7769cb73",
       "version_major": 2,
       "version_minor": 0
      },
      "text/plain": [
       "Output()"
      ]
     },
     "metadata": {},
     "output_type": "display_data"
    },
    {
     "data": {
      "application/vnd.jupyter.widget-view+json": {
       "model_id": "ec23bd91aece4501a6432da7577b482a",
       "version_major": 2,
       "version_minor": 0
      },
      "text/plain": [
       "Output()"
      ]
     },
     "metadata": {},
     "output_type": "display_data"
    },
    {
     "data": {
      "application/vnd.jupyter.widget-view+json": {
       "model_id": "989b144ae34644f3990f96e4bd8daa4b",
       "version_major": 2,
       "version_minor": 0
      },
      "text/plain": [
       "Output()"
      ]
     },
     "metadata": {},
     "output_type": "display_data"
    }
   ],
   "source": [
    "eval_results = await batch_runner.aevaluate_responses(\n",
    "    queries=eval_qs,\n",
    "    responses=pred_responses,\n",
    "    reference=ref_response_strs,\n",
    ")"
   ]
  },
  {
   "cell_type": "code",
   "execution_count": 20,
   "metadata": {},
   "outputs": [],
   "source": [
    "from evaluation_utils import get_eval_results_df, get_summary_scores_df"
   ]
  },
  {
   "cell_type": "code",
   "execution_count": 21,
   "metadata": {},
   "outputs": [],
   "source": [
    "mean_df, sum_df = get_summary_scores_df(\n",
    "    [eval_results ],\n",
    "    [rag_strategy],\n",
    "    evaluators\n",
    ")"
   ]
  },
  {
   "cell_type": "code",
   "execution_count": 22,
   "metadata": {},
   "outputs": [],
   "source": [
    "if \"Correctness\" in evaluators:\n",
    "    correctness_df = get_eval_results_df(\n",
    "        list(responses_df['query_num']),\n",
    "        list(responses_df['expected_answer']),\n",
    "        eval_results[\"Correctness\"]\n",
    "    )\n",
    "    responses_df['correctness'] = correctness_df['score']\n",
    "\n",
    "if \"Faithfulness\" in evaluators:\n",
    "    faithfulness_df = get_eval_results_df(\n",
    "        list(responses_df['query_num']),\n",
    "        list(responses_df['expected_answer']),\n",
    "        eval_results[\"Faithfulness\"]\n",
    "    )\n",
    "    responses_df['faithfulness'] = faithfulness_df['score']\n",
    "\n",
    "if \"Answer_Relevancy\" in evaluators:\n",
    "    answer_relevancy_df = get_eval_results_df(\n",
    "        list(responses_df['query_num']),\n",
    "        list(responses_df['expected_answer']),\n",
    "        eval_results[\"Answer_Relevancy\"]\n",
    "    )\n",
    "    responses_df['answer_relevancy'] = answer_relevancy_df['score']\n",
    "\n",
    "if \"Context_Relevancy\" in evaluators:\n",
    "    context_relevancy_df = get_eval_results_df(\n",
    "        list(responses_df['query_num']),\n",
    "        list(responses_df['expected_answer']),\n",
    "        eval_results[\"Context_Relevancy\"]\n",
    "    )\n",
    "    responses_df['context_relevancy'] = context_relevancy_df['score']\n",
    "\n",
    "if \"Bias\" in evaluators:\n",
    "    bias_df = get_eval_results_df(\n",
    "        list(responses_df['query_num']),\n",
    "        list(responses_df['expected_answer']),\n",
    "        eval_results[\"Bias\"]\n",
    "    )\n",
    "    responses_df['bias'] = bias_df['score']\n",
    "\n",
    "if \"Toxicity\" in evaluators:\n",
    "    toxicity_df = get_eval_results_df(\n",
    "        list(responses_df['query_num']),\n",
    "        list(responses_df['expected_answer']),\n",
    "        eval_results[\"Toxicity\"]\n",
    "    )\n",
    "    responses_df['toxicity'] = toxicity_df['score']\n",
    "\n"
   ]
  },
  {
   "cell_type": "code",
   "execution_count": 23,
   "metadata": {},
   "outputs": [],
   "source": [
    "responses_df['rag_strategy'] = rag_strategy\n",
    "responses_df['parameter_1'] = similarity_top_k\n",
    "responses_df['parameter_2'] = \"\"\n",
    "responses_df['model'] = Settings.model\n",
    "responses_df['eval_model'] = Settings.eval_model\n",
    "responses_df['run_date'] = datetime.today().strftime('%Y-%m-%d') \n",
    "responses_df['eval_name'] = eval_name"
   ]
  },
  {
   "cell_type": "code",
   "execution_count": 24,
   "metadata": {},
   "outputs": [],
   "source": [
    "tokencount_df['eval_tokens' ] = [token_counter.total_llm_token_count]\n",
    "token_counter.reset_counts()"
   ]
  },
  {
   "cell_type": "code",
   "execution_count": 25,
   "metadata": {},
   "outputs": [],
   "source": [
    "with pd.ExcelWriter(f\"./evaluation/{run_id}.xlsx\") as writer:\n",
    "   responses_df.to_excel(writer, sheet_name=\"Responses\", index=False)\n",
    "   sources_df.to_excel(writer, sheet_name=\"Sources\", index=False)\n",
    "   \n",
    "   sum_df.to_excel(writer, sheet_name=\"Summary\", index=False, startrow=0 , startcol=0)\n",
    "   mean_df.to_excel(writer, sheet_name=\"Summary\", index=False,startrow=5, startcol=0)\n",
    "   \n",
    "  \n",
    "   if \"Correctness\" in evaluators:\n",
    "      correctness_df.to_excel(writer, sheet_name=\"Correctness\", index=False)\n",
    "   \n",
    "   if \"Faithfulness\" in evaluators:\n",
    "      faithfulness_df.to_excel(writer, sheet_name=\"Faithfulness\", index=False)\n",
    "\n",
    "   if \"Context_Relevancy\" in evaluators:\n",
    "      context_relevancy_df.to_excel(writer, sheet_name=\"Context_Relevancy\", index=False)\n",
    "   \n",
    "   if \"Answer_Relevancy\" in evaluators:\n",
    "      answer_relevancy_df.to_excel(writer, sheet_name=\"Answer_Relevancy\", index=False)\n",
    "   \n",
    "   if \"Bias\" in evaluators:\n",
    "      bias_df.to_excel(writer, sheet_name=\"Bias\", index=False)\n",
    "   \n",
    "   if \"Toxicity\" in evaluators:\n",
    "      toxicity_df.to_excel(writer, sheet_name=\"Toxicity\", index=False)\n",
    "   \n",
    "   tokencount_df.to_excel(writer, sheet_name=\"Token Counts\", index=False)\n"
   ]
  },
  {
   "cell_type": "markdown",
   "metadata": {},
   "source": []
  }
 ],
 "metadata": {
  "kernelspec": {
   "display_name": "base",
   "language": "python",
   "name": "python3"
  },
  "language_info": {
   "codemirror_mode": {
    "name": "ipython",
    "version": 3
   },
   "file_extension": ".py",
   "mimetype": "text/x-python",
   "name": "python",
   "nbconvert_exporter": "python",
   "pygments_lexer": "ipython3",
   "version": "3.11.5"
  }
 },
 "nbformat": 4,
 "nbformat_minor": 2
}
